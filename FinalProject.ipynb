{
  "nbformat": 4,
  "nbformat_minor": 0,
  "metadata": {
    "colab": {
      "name": "FinalProject.ipynb",
      "provenance": [],
      "collapsed_sections": [],
      "authorship_tag": "ABX9TyMO76hEpM3xgluBt+t96204",
      "include_colab_link": true
    },
    "kernelspec": {
      "name": "python3",
      "display_name": "Python 3"
    },
    "language_info": {
      "name": "python"
    }
  },
  "cells": [
    {
      "cell_type": "markdown",
      "metadata": {
        "id": "view-in-github",
        "colab_type": "text"
      },
      "source": [
        "<a href=\"https://colab.research.google.com/github/AndyK1345/Andrew-Kelly-Final-Project/blob/main/FinalProject.ipynb\" target=\"_parent\"><img src=\"https://colab.research.google.com/assets/colab-badge.svg\" alt=\"Open In Colab\"/></a>"
      ]
    },
    {
      "cell_type": "code",
      "metadata": {
        "colab": {
          "base_uri": "https://localhost:8080/",
          "height": 896
        },
        "id": "4kyuI8fXAizd",
        "outputId": "0276d604-dcef-4d24-86de-479f3d51c021"
      },
      "source": [
        "import requests\n",
        "from bs4 import BeautifulSoup\n",
        "import pandas as pd\n",
        "\n",
        "headers = {'User-Agent': \n",
        "           'Mozilla/5.0 (X11; Linux x86_64) AppleWebKit/537.36 (KHTML, like Gecko) Chrome/47.0.2526.106 Safari/537.36'}\n",
        "\n",
        "page = \"https://www.transfermarkt.co.uk/fc-arsenal/startseite/verein/11/saison_id/2021\"\n",
        "pageTree = requests.get(page, headers=headers)\n",
        "pageSoup = BeautifulSoup(pageTree.content, 'html.parser')\n",
        "\n",
        "\n",
        "Players = pageSoup.find_all(\"span\", {\"class\": \"show-for-small\"})\n",
        "Values = pageSoup.find_all(\"td\", {\"class\": \"rechts hauptlink\"})\n",
        "PlayersList = []\n",
        "ValuesList = []\n",
        "\n",
        "length = len(Players)\n",
        "\n",
        "for i in range(0,length):\n",
        "    PlayersList.append(Players[i].text)\n",
        "    ValuesList.append(Values[i].text)\n",
        "    \n",
        "df = pd.DataFrame({\"Players\":PlayersList,\"Values\":ValuesList})\n",
        "\n",
        "df"
      ],
      "execution_count": null,
      "outputs": [
        {
          "output_type": "execute_result",
          "data": {
            "text/html": [
              "\n",
              "  <div id=\"df-af24409b-8189-4094-b569-153962f2229e\">\n",
              "    <div class=\"colab-df-container\">\n",
              "      <div>\n",
              "<style scoped>\n",
              "    .dataframe tbody tr th:only-of-type {\n",
              "        vertical-align: middle;\n",
              "    }\n",
              "\n",
              "    .dataframe tbody tr th {\n",
              "        vertical-align: top;\n",
              "    }\n",
              "\n",
              "    .dataframe thead th {\n",
              "        text-align: right;\n",
              "    }\n",
              "</style>\n",
              "<table border=\"1\" class=\"dataframe\">\n",
              "  <thead>\n",
              "    <tr style=\"text-align: right;\">\n",
              "      <th></th>\n",
              "      <th>Players</th>\n",
              "      <th>Values</th>\n",
              "    </tr>\n",
              "  </thead>\n",
              "  <tbody>\n",
              "    <tr>\n",
              "      <th>0</th>\n",
              "      <td>A. Ramsdale</td>\n",
              "      <td>£22.50m</td>\n",
              "    </tr>\n",
              "    <tr>\n",
              "      <th>1</th>\n",
              "      <td>B. Leno</td>\n",
              "      <td>£14.40m</td>\n",
              "    </tr>\n",
              "    <tr>\n",
              "      <th>2</th>\n",
              "      <td>A. Okonkwo</td>\n",
              "      <td></td>\n",
              "    </tr>\n",
              "    <tr>\n",
              "      <th>3</th>\n",
              "      <td>Ben White</td>\n",
              "      <td>£36.00m</td>\n",
              "    </tr>\n",
              "    <tr>\n",
              "      <th>4</th>\n",
              "      <td>Gabriel</td>\n",
              "      <td>£22.50m</td>\n",
              "    </tr>\n",
              "    <tr>\n",
              "      <th>5</th>\n",
              "      <td>R. Holding</td>\n",
              "      <td>£10.80m</td>\n",
              "    </tr>\n",
              "    <tr>\n",
              "      <th>6</th>\n",
              "      <td>P. Marí</td>\n",
              "      <td>£4.50m</td>\n",
              "    </tr>\n",
              "    <tr>\n",
              "      <th>7</th>\n",
              "      <td>K. Tierney</td>\n",
              "      <td>£28.80m</td>\n",
              "    </tr>\n",
              "    <tr>\n",
              "      <th>8</th>\n",
              "      <td>N. Tavares</td>\n",
              "      <td>£11.70m</td>\n",
              "    </tr>\n",
              "    <tr>\n",
              "      <th>9</th>\n",
              "      <td>S. Kolasinac</td>\n",
              "      <td>£2.70m</td>\n",
              "    </tr>\n",
              "    <tr>\n",
              "      <th>10</th>\n",
              "      <td>T. Tomiyasu</td>\n",
              "      <td>£22.50m</td>\n",
              "    </tr>\n",
              "    <tr>\n",
              "      <th>11</th>\n",
              "      <td>C. Chambers</td>\n",
              "      <td>£10.80m</td>\n",
              "    </tr>\n",
              "    <tr>\n",
              "      <th>12</th>\n",
              "      <td>C. Soares</td>\n",
              "      <td>£4.50m</td>\n",
              "    </tr>\n",
              "    <tr>\n",
              "      <th>13</th>\n",
              "      <td>T. Partey</td>\n",
              "      <td>£36.00m</td>\n",
              "    </tr>\n",
              "    <tr>\n",
              "      <th>14</th>\n",
              "      <td>G. Xhaka</td>\n",
              "      <td>£18.00m</td>\n",
              "    </tr>\n",
              "    <tr>\n",
              "      <th>15</th>\n",
              "      <td>Mohamed Elneny</td>\n",
              "      <td>£8.10m</td>\n",
              "    </tr>\n",
              "    <tr>\n",
              "      <th>16</th>\n",
              "      <td>A. Lokonga</td>\n",
              "      <td>£14.40m</td>\n",
              "    </tr>\n",
              "    <tr>\n",
              "      <th>17</th>\n",
              "      <td>A. Maitland-Niles</td>\n",
              "      <td>£10.80m</td>\n",
              "    </tr>\n",
              "    <tr>\n",
              "      <th>18</th>\n",
              "      <td>B. Saka</td>\n",
              "      <td>£58.50m</td>\n",
              "    </tr>\n",
              "    <tr>\n",
              "      <th>19</th>\n",
              "      <td>M. Ødegaard</td>\n",
              "      <td>£37.80m</td>\n",
              "    </tr>\n",
              "    <tr>\n",
              "      <th>20</th>\n",
              "      <td>E. Smith Rowe</td>\n",
              "      <td>£34.20m</td>\n",
              "    </tr>\n",
              "    <tr>\n",
              "      <th>21</th>\n",
              "      <td>G. Martinelli</td>\n",
              "      <td>£25.20m</td>\n",
              "    </tr>\n",
              "    <tr>\n",
              "      <th>22</th>\n",
              "      <td>N. Pépé</td>\n",
              "      <td>£27.00m</td>\n",
              "    </tr>\n",
              "    <tr>\n",
              "      <th>23</th>\n",
              "      <td>A. Lacazette</td>\n",
              "      <td>£18.00m</td>\n",
              "    </tr>\n",
              "    <tr>\n",
              "      <th>24</th>\n",
              "      <td>P. Aubameyang</td>\n",
              "      <td>£13.50m</td>\n",
              "    </tr>\n",
              "    <tr>\n",
              "      <th>25</th>\n",
              "      <td>E. Nketiah</td>\n",
              "      <td>£9.00m</td>\n",
              "    </tr>\n",
              "    <tr>\n",
              "      <th>26</th>\n",
              "      <td>F. Balogun</td>\n",
              "      <td>£3.60m</td>\n",
              "    </tr>\n",
              "  </tbody>\n",
              "</table>\n",
              "</div>\n",
              "      <button class=\"colab-df-convert\" onclick=\"convertToInteractive('df-af24409b-8189-4094-b569-153962f2229e')\"\n",
              "              title=\"Convert this dataframe to an interactive table.\"\n",
              "              style=\"display:none;\">\n",
              "        \n",
              "  <svg xmlns=\"http://www.w3.org/2000/svg\" height=\"24px\"viewBox=\"0 0 24 24\"\n",
              "       width=\"24px\">\n",
              "    <path d=\"M0 0h24v24H0V0z\" fill=\"none\"/>\n",
              "    <path d=\"M18.56 5.44l.94 2.06.94-2.06 2.06-.94-2.06-.94-.94-2.06-.94 2.06-2.06.94zm-11 1L8.5 8.5l.94-2.06 2.06-.94-2.06-.94L8.5 2.5l-.94 2.06-2.06.94zm10 10l.94 2.06.94-2.06 2.06-.94-2.06-.94-.94-2.06-.94 2.06-2.06.94z\"/><path d=\"M17.41 7.96l-1.37-1.37c-.4-.4-.92-.59-1.43-.59-.52 0-1.04.2-1.43.59L10.3 9.45l-7.72 7.72c-.78.78-.78 2.05 0 2.83L4 21.41c.39.39.9.59 1.41.59.51 0 1.02-.2 1.41-.59l7.78-7.78 2.81-2.81c.8-.78.8-2.07 0-2.86zM5.41 20L4 18.59l7.72-7.72 1.47 1.35L5.41 20z\"/>\n",
              "  </svg>\n",
              "      </button>\n",
              "      \n",
              "  <style>\n",
              "    .colab-df-container {\n",
              "      display:flex;\n",
              "      flex-wrap:wrap;\n",
              "      gap: 12px;\n",
              "    }\n",
              "\n",
              "    .colab-df-convert {\n",
              "      background-color: #E8F0FE;\n",
              "      border: none;\n",
              "      border-radius: 50%;\n",
              "      cursor: pointer;\n",
              "      display: none;\n",
              "      fill: #1967D2;\n",
              "      height: 32px;\n",
              "      padding: 0 0 0 0;\n",
              "      width: 32px;\n",
              "    }\n",
              "\n",
              "    .colab-df-convert:hover {\n",
              "      background-color: #E2EBFA;\n",
              "      box-shadow: 0px 1px 2px rgba(60, 64, 67, 0.3), 0px 1px 3px 1px rgba(60, 64, 67, 0.15);\n",
              "      fill: #174EA6;\n",
              "    }\n",
              "\n",
              "    [theme=dark] .colab-df-convert {\n",
              "      background-color: #3B4455;\n",
              "      fill: #D2E3FC;\n",
              "    }\n",
              "\n",
              "    [theme=dark] .colab-df-convert:hover {\n",
              "      background-color: #434B5C;\n",
              "      box-shadow: 0px 1px 3px 1px rgba(0, 0, 0, 0.15);\n",
              "      filter: drop-shadow(0px 1px 2px rgba(0, 0, 0, 0.3));\n",
              "      fill: #FFFFFF;\n",
              "    }\n",
              "  </style>\n",
              "\n",
              "      <script>\n",
              "        const buttonEl =\n",
              "          document.querySelector('#df-af24409b-8189-4094-b569-153962f2229e button.colab-df-convert');\n",
              "        buttonEl.style.display =\n",
              "          google.colab.kernel.accessAllowed ? 'block' : 'none';\n",
              "\n",
              "        async function convertToInteractive(key) {\n",
              "          const element = document.querySelector('#df-af24409b-8189-4094-b569-153962f2229e');\n",
              "          const dataTable =\n",
              "            await google.colab.kernel.invokeFunction('convertToInteractive',\n",
              "                                                     [key], {});\n",
              "          if (!dataTable) return;\n",
              "\n",
              "          const docLinkHtml = 'Like what you see? Visit the ' +\n",
              "            '<a target=\"_blank\" href=https://colab.research.google.com/notebooks/data_table.ipynb>data table notebook</a>'\n",
              "            + ' to learn more about interactive tables.';\n",
              "          element.innerHTML = '';\n",
              "          dataTable['output_type'] = 'display_data';\n",
              "          await google.colab.output.renderOutput(dataTable, element);\n",
              "          const docLink = document.createElement('div');\n",
              "          docLink.innerHTML = docLinkHtml;\n",
              "          element.appendChild(docLink);\n",
              "        }\n",
              "      </script>\n",
              "    </div>\n",
              "  </div>\n",
              "  "
            ],
            "text/plain": [
              "              Players     Values\n",
              "0         A. Ramsdale  £22.50m  \n",
              "1             B. Leno  £14.40m  \n",
              "2          A. Okonkwo           \n",
              "3           Ben White  £36.00m  \n",
              "4             Gabriel  £22.50m  \n",
              "5          R. Holding  £10.80m  \n",
              "6             P. Marí   £4.50m  \n",
              "7          K. Tierney  £28.80m  \n",
              "8          N. Tavares  £11.70m  \n",
              "9        S. Kolasinac   £2.70m  \n",
              "10        T. Tomiyasu  £22.50m  \n",
              "11        C. Chambers  £10.80m  \n",
              "12          C. Soares   £4.50m  \n",
              "13          T. Partey  £36.00m  \n",
              "14           G. Xhaka  £18.00m  \n",
              "15     Mohamed Elneny   £8.10m  \n",
              "16         A. Lokonga  £14.40m  \n",
              "17  A. Maitland-Niles  £10.80m  \n",
              "18            B. Saka  £58.50m  \n",
              "19        M. Ødegaard  £37.80m  \n",
              "20      E. Smith Rowe  £34.20m  \n",
              "21      G. Martinelli  £25.20m  \n",
              "22            N. Pépé  £27.00m  \n",
              "23       A. Lacazette  £18.00m  \n",
              "24      P. Aubameyang  £13.50m  \n",
              "25         E. Nketiah   £9.00m  \n",
              "26         F. Balogun   £3.60m  "
            ]
          },
          "metadata": {},
          "execution_count": 2
        }
      ]
    },
    {
      "cell_type": "code",
      "source": [
        "import requests\n",
        "from bs4 import BeautifulSoup as bs\n",
        "import csv\n",
        "import re\n",
        "import time\n",
        "\n",
        "def data_to_csv(data):\n",
        "    keys = data[0].keys()\n",
        "    with open('fees2020a', 'w', newline='')  as output_file:\n",
        "        dict_writer = csv.DictWriter(output_file, keys)\n",
        "        dict_writer.writeheader()\n",
        "        dict_writer.writerows(data)\n",
        "\n",
        "def format_text(text):\n",
        "    regex = re.compile(r'[\\n\\r\\t]')\n",
        "    text = regex.sub('', text)\n",
        "\n",
        "    return \" \".join(text.split())\n",
        "\n",
        "def format_currency(value):\n",
        "\n",
        "    value = value.replace('€', '')\n",
        "    value = value.replace('Loan fee:', '')\n",
        "    \n",
        "    if value[-1] == 'm':\n",
        "        value = value.replace('m', '')\n",
        "        return int(float(value)) * 1000000\n",
        "\n",
        "    if value[-1] == '.':\n",
        "        value = value.replace('.', '')\n",
        "        if value[-2:] == 'Th':\n",
        "            value = value.replace('Th', '')\n",
        "            return int(value) * 1000\n",
        "    \n",
        "    return value\n",
        "\n",
        "def get_data(pages):\n",
        "    players_list = []\n",
        "    for page in range(1, pages+1):\n",
        "        headers = {\"User-Agent\":\"Mozilla/5.0 (Macintosh; Intel Mac OS X 10_15_4) AppleWebKit/537.36 (KHTML, like Gecko) Chrome/83.0.4103.97 Safari/537.36\"}\n",
        "\n",
        "        url  = f'https://www.transfermarkt.com/transfers/saisontransfers/statistik/top/plus/1/galerie/0?saison_id=2020&transferfenster=alle&land_id=&ausrichtung=&spielerposition_id=&altersklasse=&leihe='\n",
        "\n",
        "        print('scraping')\n",
        "        print(url)\n",
        "\n",
        "        html = requests.get(url, headers=headers)\n",
        "        soup = bs(html.content)\n",
        "\n",
        "        soup = soup.select('.responsive-table > .grid-view > .items > tbody')[0]\n",
        "\n",
        "        try:\n",
        "            for cells in soup.find_all(True, {\"class\": re.compile(\"^(even|odd)$\")}):\n",
        "                fee = cells.find_all('td')[16].text\n",
        "                position = cells.find_all('td')[4].text\n",
        "                age = cells.find_all('td')[5].text\n",
        "                market_value = cells.find_all('td')[6].text\n",
        "                country_from = cells.find_all('td')[11].img['title']\n",
        "                league_from = cells.find_all('td')[11].a.text if cells.find_all('td')[11].a != None else 'Without League'\n",
        "                club_from = cells.find_all('td')[9].img['alt']\n",
        "                country_to = cells.find_all('td')[15].img['alt']\n",
        "                league_to = cells.find_all('td')[15].a.text if cells.find_all('td')[15].a != None else 'Without League'\n",
        "                club_to = cells.find_all('td')[13].img['alt']\n",
        "\n",
        "                player = {\n",
        "                    'name': cells.find_all('td')[1].select('td > img')[0]['title'],\n",
        "                    'position': position,\n",
        "                    'age': age,\n",
        "                    'market_value': format_currency(market_value),\n",
        "                    'country_from': country_from,\n",
        "                    'league_from': format_text(league_from),\n",
        "                    'club_from': club_from,\n",
        "                    'country_to': country_to,\n",
        "                    'league_to': format_text(league_to),\n",
        "                    'club_to': club_to,\n",
        "                    'fee': format_currency(fee),\n",
        "                }\n",
        "\n",
        "                players_list.append(player)\n",
        "        except IndexError:\n",
        "            pass\n",
        "\n",
        "    return players_list\n",
        "\n",
        "    data = get_data(10)\n",
        "\n",
        "    data_to_csv(data)          "
      ],
      "metadata": {
        "id": "kdtWqnoDX5uI"
      },
      "execution_count": null,
      "outputs": []
    },
    {
      "cell_type": "code",
      "source": [
        "import requests\n",
        "from bs4 import BeautifulSoup as bs\n",
        "import csv\n",
        "import re\n",
        "\n",
        "def data_to_csv(data):\n",
        "    keys = data[0].keys()\n",
        "    with open('fee2020a.csv', 'w', newline='') as output_file:\n",
        "        dict_writer = csv.DictWriter(output_file, keys)\n",
        "        dict_writer.writeheader()\n",
        "        dict_writer.writerows(data)\n",
        "\n",
        "\n",
        "def format_text(text):\n",
        "    regex = re.compile(r'[\\n\\r\\t]')\n",
        "    text = regex.sub('', text)\n",
        "\n",
        "    return \" \".join(text.split())\n",
        "\n",
        "\n",
        "def format_currency(value):\n",
        "    value = value.replace('€', '')\n",
        "    value = value.replace('Loan fee:', '')\n",
        "\n",
        "    if value[-1] == 'm':\n",
        "        value = value.replace('m', '')\n",
        "        return int(float(value)) * 1000000\n",
        "\n",
        "    if value[-1] == '.':\n",
        "        value = value.replace('.', '')\n",
        "        if value[-2:] == 'Th':\n",
        "            value = value.replace('Th', '')\n",
        "            return int(value) * 1000\n",
        "\n",
        "    return value\n",
        "\n",
        "\n",
        "def get_data(pages):\n",
        "    players_list = []\n",
        "    for page in range(1, pages + 1):\n",
        "        headers = {\n",
        "            \"User-Agent\": \"Mozilla/5.0 (Macintosh; Intel Mac OS X 10_15_4) AppleWebKit/537.36 (KHTML, like Gecko) Chrome/83.0.4103.97 Safari/537.36\"}\n",
        "\n",
        "        url = 'https://www.transfermarkt.com/transfers/saisontransfers/statistik/top/plus/0/galerie/0?saison_id=2020&transferfenster=alle&land_id=&ausrichtung=&spielerposition_id=&altersklasse=&leihe='\n",
        "\n",
        "        print(url)\n",
        "\n",
        "        html = requests.get(url, headers=headers)\n",
        "        soup = bs(html.content)\n",
        "\n",
        "        soup = soup.select('.responsive-table > .grid-view > .items > tbody')[0]\n",
        "\n",
        "        try:\n",
        "            for cells in soup.find_all(True, {\"class\": re.compile(\"^(even|odd)$\")}):\n",
        "                fee = cells.find_all('td')[16].text\n",
        "                position = cells.find_all('td')[4].text\n",
        "                age = cells.find_all('td')[5].text\n",
        "                market_value = cells.find_all('td')[6].text\n",
        "                country_from = cells.find_all('td')[11].img['title']\n",
        "                league_from = cells.find_all('td')[11].a.text if cells.find_all('td')[11].a != None else 'Without League'\n",
        "                club_from = cells.find_all('td')[9].img['alt']\n",
        "                country_to = cells.find_all('td')[15].img['alt']\n",
        "                league_to = cells.find_all('td')[15].a.text if cells.find_all('td')[15].a != None else 'Without League'\n",
        "                club_to = cells.find_all('td')[13].img['alt']\n",
        "\n",
        "                player = {\n",
        "                    'name': cells.find_all('td')[1].select('td > img')[0]['title'],\n",
        "                    'position': position,\n",
        "                    'age': age,\n",
        "                    'market_value': format_currency(market_value),\n",
        "                    'country_from': country_from,\n",
        "                    'league_from': format_text(league_from),\n",
        "                    'club_from': club_from,\n",
        "                    'country_to': country_to,\n",
        "                    'league_to': format_text(league_to),\n",
        "                    'club_to': club_to,\n",
        "                    'fee': format_currency(fee),\n",
        "                }\n",
        "\n",
        "                players_list.append(player)\n",
        "        except IndexError:\n",
        "            pass\n",
        "\n",
        "    return players_list\n",
        "\n",
        "\n",
        "data = get_data(10)\n",
        "data_to_csv(data)\n"
      ],
      "metadata": {
        "id": "H8mTfj6QT1cJ"
      },
      "execution_count": null,
      "outputs": []
    },
    {
      "cell_type": "code",
      "source": [
        "import requests\n",
        "from bs4 import BeautifulSoup as bs\n",
        "import csv\n",
        "import re\n",
        "import time\n",
        "\n",
        "def data_to_csv(data):\n",
        "    keys = data[0].keys()\n",
        "    with open('fee2021.csv', 'w', newline='')  as output_file:\n",
        "        dict_writer = csv.DictWriter(output_file, keys)\n",
        "        dict_writer.writeheader()\n",
        "        dict_writer.writerows(data)\n",
        "\n",
        "def format_text(text):\n",
        "    regex = re.compile(r'[\\n\\r\\t]')\n",
        "    text = regex.sub('', text)\n",
        "\n",
        "    return \" \".join(text.split())\n",
        "\n",
        "def format_currency(value):\n",
        "\n",
        "    value = value.replace('€', '')\n",
        "    value = value.replace('Loan fee:', '')\n",
        "    \n",
        "    if value[-1] == 'm':\n",
        "        value = value.replace('m', '')\n",
        "        return int(float(value)) * 1000000\n",
        "\n",
        "    if value[-1] == '.':\n",
        "        value = value.replace('.', '')\n",
        "        if value[-2:] == 'Th':\n",
        "            value = value.replace('Th', '')\n",
        "            return int(value) * 1000\n",
        "    \n",
        "    return value\n",
        "\n",
        "def get_data(pages):\n",
        "    players_list = []\n",
        "    for page in range(1, pages+1):\n",
        "        headers = {\"User-Agent\":\"Mozilla/5.0 (Macintosh; Intel Mac OS X 10_15_4) AppleWebKit/537.36 (KHTML, like Gecko) Chrome/83.0.4103.97 Safari/537.36\"}\n",
        "\n",
        "        url  = f'https://www.transfermarkt.com/transfers/saisontransfers/statistik?ajax=yw0&altersklasse=&ausrichtung=&land_id=0&leihe=&page={page}&plus=1&saison-id=2020&spielerposition_id=&transferfenster='\n",
        "\n",
        "        print('scraping')\n",
        "        print(url)\n",
        "\n",
        "        html = requests.get(url, headers=headers)\n",
        "        soup = bs(html.content)\n",
        "\n",
        "        soup = soup.select('.responsive-table > .grid-view > .items > tbody')[0]\n",
        "\n",
        "        try:\n",
        "            for cells in soup.find_all(True, {\"class\": re.compile(\"^(even|odd)$\")}):\n",
        "                fee = cells.find_all('td')[16].text\n",
        "                position = cells.find_all('td')[4].text\n",
        "                age = cells.find_all('td')[5].text\n",
        "                market_value = cells.find_all('td')[6].text\n",
        "                country_from = cells.find_all('td')[11].img['title']\n",
        "                league_from = cells.find_all('td')[11].a.text if cells.find_all('td')[11].a != None else 'Without League'\n",
        "                club_from = cells.find_all('td')[9].img['alt']\n",
        "                country_to = cells.find_all('td')[15].img['alt']\n",
        "                league_to = cells.find_all('td')[15].a.text if cells.find_all('td')[15].a != None else 'Without League'\n",
        "                club_to = cells.find_all('td')[13].img['alt']\n",
        "\n",
        "                player = {\n",
        "                    'name': cells.find_all('td')[1].select('td > img')[0]['title'],\n",
        "                    'position': position,\n",
        "                    'age': age,\n",
        "                    'market_value': format_currency(market_value),\n",
        "                    'country_from': country_from,\n",
        "                    'league_from': format_text(league_from),\n",
        "                    'club_from': club_from,\n",
        "                    'country_to': country_to,\n",
        "                    'league_to': format_text(league_to),\n",
        "                    'club_to': club_to,\n",
        "                    'fee': format_currency(fee),\n",
        "                }\n",
        "\n",
        "                players_list.append(player)\n",
        "        except IndexError:\n",
        "            pass\n",
        "\n",
        "    return players_list\n",
        "\n",
        "data = get_data(20)\n",
        "\n",
        "data_to_csv(data)"
      ],
      "metadata": {
        "id": "zEVVJlWBE7HV"
      },
      "execution_count": null,
      "outputs": []
    },
    {
      "cell_type": "code",
      "source": [
        "import requests\n",
        "from bs4 import BeautifulSoup as bs\n",
        "import csv\n",
        "import re\n",
        "import time\n",
        "\n",
        "def data_to_csv(data):\n",
        "    keys = data[0].keys()\n",
        "    with open('fee2020b.csv', 'w', newline='')  as output_file:\n",
        "        dict_writer = csv.DictWriter(output_file, keys)\n",
        "        dict_writer.writeheader()\n",
        "        dict_writer.writerows(data)\n",
        "\n",
        "def format_text(text):\n",
        "    regex = re.compile(r'[\\n\\r\\t]')\n",
        "    text = regex.sub('', text)\n",
        "\n",
        "    return \" \".join(text.split())\n",
        "\n",
        "def format_currency(value):\n",
        "\n",
        "    value = value.replace('€', '')\n",
        "    value = value.replace('Loan fee:', '')\n",
        "    \n",
        "    if value[-1] == 'm':\n",
        "        value = value.replace('m', '')\n",
        "        return int(float(value)) * 1000000\n",
        "\n",
        "    if value[-1] == '.':\n",
        "        value = value.replace('.', '')\n",
        "        if value[-2:] == 'Th':\n",
        "            value = value.replace('Th', '')\n",
        "            return int(value) * 1000\n",
        "    \n",
        "    return value\n",
        "\n",
        "def get_data(pages):\n",
        "    players_list = []\n",
        "    for page in range(1, pages+1):\n",
        "        headers = {\"User-Agent\":\"Mozilla/5.0 (Macintosh; Intel Mac OS X 10_15_4) AppleWebKit/537.36 (KHTML, like Gecko) Chrome/83.0.4103.97 Safari/537.36\"}\n",
        "\n",
        "        url  = f'https://www.transfermarkt.com/transfers/saisontransfers/statistik/top/plus/1/galerie/0?saison_id=2020&transferfenster=alle&land_id=&ausrichtung=&spielerposition_id=&altersklasse=&leihe='\n",
        "\n",
        "        print('scraping')\n",
        "        print(url)\n",
        "\n",
        "        html = requests.get(url, headers=headers)\n",
        "        soup = bs(html.content)\n",
        "\n",
        "        soup = soup.select('.responsive-table > .grid-view > .items > tbody')[0]\n",
        "\n",
        "        try:\n",
        "            for cells in soup.find_all(True, {\"class\": re.compile(\"^(even|odd)$\")}):\n",
        "                fee = cells.find_all('td')[16].text\n",
        "                position = cells.find_all('td')[4].text\n",
        "                age = cells.find_all('td')[5].text\n",
        "                market_value = cells.find_all('td')[6].text\n",
        "                country_from = cells.find_all('td')[11].img['title']\n",
        "                league_from = cells.find_all('td')[11].a.text if cells.find_all('td')[11].a != None else 'Without League'\n",
        "                club_from = cells.find_all('td')[9].img['alt']\n",
        "                country_to = cells.find_all('td')[15].img['alt']\n",
        "                league_to = cells.find_all('td')[15].a.text if cells.find_all('td')[15].a != None else 'Without League'\n",
        "                club_to = cells.find_all('td')[13].img['alt']\n",
        "\n",
        "                player = {\n",
        "                    'name': cells.find_all('td')[1].select('td > img')[0]['title'],\n",
        "                    'position': position,\n",
        "                    'age': age,\n",
        "                    'market_value': format_currency(market_value),\n",
        "                    'country_from': country_from,\n",
        "                    'league_from': format_text(league_from),\n",
        "                    'club_from': club_from,\n",
        "                    'country_to': country_to,\n",
        "                    'league_to': format_text(league_to),\n",
        "                    'club_to': club_to,\n",
        "                    'fee': format_currency(fee),\n",
        "                }\n",
        "\n",
        "                players_list.append(player)\n",
        "        except IndexError:\n",
        "            pass\n",
        "\n",
        "    return players_list\n",
        "\n",
        "data = get_data(1)\n",
        "\n",
        "data_to_csv(data)"
      ],
      "metadata": {
        "id": "HVtVZYxArTo9"
      },
      "execution_count": null,
      "outputs": []
    },
    {
      "cell_type": "markdown",
      "source": [
        "This is code for the transfer figures of players"
      ],
      "metadata": {
        "id": "Dafm72wP2JfJ"
      }
    },
    {
      "cell_type": "code",
      "source": [
        "import requests\n",
        "import pandas as pd\n",
        "from bs4 import BeautifulSoup\n",
        "import requests\n",
        "from bs4 import BeautifulSoup as bs\n",
        "import csv\n",
        "import re\n",
        "\n",
        "def data_to_csv(data):\n",
        "    keys = data[0].keys()\n",
        "    with open('data11.csv', 'w', newline='')  as output_file:\n",
        "        dict_writer = csv.DictWriter(output_file, keys)\n",
        "        dict_writer.writeheader()\n",
        "        dict_writer.writerows(data)\n",
        "\n",
        "url = 'https://www.statista.com/statistics/675303/average-epl-salary-by-team//'\n",
        "\n",
        "soup = BeautifulSoup(requests.get(url).content, 'html.parser')\n",
        "\n",
        "tds = soup.select('#statTableHTML td')\n",
        "data = []\n",
        "for td1, td2 in zip(tds[::2], tds[1::2]):\n",
        "    data.append({'Team':td1.text, 'Avg Yearly Salary Per Player $(millions)': td2.text})\n",
        "\n",
        "df = pd.DataFrame(data)\n",
        "print(df)\n",
        "data_to_csv(data)"
      ],
      "metadata": {
        "colab": {
          "base_uri": "https://localhost:8080/"
        },
        "id": "NGaO056VzPVQ",
        "outputId": "32c9e206-c43a-42e7-9caf-7040ebb7885b"
      },
      "execution_count": null,
      "outputs": [
        {
          "output_type": "stream",
          "name": "stdout",
          "text": [
            "              Team Avg Yearly Salary Per Player $(millions)\n",
            "0         Man City                                     8.73\n",
            "1          Man Utd                                     7.66\n",
            "2        Liverpool                                     6.92\n",
            "3          Arsenal                                     5.99\n",
            "4          Chelsea                                     5.97\n",
            "5          Everton                                     5.13\n",
            "6        Tottenham                                     4.95\n",
            "7        Leicester                                     4.19\n",
            "8         West Ham                                     3.78\n",
            "9   Crystal Palace                                     3.61\n",
            "10     Southampton                                     2.87\n",
            "11          Wolves                                     2.75\n",
            "12       Newcastle                                     2.61\n",
            "13         Watford                                     2.53\n",
            "14     Aston Villa                                     2.46\n",
            "15     Bournemouth                                      2.4\n",
            "16         Burnley                                     2.39\n",
            "17        Brighton                                     2.26\n",
            "18        Norwhich                                     1.24\n",
            "19       Sheff Utd                                     0.91\n"
          ]
        }
      ]
    },
    {
      "cell_type": "code",
      "source": [
        "# Import the necessary modules\n",
        "import matplotlib.pyplot as plt\n",
        "import pandas as pd\n",
        "\n",
        "\n",
        "# Initialize the lists for X and Y\n",
        "data = pd.read_csv('data11.csv')\n",
        "\n",
        "df = pd.DataFrame(data)\n",
        "\n",
        "X = list(df.iloc[:, 0])\n",
        "Y = list(df.iloc[:, 1])\n",
        "\n",
        "# Plot the data using bar() method\n",
        "plt.bar(X, Y, color='g')\n",
        "plt.title(\"PL Average Yearly Salary $(millions)\")\n",
        "plt.xlabel(\"Team\")\n",
        "plt.ylabel(\"Salary $ (millions)\")\n",
        "plt.xticks(rotation=90)\n",
        "\n",
        "# Show the plot\n",
        "plt.show()\n"
      ],
      "metadata": {
        "colab": {
          "base_uri": "https://localhost:8080/",
          "height": 356
        },
        "id": "U6AUUnq4Ai6m",
        "outputId": "bb056a53-1b06-47b9-819d-5bea253a9e30"
      },
      "execution_count": null,
      "outputs": [
        {
          "output_type": "display_data",
          "data": {
            "image/png": "[encoded data removed]",
            "text/plain": [
              "<Figure size 432x288 with 1 Axes>"
            ]
          },
          "metadata": {
            "needs_background": "light"
          }
        }
      ]
    },
    {
      "cell_type": "code",
      "source": [
        "# Import the necessary modules\n",
        "import matplotlib.pyplot as plt\n",
        "import pandas as pd\n",
        "\n",
        "\n",
        "# Initialize the lists for X and Y\n",
        "data = pd.read_csv('PLNet.csv')\n",
        "\n",
        "df = pd.DataFrame(data)\n",
        "\n",
        "X = list(df.iloc[:, 0])\n",
        "Y = list(df.iloc[:, 1])\n",
        "\n",
        "# Plot the data using bar() method\n",
        "plt.bar(X, Y, color='g')\n",
        "plt.title(\"PL Net Spend Per Season (£ Millions)\")\n",
        "plt.xlabel(\"Year\")\n",
        "plt.ylabel(\"NetSpend\")\n",
        "\n",
        "\n",
        "# Show the plot\n",
        "plt.show()"
      ],
      "metadata": {
        "colab": {
          "base_uri": "https://localhost:8080/",
          "height": 295
        },
        "id": "Y-d3FAf6WddG",
        "outputId": "00fb35b4-4880-4f25-a760-4fa600596643"
      },
      "execution_count": null,
      "outputs": [
        {
          "output_type": "display_data",
          "data": {
            "text/plain": [
              "<Figure size 432x288 with 1 Axes>"
            ],
            "image/png": "[encoded data removed]"
          },
          "metadata": {
            "needs_background": "light"
          }
        }
      ]
    },
    {
      "cell_type": "code",
      "source": [
        "# Import the necessary modules\n",
        "import matplotlib.pyplot as plt\n",
        "import pandas as pd\n",
        "\n",
        "\n",
        "# Initialize the lists for X and Y\n",
        "data = pd.read_csv('LaLigaNet.csv')\n",
        "\n",
        "df = pd.DataFrame(data)\n",
        "\n",
        "X = list(df.iloc[:, 0])\n",
        "Y = list(df.iloc[:, 1])\n",
        "\n",
        "# Plot the data using bar() method\n",
        "plt.bar(X, Y, color='g')\n",
        "plt.title(\"La Liga Net Spend Per Season (£ Millions)\")\n",
        "plt.xlabel(\"Year\")\n",
        "plt.ylabel(\"NetSpend\")\n",
        "\n",
        "\n",
        "# Show the plot\n",
        "plt.show()"
      ],
      "metadata": {
        "colab": {
          "base_uri": "https://localhost:8080/",
          "height": 295
        },
        "id": "ymCCH9_XYFMX",
        "outputId": "b59b3d48-e3b3-4fd6-f1a7-8444abb6ebe7"
      },
      "execution_count": null,
      "outputs": [
        {
          "output_type": "display_data",
          "data": {
            "text/plain": [
              "<Figure size 432x288 with 1 Axes>"
            ],
            "image/png": "[encoded data removed]"
          },
          "metadata": {
            "needs_background": "light"
          }
        }
      ]
    },
    {
      "cell_type": "code",
      "source": [
        "# Import the necessary modules\n",
        "import matplotlib.pyplot as plt\n",
        "import pandas as pd\n",
        "\n",
        "\n",
        "# Initialize the lists for X and Y\n",
        "data = pd.read_csv('Ligue1Net.csv')\n",
        "\n",
        "df = pd.DataFrame(data)\n",
        "\n",
        "X = list(df.iloc[:, 0])\n",
        "Y = list(df.iloc[:, 1])\n",
        "\n",
        "# Plot the data using bar() method\n",
        "plt.bar(X, Y, color='g')\n",
        "plt.title(\"Ligue 1 Net Spend Per Season (£ Millions)\")\n",
        "plt.xlabel(\"Year\")\n",
        "plt.ylabel(\"NetSpend\")\n",
        "\n",
        "\n",
        "# Show the plot\n",
        "plt.show()"
      ],
      "metadata": {
        "colab": {
          "base_uri": "https://localhost:8080/",
          "height": 295
        },
        "id": "xxx-JUaVY3kL",
        "outputId": "a61e14f5-5a6b-402a-b0f4-bc8470379b5e"
      },
      "execution_count": null,
      "outputs": [
        {
          "output_type": "display_data",
          "data": {
            "text/plain": [
              "<Figure size 432x288 with 1 Axes>"
            ],
            "image/png": "[encoded data removed]"
          },
          "metadata": {
            "needs_background": "light"
          }
        }
      ]
    },
    {
      "cell_type": "code",
      "source": [
        "# Import the necessary modules\n",
        "import matplotlib.pyplot as plt\n",
        "import pandas as pd\n",
        "\n",
        "\n",
        "# Initialize the lists for X and Y\n",
        "data = pd.read_csv('BundesNet.csv')\n",
        "\n",
        "df = pd.DataFrame(data)\n",
        "\n",
        "X = list(df.iloc[:, 0])\n",
        "Y = list(df.iloc[:, 1])\n",
        "\n",
        "# Plot the data using bar() method\n",
        "plt.bar(X, Y, color='g')\n",
        "plt.title(\"Bundesliga Net Spend Per Season (£ Millions)\")\n",
        "plt.xlabel(\"Year\")\n",
        "plt.ylabel(\"NetSpend\")\n",
        "\n",
        "\n",
        "# Show the plot\n",
        "plt.show()"
      ],
      "metadata": {
        "colab": {
          "base_uri": "https://localhost:8080/",
          "height": 295
        },
        "id": "zsMX6V9xZ72P",
        "outputId": "e30bed38-5d48-4b3f-8ef7-fe34a85c88ea"
      },
      "execution_count": null,
      "outputs": [
        {
          "output_type": "display_data",
          "data": {
            "text/plain": [
              "<Figure size 432x288 with 1 Axes>"
            ],
            "image/png": "[encoded data removed]"
          },
          "metadata": {
            "needs_background": "light"
          }
        }
      ]
    },
    {
      "cell_type": "code",
      "source": [
        "# Import the necessary modules\n",
        "import matplotlib.pyplot as plt\n",
        "import pandas as pd\n",
        "\n",
        "\n",
        "# Initialize the lists for X and Y\n",
        "data = pd.read_csv('serieanet.csv')\n",
        "\n",
        "df = pd.DataFrame(data)\n",
        "\n",
        "X = list(df.iloc[:, 0])\n",
        "Y = list(df.iloc[:, 1])\n",
        "\n",
        "# Plot the data using bar() method\n",
        "plt.bar(X, Y, color='g')\n",
        "plt.title(\"Serie A Net Spend Per Season (£ Millions)\")\n",
        "plt.xlabel(\"Year\")\n",
        "plt.ylabel(\"NetSpend\")\n",
        "\n",
        "\n",
        "# Show the plot\n",
        "plt.show()"
      ],
      "metadata": {
        "colab": {
          "base_uri": "https://localhost:8080/",
          "height": 295
        },
        "id": "K0fsZLH_aBBX",
        "outputId": "b724244f-c350-457c-e793-3fb54159d640"
      },
      "execution_count": null,
      "outputs": [
        {
          "output_type": "display_data",
          "data": {
            "text/plain": [
              "<Figure size 432x288 with 1 Axes>"
            ],
            "image/png": "[encoded data removed]"
          },
          "metadata": {
            "needs_background": "light"
          }
        }
      ]
    },
    {
      "cell_type": "code",
      "source": [
        "import requests\n",
        "from bs4 import BeautifulSoup as bs\n",
        "import csv\n",
        "import re\n",
        "\n",
        "def data_to_csv(data):\n",
        "    keys = data[0].keys()\n",
        "    with open('data10.csv', 'w', newline='')  as output_file:\n",
        "        dict_writer = csv.DictWriter(output_file, keys)\n",
        "        dict_writer.writeheader()\n",
        "        dict_writer.writerows(data)\n",
        "\n",
        "url = 'https://www.statista.com/statistics/675461/average-la-liga-salary-by-team/'\n",
        "\n",
        "soup = BeautifulSoup(requests.get(url).content, 'html.parser')\n",
        "\n",
        "tds = soup.select('#statTableHTML td')\n",
        "data = []\n",
        "for td1, td2 in zip(tds[::2], tds[1::2]):\n",
        "    data.append({'Team':td1.text, 'Avg Yearly Salary Per Player $': td2.text})\n",
        "\n",
        "df = pd.DataFrame(data)\n",
        "print(df)\n",
        "data_to_csv(data)"
      ],
      "metadata": {
        "id": "ys9CdTLu2c5Q"
      },
      "execution_count": null,
      "outputs": []
    },
    {
      "cell_type": "code",
      "source": [
        "# Import the necessary modules\n",
        "import matplotlib.pyplot as plt\n",
        "import pandas as pd\n",
        "\n",
        "\n",
        "# Initialize the lists for X and Y\n",
        "data = pd.read_csv('data10.csv')\n",
        "\n",
        "df = pd.DataFrame(data)\n",
        "\n",
        "X = list(df.iloc[:, 0])\n",
        "Y = list(df.iloc[:, 1])\n",
        "\n",
        "# Plot the data using bar() method\n",
        "plt.bar(X, Y, color='g')\n",
        "plt.title(\"La Liga Avg Salary p/y $(millions)\")\n",
        "plt.xlabel(\"Team\")\n",
        "plt.ylabel(\"Salary $ (millions)\")\n",
        "plt.xticks(rotation=90)\n",
        "\n",
        "# Show the plot\n",
        "plt.show()"
      ],
      "metadata": {
        "colab": {
          "base_uri": "https://localhost:8080/",
          "height": 376
        },
        "id": "e_9CrwrCD93n",
        "outputId": "c6f5ca02-7368-46aa-ba47-bcccde32bd7f"
      },
      "execution_count": null,
      "outputs": [
        {
          "output_type": "display_data",
          "data": {
            "image/png": "[encoded data removed]",
            "text/plain": [
              "<Figure size 432x288 with 1 Axes>"
            ]
          },
          "metadata": {
            "needs_background": "light"
          }
        }
      ]
    },
    {
      "cell_type": "markdown",
      "source": [
        "This is code for salaries of players from statista"
      ],
      "metadata": {
        "id": "gewY9cxb2RaV"
      }
    },
    {
      "cell_type": "code",
      "source": [
        "import requests\n",
        "from bs4 import BeautifulSoup as bs\n",
        "import csv\n",
        "import re\n",
        "\n",
        "def data_to_csv(data):\n",
        "    keys = data[0].keys()\n",
        "    with open('data9.csv', 'w', newline='')  as output_file:\n",
        "        dict_writer = csv.DictWriter(output_file, keys)\n",
        "        dict_writer.writeheader()\n",
        "        dict_writer.writerows(data)\n",
        "\n",
        "url = 'https://www.statista.com/statistics/675470/average-serie-a-salary-by-team/'\n",
        "\n",
        "soup = BeautifulSoup(requests.get(url).content, 'html.parser')\n",
        "\n",
        "tds = soup.select('#statTableHTML td')\n",
        "data = []\n",
        "for td1, td2 in zip(tds[::2], tds[1::2]):\n",
        "    data.append({'Team':td1.text, 'Avg Yearly Salary Per Player $': td2.text})\n",
        "\n",
        "df = pd.DataFrame(data)\n",
        "print(df)\n",
        "data_to_csv(data)"
      ],
      "metadata": {
        "colab": {
          "base_uri": "https://localhost:8080/"
        },
        "id": "wxPBNj2v2H0q",
        "outputId": "a925bbb0-4d66-4882-94f9-eb4250c93e0d"
      },
      "execution_count": null,
      "outputs": [
        {
          "output_type": "stream",
          "name": "stdout",
          "text": [
            "              Team Avg Yearly Salary Per Player $\n",
            "0         Juventus                          10.11\n",
            "1             Roma                           4.49\n",
            "2   Internazionale                           4.08\n",
            "3           Napoli                           3.82\n",
            "4            Milan                           3.44\n",
            "5            Lazio                           2.41\n",
            "6           Torino                           1.82\n",
            "7          Bologna                           1.57\n",
            "8       Fiorentina                           1.51\n",
            "9         Cagliari                           1.44\n",
            "10        Atalanta                           1.28\n",
            "11           Genoa                           1.25\n",
            "12       Sampdoria                            1.2\n",
            "13        Sassuolo                           1.14\n",
            "14           Lecce                           1.07\n",
            "15           Parma                           1.04\n",
            "16            SPAL                           0.99\n",
            "17         Udinese                           0.84\n",
            "18   Hellas Verona                           0.64\n",
            "19         Brescia                           0.58\n"
          ]
        }
      ]
    },
    {
      "cell_type": "code",
      "source": [
        "# Import the necessary modules\n",
        "import matplotlib.pyplot as plt\n",
        "import pandas as pd\n",
        "\n",
        "\n",
        "# Initialize the lists for X and Y\n",
        "data = pd.read_csv('data9.csv')\n",
        "\n",
        "df = pd.DataFrame(data)\n",
        "\n",
        "X = list(df.iloc[:, 0])\n",
        "Y = list(df.iloc[:, 1])\n",
        "\n",
        "# Plot the data using bar() method\n",
        "plt.bar(X, Y, color='g')\n",
        "plt.title(\"Serie A p/y $(millions)\")\n",
        "plt.xlabel(\"Team\")\n",
        "plt.ylabel(\"Salary $ (millions)\")\n",
        "plt.xticks(rotation=90)\n",
        "\n",
        "# Show the plot\n",
        "plt.show()"
      ],
      "metadata": {
        "colab": {
          "base_uri": "https://localhost:8080/",
          "height": 357
        },
        "id": "o4sH5w8HD2j0",
        "outputId": "f7c2606c-0e9f-4e23-dad2-497984901814"
      },
      "execution_count": null,
      "outputs": [
        {
          "output_type": "display_data",
          "data": {
            "image/png": "[encoded data removed]",
            "text/plain": [
              "<Figure size 432x288 with 1 Axes>"
            ]
          },
          "metadata": {
            "needs_background": "light"
          }
        }
      ]
    },
    {
      "cell_type": "code",
      "source": [
        "import requests\n",
        "from bs4 import BeautifulSoup as bs\n",
        "import csv\n",
        "import re\n",
        "\n",
        "def data_to_csv(data):\n",
        "    keys = data[0].keys()\n",
        "    with open('data8.csv', 'w', newline='')  as output_file:\n",
        "        dict_writer = csv.DictWriter(output_file, keys)\n",
        "        dict_writer.writeheader()\n",
        "        dict_writer.writerows(data)\n",
        "\n",
        "url = 'https://www.statista.com/statistics/675490/average-bundesliga-salary-by-team/#:~:text=Average%20player%20salary%20in%20the%20Bundesliga%202019%2F20%2C%20by%20team&text=The%20average%20annual%20player%20salary,the%20first%20Bundesliga%20in%20Germany.'\n",
        "\n",
        "soup = BeautifulSoup(requests.get(url).content, 'html.parser')\n",
        "\n",
        "tds = soup.select('#statTableHTML td')\n",
        "data = []\n",
        "for td1, td2 in zip(tds[::2], tds[1::2]):\n",
        "    data.append({'Team':td1.text, 'Avg Yearly Salary Per Player $': td2.text})\n",
        "\n",
        "df = pd.DataFrame(data)\n",
        "print(df)\n",
        "data_to_csv(data)"
      ],
      "metadata": {
        "colab": {
          "base_uri": "https://localhost:8080/"
        },
        "id": "uyaZtPyi3i2Y",
        "outputId": "fa2917f5-62af-45f9-cc95-7118a756d42f"
      },
      "execution_count": null,
      "outputs": [
        {
          "output_type": "stream",
          "name": "stdout",
          "text": [
            "                        Team Avg Yearly Salary Per Player $\n",
            "0              Bayern Munich                           8.12\n",
            "1          Borussia Dortmund                           4.97\n",
            "2           Bayer Leverkusen                           3.19\n",
            "3                 RB Leipzig                           2.42\n",
            "4                  Wolfsburg                           2.41\n",
            "5                    Schalke                           2.19\n",
            "6   Borussia Monchengladbach                           1.92\n",
            "7                 Hoffenheim                            1.7\n",
            "8              Werder Bremen                           1.57\n",
            "9        Eintracht Frankfurt                           1.54\n",
            "10             Hertha Berlin                            1.3\n",
            "11                   FC Koln                           1.22\n",
            "12                  Augsburg                           1.02\n",
            "13                     Mainz                           0.85\n",
            "14        Fortuna Dusseldorf                           0.76\n",
            "15               SC Freiburg                           0.73\n",
            "16              Union Berlin                           0.68\n",
            "17                 Paderborn                           0.42\n"
          ]
        }
      ]
    },
    {
      "cell_type": "code",
      "source": [
        "# Import the necessary modules\n",
        "import matplotlib.pyplot as plt\n",
        "import pandas as pd\n",
        "\n",
        "\n",
        "# Initialize the lists for X and Y\n",
        "data = pd.read_csv('data8.csv')\n",
        "\n",
        "df = pd.DataFrame(data)\n",
        "\n",
        "X = list(df.iloc[:, 0])\n",
        "Y = list(df.iloc[:, 1])\n",
        "\n",
        "# Plot the data using bar() method\n",
        "plt.bar(X, Y, color='g')\n",
        "plt.title(\"Bundes Avg Salary p/y $(millions)\")\n",
        "plt.xlabel(\"Team\")\n",
        "plt.ylabel(\"Salary $ (millions)\")\n",
        "plt.xticks(rotation=90)\n",
        "\n",
        "# Show the plot\n",
        "plt.show()"
      ],
      "metadata": {
        "colab": {
          "base_uri": "https://localhost:8080/",
          "height": 423
        },
        "id": "ZGSWz-kzDpkq",
        "outputId": "15556137-5444-4e02-dbbb-cb1bf92cf28b"
      },
      "execution_count": null,
      "outputs": [
        {
          "output_type": "display_data",
          "data": {
            "image/png": "[encoded data removed]",
            "text/plain": [
              "<Figure size 432x288 with 1 Axes>"
            ]
          },
          "metadata": {
            "needs_background": "light"
          }
        }
      ]
    },
    {
      "cell_type": "code",
      "source": [
        "import requests\n",
        "from bs4 import BeautifulSoup as bs\n",
        "import csv\n",
        "import re\n",
        "\n",
        "def data_to_csv(data):\n",
        "    keys = data[0].keys()\n",
        "    with open('data7.csv', 'w', newline='')  as output_file:\n",
        "        dict_writer = csv.DictWriter(output_file, keys)\n",
        "        dict_writer.writeheader()\n",
        "        dict_writer.writerows(data)\n",
        "\n",
        "url = 'https://www.statista.com/statistics/675528/average-ligue-1-salary-by-team/'\n",
        "\n",
        "soup = BeautifulSoup(requests.get(url).content, 'html.parser')\n",
        "\n",
        "tds = soup.select('#statTableHTML td')\n",
        "data = []\n",
        "for td1, td2 in zip(tds[::2], tds[1::2]):\n",
        "    data.append({'Team':td1.text, 'Avg Yearly Salary Per Player $': td2.text})\n",
        "\n",
        "df = pd.DataFrame(data)\n",
        "print(df)\n",
        "data_to_csv(data)"
      ],
      "metadata": {
        "colab": {
          "base_uri": "https://localhost:8080/"
        },
        "id": "XfyQ7ymJ3tzL",
        "outputId": "9cccd08d-496a-4096-cdb3-754e4753869c"
      },
      "execution_count": null,
      "outputs": [
        {
          "output_type": "stream",
          "name": "stdout",
          "text": [
            "             Team Avg Yearly Salary Per Player $\n",
            "0             PSG                           8.93\n",
            "1          Monaco                           2.84\n",
            "2            Lyon                           2.33\n",
            "3       Marseille                           2.01\n",
            "4           Lille                           1.33\n",
            "5   Saint-Etienne                           1.01\n",
            "6          Rennes                           0.98\n",
            "7        Bordeaux                           0.82\n",
            "8            Nice                           0.74\n",
            "9     Montpellier                           0.68\n",
            "10         Nantes                           0.68\n",
            "11       Toulouse                           0.61\n",
            "12         Angers                           0.49\n",
            "13     Strasbourg                           0.47\n",
            "14         Amiens                           0.41\n",
            "15          Dijon                           0.41\n",
            "16          Reims                            0.4\n",
            "17           Metz                            0.4\n",
            "18          Brest                           0.35\n",
            "19          Nimes                            0.3\n"
          ]
        }
      ]
    },
    {
      "cell_type": "code",
      "source": [
        "# Import the necessary modules\n",
        "import matplotlib.pyplot as plt\n",
        "import pandas as pd\n",
        "\n",
        "\n",
        "# Initialize the lists for X and Y\n",
        "data = pd.read_csv('data7.csv')\n",
        "\n",
        "df = pd.DataFrame(data)\n",
        "\n",
        "X = list(df.iloc[:, 0])\n",
        "Y = list(df.iloc[:, 1])\n",
        "\n",
        "# Plot the data using bar() method\n",
        "plt.bar(X, Y, color='g')\n",
        "plt.title(\"Ligue avg salary p/y $(millions)\")\n",
        "plt.xlabel(\"Team\")\n",
        "plt.ylabel(\"Salary $ (millions)\")\n",
        "plt.xticks(rotation=90)\n",
        "\n",
        "# Show the plot\n",
        "plt.show()"
      ],
      "metadata": {
        "colab": {
          "base_uri": "https://localhost:8080/",
          "height": 352
        },
        "id": "oLLDixqUDdnE",
        "outputId": "80164415-edb7-45e7-a2a8-26fda3c111d3"
      },
      "execution_count": null,
      "outputs": [
        {
          "output_type": "display_data",
          "data": {
            "image/png": "[encoded data removed]",
            "text/plain": [
              "<Figure size 432x288 with 1 Axes>"
            ]
          },
          "metadata": {
            "needs_background": "light"
          }
        }
      ]
    },
    {
      "cell_type": "code",
      "source": [
        "import requests\n",
        "from bs4 import BeautifulSoup as bs\n",
        "import csv\n",
        "import re\n",
        "\n",
        "def data_to_csv(data):\n",
        "    keys = data[0].keys()\n",
        "    with open('data6.csv', 'w', newline='')  as output_file:\n",
        "        dict_writer = csv.DictWriter(output_file, keys)\n",
        "        dict_writer.writeheader()\n",
        "        dict_writer.writerows(data)\n",
        "\n",
        "url = 'https://www.statista.com/statistics/566666/premier-league-clubs-by-revenue/'\n",
        "\n",
        "soup = BeautifulSoup(requests.get(url).content, 'html.parser')\n",
        "\n",
        "tds = soup.select('#statTableHTML td')\n",
        "data = []\n",
        "for td1, td2 in zip(tds[::2], tds[1::2]):\n",
        "    data.append({'Team':td1.text, 'Season Revenue($)': td2.text})\n",
        "\n",
        "df = pd.DataFrame(data)\n",
        "print(df)\n",
        "data_to_csv(data)"
      ],
      "metadata": {
        "id": "ZiRuIUbr5hAW"
      },
      "execution_count": null,
      "outputs": []
    },
    {
      "cell_type": "code",
      "source": [
        "# Import the necessary modules\n",
        "import matplotlib.pyplot as plt\n",
        "import pandas as pd\n",
        "\n",
        "\n",
        "# Initialize the lists for X and Y\n",
        "data = pd.read_csv('data6.csv')\n",
        "\n",
        "df = pd.DataFrame(data)\n",
        "\n",
        "X = list(df.iloc[:, 0])\n",
        "Y = list(df.iloc[:, 1])\n",
        "\n",
        "# Plot the data using bar() method\n",
        "plt.bar(X, Y, color='g')\n",
        "plt.title(\"PL Yearly Revenue $(millions)\")\n",
        "plt.xlabel(\"Team\")\n",
        "plt.ylabel(\"Revenue $ (millions)\")\n",
        "plt.xticks(rotation=90)\n",
        "\n",
        "# Show the plot\n",
        "plt.show()"
      ],
      "metadata": {
        "colab": {
          "base_uri": "https://localhost:8080/",
          "height": 421
        },
        "id": "GhQs2qWQBrzK",
        "outputId": "5d8a2417-bf5d-4e43-91cd-9ff42eb61216"
      },
      "execution_count": null,
      "outputs": [
        {
          "output_type": "display_data",
          "data": {
            "image/png": "[encoded data removed]",
            "text/plain": [
              "<Figure size 432x288 with 1 Axes>"
            ]
          },
          "metadata": {
            "needs_background": "light"
          }
        }
      ]
    },
    {
      "cell_type": "code",
      "source": [
        "import requests\n",
        "from bs4 import BeautifulSoup as bs\n",
        "import csv\n",
        "import re\n",
        "\n",
        "def data_to_csv(data):\n",
        "    keys = data[0].keys()\n",
        "    with open('data5.csv', 'w', newline='')  as output_file:\n",
        "        dict_writer = csv.DictWriter(output_file, keys)\n",
        "        dict_writer.writeheader()\n",
        "        dict_writer.writerows(data)\n",
        "\n",
        "url = 'https://www.statista.com/statistics/254513/value-of-jersey-kit-sponsorships-in-the-barclays-premier-league-by-club/'\n",
        "\n",
        "soup = BeautifulSoup(requests.get(url).content, 'html.parser')\n",
        "\n",
        "tds = soup.select('#statTableHTML td')\n",
        "data = []\n",
        "for td1, td2 in zip(tds[::2], tds[1::2]):\n",
        "    data.append({'Team':td1.text, 'Kit sponsor 19/20(£)': td2.text})\n",
        "\n",
        "df = pd.DataFrame(data)\n",
        "print(df)\n",
        "data_to_csv(data)"
      ],
      "metadata": {
        "id": "AzLmYQYR5h8R"
      },
      "execution_count": null,
      "outputs": []
    },
    {
      "cell_type": "code",
      "source": [
        "pip install BeautifulSoup4"
      ],
      "metadata": {
        "colab": {
          "base_uri": "https://localhost:8080/"
        },
        "id": "YsdVdyGEcS36",
        "outputId": "ffc6c2e0-a7fd-4261-a3c2-cc84ee74ee36"
      },
      "execution_count": null,
      "outputs": [
        {
          "output_type": "stream",
          "name": "stdout",
          "text": [
            "Requirement already satisfied: BeautifulSoup4 in /usr/local/lib/python3.7/dist-packages (4.6.3)\n"
          ]
        }
      ]
    },
    {
      "cell_type": "code",
      "source": [
        "# Import the necessary modules\n",
        "import matplotlib.pyplot as plt\n",
        "import pandas as pd\n",
        "\n",
        "\n",
        "# Initialize the lists for X and Y\n",
        "data = pd.read_csv('data5.csv')\n",
        "\n",
        "df = pd.DataFrame(data)\n",
        "\n",
        "X = list(df.iloc[:, 0])\n",
        "Y = list(df.iloc[:, 1])\n",
        "\n",
        "# Plot the data using bar() method\n",
        "plt.bar(X, Y, color='g')\n",
        "plt.title(\"Kit Sponsors $(millions)\")\n",
        "plt.xlabel(\"Team\")\n",
        "plt.ylabel(\"Income $ (millions)\")\n",
        "plt.xticks(rotation=90)\n",
        "\n",
        "# Show the plot\n",
        "plt.show()"
      ],
      "metadata": {
        "id": "oHgIj_GrCnoi"
      },
      "execution_count": null,
      "outputs": []
    },
    {
      "cell_type": "code",
      "source": [
        "import requests\n",
        "from bs4 import BeautifulSoup as bs\n",
        "import csv\n",
        "import re\n",
        "\n",
        "def data_to_csv(data):\n",
        "    keys = data[0].keys()\n",
        "    with open('data4.csv', 'w', newline='')  as output_file:\n",
        "        dict_writer = csv.DictWriter(output_file, keys)\n",
        "        dict_writer.writeheader()\n",
        "        dict_writer.writerows(data)\n",
        "\n",
        "url = 'https://www.statista.com/statistics/261225/top-european-soccer-leagues-big-five-revenue/'\n",
        "\n",
        "soup = BeautifulSoup(requests.get(url).content, 'html.parser')\n",
        "\n",
        "tds = soup.select('#statTableHTML td')\n",
        "data = []\n",
        "for td1, td2 in zip(tds[::2], tds[1::2]):\n",
        "    data.append({'Year':td1.text, 'Top 5 League Season Revenue($)millions': td2.text})\n",
        "\n",
        "df = pd.DataFrame(data)\n",
        "print(df)\n",
        "data_to_csv(data)"
      ],
      "metadata": {
        "id": "B_YrsGPk5i0K"
      },
      "execution_count": null,
      "outputs": []
    },
    {
      "cell_type": "code",
      "source": [
        "# Import the necessary modules\n",
        "import matplotlib.pyplot as plt\n",
        "import pandas as pd\n",
        "\n",
        "\n",
        "# Initialize the lists for X and Y\n",
        "data = pd.read_csv('Top5Rev.csv')\n",
        "\n",
        "df = pd.DataFrame(data)\n",
        "\n",
        "X = list(df.iloc[:, 0])\n",
        "Y = list(df.iloc[:, 1])\n",
        "\n",
        "# Plot the data using bar() method\n",
        "plt.bar(X, Y, color='g')\n",
        "plt.title(\"Top 5 League Yearly Revenue $(millions)\")\n",
        "plt.xlabel(\"Year\")\n",
        "plt.ylabel(\"Revenue $ (millions)\")\n",
        "plt.xticks(rotation=90)\n",
        "\n",
        "# Show the plot\n",
        "plt.show()"
      ],
      "metadata": {
        "colab": {
          "base_uri": "https://localhost:8080/",
          "height": 311
        },
        "id": "07AouGSVCyF3",
        "outputId": "d3a5ce50-af8f-4a8f-ef65-1b598e50c26e"
      },
      "execution_count": null,
      "outputs": [
        {
          "output_type": "display_data",
          "data": {
            "text/plain": [
              "<Figure size 432x288 with 1 Axes>"
            ],
            "image/png": "[encoded data removed]"
          },
          "metadata": {
            "needs_background": "light"
          }
        }
      ]
    },
    {
      "cell_type": "code",
      "source": [
        "import requests\n",
        "from bs4 import BeautifulSoup as bs\n",
        "import csv\n",
        "import re\n",
        "\n",
        "def data_to_csv(data):\n",
        "    keys = data[0].keys()\n",
        "    with open('data3.csv', 'w', newline='')  as output_file:\n",
        "        dict_writer = csv.DictWriter(output_file, keys)\n",
        "        dict_writer.writeheader()\n",
        "        dict_writer.writerows(data)\n",
        "\n",
        "url = 'https://www.statista.com/statistics/271581/revenue-of-soccer-clubs-worldwide/'\n",
        "\n",
        "soup = BeautifulSoup(requests.get(url).content, 'html.parser')\n",
        "\n",
        "tds = soup.select('#statTableHTML td')\n",
        "data = []\n",
        "for td1, td2 in zip(tds[::2], tds[1::2]):\n",
        "    data.append({'Team':td1.text, '19/20 Season Revenue($)': td2.text})\n",
        "\n",
        "df = pd.DataFrame(data)\n",
        "print(df)\n",
        "data_to_csv(data)"
      ],
      "metadata": {
        "colab": {
          "base_uri": "https://localhost:8080/"
        },
        "id": "Q1Jq4h-L54KX",
        "outputId": "0cc56855-1b1b-451d-a0d3-dd5c17954d32"
      },
      "execution_count": null,
      "outputs": [
        {
          "output_type": "stream",
          "name": "stdout",
          "text": [
            "                         Team 19/20 Season Revenue($)\n",
            "0                FC Barcelona                   715.1\n",
            "1                 Real Madrid                   691.8\n",
            "2               Bayern Munich                   634.1\n",
            "3           Manchester United                   580.4\n",
            "4                Liverpool FC                   558.6\n",
            "5             Manchester City                   549.2\n",
            "6         Paris Saint-Germain                   540.6\n",
            "7                  Chelsea FC                   469.7\n",
            "8           Tottenham Hotspur                   445.7\n",
            "9              Juventus Turin                   397.9\n",
            "10                 Arsenal FC                     388\n",
            "11          Borussia Dortmund                   365.7\n",
            "12            Atlético Madrid                   331.8\n",
            "13       Internazionale Milan                   291.5\n",
            "14  FC Zenit Saint Petersburg                   236.5\n",
            "15                 Schalke 04                   222.8\n",
            "16                    Everton                     212\n",
            "17         Olympique Lyonnais                   180.7\n",
            "18                     Napoli                   176.3\n",
            "19        Eintracht Frankfurt                     174\n"
          ]
        }
      ]
    },
    {
      "cell_type": "code",
      "source": [
        "# Import the necessary modules\n",
        "import matplotlib.pyplot as plt\n",
        "import pandas as pd\n",
        "\n",
        "\n",
        "# Initialize the lists for X and Y\n",
        "data = pd.read_csv('data3.csv')\n",
        "\n",
        "df = pd.DataFrame(data)\n",
        "\n",
        "X = list(df.iloc[:, 0])\n",
        "Y = list(df.iloc[:, 1])\n",
        "\n",
        "# Plot the data using bar() method\n",
        "plt.bar(X, Y, color='g')\n",
        "plt.title(\"20 Highest Yearly Revenue $(millions)\")\n",
        "plt.xlabel(\"Team\")\n",
        "plt.ylabel(\"Revenue $ (millions)\")\n",
        "plt.xticks(rotation=90)\n",
        "\n",
        "# Show the plot\n",
        "plt.show()"
      ],
      "metadata": {
        "colab": {
          "base_uri": "https://localhost:8080/",
          "height": 413
        },
        "id": "rZtrpYrbDDyf",
        "outputId": "454f0ef6-7d3c-4801-d10e-4ad8124014b5"
      },
      "execution_count": null,
      "outputs": [
        {
          "output_type": "display_data",
          "data": {
            "image/png": "[encoded data removed]",
            "text/plain": [
              "<Figure size 432x288 with 1 Axes>"
            ]
          },
          "metadata": {
            "needs_background": "light"
          }
        }
      ]
    },
    {
      "cell_type": "code",
      "source": [
        "import matplotlib.pyplot as plt\n",
        "import pandas as pd\n",
        "\n",
        "d = pd.read_csv('toptransfers.csv')\n",
        "Market_value = d['Market_value']\n",
        "Transfer_fee = d['Transfer_fee']\n",
        "plt.scatter(Market_value, Transfer_fee, edgecolors='r')\n",
        "plt.xlabel('Market Value')\n",
        "plt.ylabel('Fee')\n",
        "plt.title('Cost of Player to Market Value')\n",
        "plt.xticks(rotation=90)\n",
        "plt.show()"
      ],
      "metadata": {
        "colab": {
          "base_uri": "https://localhost:8080/",
          "height": 301
        },
        "id": "kur4c6oV-i2C",
        "outputId": "a0794692-f327-4fc9-cfec-bd421e625d73"
      },
      "execution_count": null,
      "outputs": [
        {
          "output_type": "display_data",
          "data": {
            "text/plain": [
              "<Figure size 432x288 with 1 Axes>"
            ],
            "image/png": "[encoded data removed]"
          },
          "metadata": {
            "needs_background": "light"
          }
        }
      ]
    },
    {
      "cell_type": "code",
      "source": [
        "import nltk\n",
        "nltk.download('vader_lexicon')"
      ],
      "metadata": {
        "colab": {
          "base_uri": "https://localhost:8080/"
        },
        "id": "pNBmNtr9nroq",
        "outputId": "e5ffc201-3cba-411e-9eb6-2b7d0d86dc33"
      },
      "execution_count": null,
      "outputs": [
        {
          "output_type": "stream",
          "name": "stdout",
          "text": [
            "[nltk_data] Downloading package vader_lexicon to /root/nltk_data...\n"
          ]
        },
        {
          "output_type": "execute_result",
          "data": {
            "text/plain": [
              "True"
            ]
          },
          "metadata": {},
          "execution_count": 11
        }
      ]
    },
    {
      "cell_type": "code",
      "source": [
        "from csv import writer\n",
        "import csv\n",
        "from sched import scheduler\n",
        "from typing import Collection\n",
        "import tweepy\n",
        "import configparser\n",
        "import pandas as pd\n",
        "import requests\n",
        "\n",
        "\n",
        "\n",
        "# read configs\n",
        "config = configparser.ConfigParser()\n",
        "config.read('config.ini')\n",
        "\n",
        "api_key = config['twitter']['api_key']\n",
        "api_key_secret = config['twitter']['api_key_secret']\n",
        "\n",
        "access_token = config['twitter']['access_token']\n",
        "access_token_secret = config['twitter']['access_token_secret']\n",
        "\n",
        "# authentication\n",
        "auth = tweepy.OAuthHandler(api_key, api_key_secret)\n",
        "auth.set_access_token(access_token, access_token_secret)\n",
        "api = tweepy.API(auth)\n",
        "\n",
        "\n",
        "\n",
        "\n",
        "csvheader =['User','Tweet']\n",
        "#search tweets\n",
        "keywords = 'gabriel jesus transfer'\n",
        "limit=1000\n",
        "tweets = tweepy.Cursor(api.search, q=keywords, count=100, tweet_mode='extended').items(limit)\n",
        "\n",
        "\n",
        "\n",
        "# create DataFrame\n",
        "columns = ['User', 'Tweet']\n",
        "data = []\n",
        "\n",
        "for tweet in tweets:\n",
        "\n",
        "    data.append([tweet.user.screen_name, tweet.full_text])\n",
        "\n",
        "df = pd.DataFrame(data, columns=columns)\n",
        "\n",
        "\n",
        "\n",
        "print(df)\n",
        "df.to_csv('transfer2.csv')\n"
      ],
      "metadata": {
        "colab": {
          "base_uri": "https://localhost:8080/"
        },
        "id": "RebG0c-1Q9xs",
        "outputId": "a46e9bc6-fbab-4c9d-d23d-15d59f9e79d4"
      },
      "execution_count": null,
      "outputs": [
        {
          "output_type": "stream",
          "name": "stdout",
          "text": [
            "               User                                              Tweet\n",
            "0    Ahmed_musayaro  RT @London_Highbury: Transfer Prediction: #afc...\n",
            "1      FPLtanzanite  RT @London_Highbury: Transfer Prediction: #afc...\n",
            "2     GunnersReddit  [Thiago Fernandes and Raisa Simplicio] Arsenal...\n",
            "3      binh2401coyg  RT @London_Highbury: Transfer Prediction: #afc...\n",
            "4      LOLpundit007  RT @London_Highbury: Transfer Prediction: #afc...\n",
            "..              ...                                                ...\n",
            "995  CitizensAddict  Gabriel Jesus’ agent reveals Manchester City f...\n",
            "996   FoldMaulana30  RT @DeadlineDayLive: 🚨 Arsenal are ready to st...\n",
            "997  TheSunFootball  Gabriel Jesus' agent confirms Arsenal talks - ...\n",
            "998     Mangakiko12  Gabriel Jesus wanted by Arsenal and likes the ...\n",
            "999   adabagcompany  ‘We like the project’ – Gabriel Jesus’ agent C...\n",
            "\n",
            "[1000 rows x 2 columns]\n"
          ]
        }
      ]
    },
    {
      "cell_type": "code",
      "source": [
        "from nltk.sentiment.vader import SentimentIntensityAnalyzer\n",
        "from nltk.sentiment.util import *\n",
        "\n",
        "import nltk\n",
        "nltk.download('vader_lexicon')"
      ],
      "metadata": {
        "colab": {
          "base_uri": "https://localhost:8080/"
        },
        "id": "rGKxUpg8vkYQ",
        "outputId": "d76a3bae-a532-4552-8305-a4d84267b580"
      },
      "execution_count": null,
      "outputs": [
        {
          "output_type": "stream",
          "name": "stdout",
          "text": [
            "[nltk_data] Downloading package vader_lexicon to /root/nltk_data...\n",
            "[nltk_data]   Package vader_lexicon is already up-to-date!\n"
          ]
        },
        {
          "output_type": "execute_result",
          "data": {
            "text/plain": [
              "True"
            ]
          },
          "metadata": {},
          "execution_count": 42
        }
      ]
    },
    {
      "cell_type": "code",
      "source": [
        "df=pd.read_csv('transfer2.csv')\n",
        "\n",
        "#Sentiment Analysis\n",
        "SIA = SentimentIntensityAnalyzer()\n",
        "df[\"Tweet\"]= df[\"Tweet\"].astype(str)\n",
        "# Applying Model, Variable Creation\n",
        "df['Polarity Score']=df[\"Tweet\"].apply(lambda x:SIA.polarity_scores(x)['compound'])\n",
        "df['Neutral Score']=df[\"Tweet\"].apply(lambda x:SIA.polarity_scores(x)['neu'])\n",
        "df['Negative Score']=df[\"Tweet\"].apply(lambda x:SIA.polarity_scores(x)['neg'])\n",
        "df['Positive Score']=df[\"Tweet\"].apply(lambda x:SIA.polarity_scores(x)['pos'])\n",
        "# Converting 0 to 1 Decimal Score to a Categorical Variable\n",
        "df['Sentiment']=''\n",
        "df.loc[df['Polarity Score']>0,'Sentiment']='Positive'\n",
        "df.loc[df['Polarity Score']==0,'Sentiment']='Neutral'\n",
        "df.loc[df['Polarity Score']<0,'Sentiment']='Negative'\n",
        "df[:100]\n",
        "df.to_csv('sentimenttest3.csv')"
      ],
      "metadata": {
        "id": "EMxnDGOjThQz"
      },
      "execution_count": null,
      "outputs": []
    },
    {
      "cell_type": "code",
      "source": [
        "# Import the necessary modules\n",
        "import matplotlib.pyplot as plt\n",
        "import pandas as pd\n",
        "\n",
        "\n",
        "# Initialize the lists for X and Y\n",
        "data = pd.read_csv('book1.csv')\n",
        "\n",
        "df = pd.DataFrame(data)\n",
        "\n",
        "X = list(df.iloc[:, 0])\n",
        "Y = list(df.iloc[:, 1])\n",
        "\n",
        "# Plot the data using bar() method\n",
        "plt.bar(X, Y, color='g')\n",
        "plt.title(\"Sentiment Haaland Transfer\")\n",
        "plt.xlabel(\"Sentiment\")\n",
        "plt.ylabel(\"Total\")\n",
        "\n",
        "# Show the plot\n",
        "plt.show()"
      ],
      "metadata": {
        "colab": {
          "base_uri": "https://localhost:8080/",
          "height": 295
        },
        "id": "adiueVhahiPp",
        "outputId": "8ab8be89-ae5a-4ed2-ad83-84f0bf1bdc88"
      },
      "execution_count": null,
      "outputs": [
        {
          "output_type": "display_data",
          "data": {
            "text/plain": [
              "<Figure size 432x288 with 1 Axes>"
            ],
            "image/png": "[encoded data removed]"
          },
          "metadata": {
            "needs_background": "light"
          }
        }
      ]
    },
    {
      "cell_type": "code",
      "source": [
        "%matplotlib inline\n",
        "import pandas as pd\n",
        "import seaborn as sns\n",
        "import numpy as np\n",
        "df=pd.read_csv(\"book1.csv\")\n",
        "df.head()"
      ],
      "metadata": {
        "colab": {
          "base_uri": "https://localhost:8080/",
          "height": 143
        },
        "id": "WlUKG4PdYy1Z",
        "outputId": "cd9583f2-7551-4980-ab8f-4a7d556c5df2"
      },
      "execution_count": null,
      "outputs": [
        {
          "output_type": "execute_result",
          "data": {
            "text/plain": [
              "  Sentiment  Total\n",
              "0  Positive    378\n",
              "1  Negative     58\n",
              "2   Neutral    264"
            ],
            "text/html": [
              "\n",
              "  <div id=\"df-9827db94-89a7-4418-b2da-6a3618b361d8\">\n",
              "    <div class=\"colab-df-container\">\n",
              "      <div>\n",
              "<style scoped>\n",
              "    .dataframe tbody tr th:only-of-type {\n",
              "        vertical-align: middle;\n",
              "    }\n",
              "\n",
              "    .dataframe tbody tr th {\n",
              "        vertical-align: top;\n",
              "    }\n",
              "\n",
              "    .dataframe thead th {\n",
              "        text-align: right;\n",
              "    }\n",
              "</style>\n",
              "<table border=\"1\" class=\"dataframe\">\n",
              "  <thead>\n",
              "    <tr style=\"text-align: right;\">\n",
              "      <th></th>\n",
              "      <th>Sentiment</th>\n",
              "      <th>Total</th>\n",
              "    </tr>\n",
              "  </thead>\n",
              "  <tbody>\n",
              "    <tr>\n",
              "      <th>0</th>\n",
              "      <td>Positive</td>\n",
              "      <td>378</td>\n",
              "    </tr>\n",
              "    <tr>\n",
              "      <th>1</th>\n",
              "      <td>Negative</td>\n",
              "      <td>58</td>\n",
              "    </tr>\n",
              "    <tr>\n",
              "      <th>2</th>\n",
              "      <td>Neutral</td>\n",
              "      <td>264</td>\n",
              "    </tr>\n",
              "  </tbody>\n",
              "</table>\n",
              "</div>\n",
              "      <button class=\"colab-df-convert\" onclick=\"convertToInteractive('df-9827db94-89a7-4418-b2da-6a3618b361d8')\"\n",
              "              title=\"Convert this dataframe to an interactive table.\"\n",
              "              style=\"display:none;\">\n",
              "        \n",
              "  <svg xmlns=\"http://www.w3.org/2000/svg\" height=\"24px\"viewBox=\"0 0 24 24\"\n",
              "       width=\"24px\">\n",
              "    <path d=\"M0 0h24v24H0V0z\" fill=\"none\"/>\n",
              "    <path d=\"M18.56 5.44l.94 2.06.94-2.06 2.06-.94-2.06-.94-.94-2.06-.94 2.06-2.06.94zm-11 1L8.5 8.5l.94-2.06 2.06-.94-2.06-.94L8.5 2.5l-.94 2.06-2.06.94zm10 10l.94 2.06.94-2.06 2.06-.94-2.06-.94-.94-2.06-.94 2.06-2.06.94z\"/><path d=\"M17.41 7.96l-1.37-1.37c-.4-.4-.92-.59-1.43-.59-.52 0-1.04.2-1.43.59L10.3 9.45l-7.72 7.72c-.78.78-.78 2.05 0 2.83L4 21.41c.39.39.9.59 1.41.59.51 0 1.02-.2 1.41-.59l7.78-7.78 2.81-2.81c.8-.78.8-2.07 0-2.86zM5.41 20L4 18.59l7.72-7.72 1.47 1.35L5.41 20z\"/>\n",
              "  </svg>\n",
              "      </button>\n",
              "      \n",
              "  <style>\n",
              "    .colab-df-container {\n",
              "      display:flex;\n",
              "      flex-wrap:wrap;\n",
              "      gap: 12px;\n",
              "    }\n",
              "\n",
              "    .colab-df-convert {\n",
              "      background-color: #E8F0FE;\n",
              "      border: none;\n",
              "      border-radius: 50%;\n",
              "      cursor: pointer;\n",
              "      display: none;\n",
              "      fill: #1967D2;\n",
              "      height: 32px;\n",
              "      padding: 0 0 0 0;\n",
              "      width: 32px;\n",
              "    }\n",
              "\n",
              "    .colab-df-convert:hover {\n",
              "      background-color: #E2EBFA;\n",
              "      box-shadow: 0px 1px 2px rgba(60, 64, 67, 0.3), 0px 1px 3px 1px rgba(60, 64, 67, 0.15);\n",
              "      fill: #174EA6;\n",
              "    }\n",
              "\n",
              "    [theme=dark] .colab-df-convert {\n",
              "      background-color: #3B4455;\n",
              "      fill: #D2E3FC;\n",
              "    }\n",
              "\n",
              "    [theme=dark] .colab-df-convert:hover {\n",
              "      background-color: #434B5C;\n",
              "      box-shadow: 0px 1px 3px 1px rgba(0, 0, 0, 0.15);\n",
              "      filter: drop-shadow(0px 1px 2px rgba(0, 0, 0, 0.3));\n",
              "      fill: #FFFFFF;\n",
              "    }\n",
              "  </style>\n",
              "\n",
              "      <script>\n",
              "        const buttonEl =\n",
              "          document.querySelector('#df-9827db94-89a7-4418-b2da-6a3618b361d8 button.colab-df-convert');\n",
              "        buttonEl.style.display =\n",
              "          google.colab.kernel.accessAllowed ? 'block' : 'none';\n",
              "\n",
              "        async function convertToInteractive(key) {\n",
              "          const element = document.querySelector('#df-9827db94-89a7-4418-b2da-6a3618b361d8');\n",
              "          const dataTable =\n",
              "            await google.colab.kernel.invokeFunction('convertToInteractive',\n",
              "                                                     [key], {});\n",
              "          if (!dataTable) return;\n",
              "\n",
              "          const docLinkHtml = 'Like what you see? Visit the ' +\n",
              "            '<a target=\"_blank\" href=https://colab.research.google.com/notebooks/data_table.ipynb>data table notebook</a>'\n",
              "            + ' to learn more about interactive tables.';\n",
              "          element.innerHTML = '';\n",
              "          dataTable['output_type'] = 'display_data';\n",
              "          await google.colab.output.renderOutput(dataTable, element);\n",
              "          const docLink = document.createElement('div');\n",
              "          docLink.innerHTML = docLinkHtml;\n",
              "          element.appendChild(docLink);\n",
              "        }\n",
              "      </script>\n",
              "    </div>\n",
              "  </div>\n",
              "  "
            ]
          },
          "metadata": {},
          "execution_count": 1
        }
      ]
    },
    {
      "cell_type": "code",
      "source": [
        "import plotly.graph_objects as go\n",
        "\n",
        "\n",
        "fig = go.Figure(data=go.Scatterpolar(\n",
        "  r=[378, 58, 264],\n",
        "  theta=['Positive','Negative','Neutral'],\n",
        "  fill='toself'\n",
        "))\n",
        "\n",
        "fig.update_layout(\n",
        "  polar=dict(\n",
        "    radialaxis=dict(\n",
        "      visible=True\n",
        "    ),\n",
        "  ),\n",
        "  showlegend=False\n",
        ")\n",
        "\n",
        "fig.update_layout(title_text='Haaland', title_x=0.5)\n",
        "\n",
        "fig.show()"
      ],
      "metadata": {
        "colab": {
          "base_uri": "https://localhost:8080/",
          "height": 542
        },
        "id": "fSz7K6H4ZpnI",
        "outputId": "39ba6f53-bb23-4d51-d9b8-f698d47e7205"
      },
      "execution_count": null,
      "outputs": [
        {
          "output_type": "display_data",
          "data": {
            "text/html": [
              "<html>\n",
              "<head><meta charset=\"utf-8\" /></head>\n",
              "<body>\n",
              "    <div>            <script src=\"https://cdnjs.cloudflare.com/ajax/libs/mathjax/2.7.5/MathJax.js?config=TeX-AMS-MML_SVG\"></script><script type=\"text/javascript\">if (window.MathJax) {MathJax.Hub.Config({SVG: {font: \"STIX-Web\"}});}</script>                <script type=\"text/javascript\">window.PlotlyConfig = {MathJaxConfig: 'local'};</script>\n",
              "        <script src=\"https://cdn.plot.ly/plotly-2.8.3.min.js\"></script>                <div id=\"fe3f6fce-eb7b-409b-a23f-e1191d731fee\" class=\"plotly-graph-div\" style=\"height:525px; width:100%;\"></div>            <script type=\"text/javascript\">                                    window.PLOTLYENV=window.PLOTLYENV || {};                                    if (document.getElementById(\"fe3f6fce-eb7b-409b-a23f-e1191d731fee\")) {                    Plotly.newPlot(                        \"fe3f6fce-eb7b-409b-a23f-e1191d731fee\",                        [{\"fill\":\"toself\",\"r\":[378,58,264],\"theta\":[\"Positive\",\"Negative\",\"Neutral\"],\"type\":\"scatterpolar\"}],                        {\"template\":{\"data\":{\"bar\":[{\"error_x\":{\"color\":\"#2a3f5f\"},\"error_y\":{\"color\":\"#2a3f5f\"},\"marker\":{\"line\":{\"color\":\"#E5ECF6\",\"width\":0.5},\"pattern\":{\"fillmode\":\"overlay\",\"size\":10,\"solidity\":0.2}},\"type\":\"bar\"}],\"barpolar\":[{\"marker\":{\"line\":{\"color\":\"#E5ECF6\",\"width\":0.5},\"pattern\":{\"fillmode\":\"overlay\",\"size\":10,\"solidity\":0.2}},\"type\":\"barpolar\"}],\"carpet\":[{\"aaxis\":{\"endlinecolor\":\"#2a3f5f\",\"gridcolor\":\"white\",\"linecolor\":\"white\",\"minorgridcolor\":\"white\",\"startlinecolor\":\"#2a3f5f\"},\"baxis\":{\"endlinecolor\":\"#2a3f5f\",\"gridcolor\":\"white\",\"linecolor\":\"white\",\"minorgridcolor\":\"white\",\"startlinecolor\":\"#2a3f5f\"},\"type\":\"carpet\"}],\"choropleth\":[{\"colorbar\":{\"outlinewidth\":0,\"ticks\":\"\"},\"type\":\"choropleth\"}],\"contour\":[{\"colorbar\":{\"outlinewidth\":0,\"ticks\":\"\"},\"colorscale\":[[0.0,\"#0d0887\"],[0.1111111111111111,\"#46039f\"],[0.2222222222222222,\"#7201a8\"],[0.3333333333333333,\"#9c179e\"],[0.4444444444444444,\"#bd3786\"],[0.5555555555555556,\"#d8576b\"],[0.6666666666666666,\"#ed7953\"],[0.7777777777777778,\"#fb9f3a\"],[0.8888888888888888,\"#fdca26\"],[1.0,\"#f0f921\"]],\"type\":\"contour\"}],\"contourcarpet\":[{\"colorbar\":{\"outlinewidth\":0,\"ticks\":\"\"},\"type\":\"contourcarpet\"}],\"heatmap\":[{\"colorbar\":{\"outlinewidth\":0,\"ticks\":\"\"},\"colorscale\":[[0.0,\"#0d0887\"],[0.1111111111111111,\"#46039f\"],[0.2222222222222222,\"#7201a8\"],[0.3333333333333333,\"#9c179e\"],[0.4444444444444444,\"#bd3786\"],[0.5555555555555556,\"#d8576b\"],[0.6666666666666666,\"#ed7953\"],[0.7777777777777778,\"#fb9f3a\"],[0.8888888888888888,\"#fdca26\"],[1.0,\"#f0f921\"]],\"type\":\"heatmap\"}],\"heatmapgl\":[{\"colorbar\":{\"outlinewidth\":0,\"ticks\":\"\"},\"colorscale\":[[0.0,\"#0d0887\"],[0.1111111111111111,\"#46039f\"],[0.2222222222222222,\"#7201a8\"],[0.3333333333333333,\"#9c179e\"],[0.4444444444444444,\"#bd3786\"],[0.5555555555555556,\"#d8576b\"],[0.6666666666666666,\"#ed7953\"],[0.7777777777777778,\"#fb9f3a\"],[0.8888888888888888,\"#fdca26\"],[1.0,\"#f0f921\"]],\"type\":\"heatmapgl\"}],\"histogram\":[{\"marker\":{\"pattern\":{\"fillmode\":\"overlay\",\"size\":10,\"solidity\":0.2}},\"type\":\"histogram\"}],\"histogram2d\":[{\"colorbar\":{\"outlinewidth\":0,\"ticks\":\"\"},\"colorscale\":[[0.0,\"#0d0887\"],[0.1111111111111111,\"#46039f\"],[0.2222222222222222,\"#7201a8\"],[0.3333333333333333,\"#9c179e\"],[0.4444444444444444,\"#bd3786\"],[0.5555555555555556,\"#d8576b\"],[0.6666666666666666,\"#ed7953\"],[0.7777777777777778,\"#fb9f3a\"],[0.8888888888888888,\"#fdca26\"],[1.0,\"#f0f921\"]],\"type\":\"histogram2d\"}],\"histogram2dcontour\":[{\"colorbar\":{\"outlinewidth\":0,\"ticks\":\"\"},\"colorscale\":[[0.0,\"#0d0887\"],[0.1111111111111111,\"#46039f\"],[0.2222222222222222,\"#7201a8\"],[0.3333333333333333,\"#9c179e\"],[0.4444444444444444,\"#bd3786\"],[0.5555555555555556,\"#d8576b\"],[0.6666666666666666,\"#ed7953\"],[0.7777777777777778,\"#fb9f3a\"],[0.8888888888888888,\"#fdca26\"],[1.0,\"#f0f921\"]],\"type\":\"histogram2dcontour\"}],\"mesh3d\":[{\"colorbar\":{\"outlinewidth\":0,\"ticks\":\"\"},\"type\":\"mesh3d\"}],\"parcoords\":[{\"line\":{\"colorbar\":{\"outlinewidth\":0,\"ticks\":\"\"}},\"type\":\"parcoords\"}],\"pie\":[{\"automargin\":true,\"type\":\"pie\"}],\"scatter\":[{\"marker\":{\"colorbar\":{\"outlinewidth\":0,\"ticks\":\"\"}},\"type\":\"scatter\"}],\"scatter3d\":[{\"line\":{\"colorbar\":{\"outlinewidth\":0,\"ticks\":\"\"}},\"marker\":{\"colorbar\":{\"outlinewidth\":0,\"ticks\":\"\"}},\"type\":\"scatter3d\"}],\"scattercarpet\":[{\"marker\":{\"colorbar\":{\"outlinewidth\":0,\"ticks\":\"\"}},\"type\":\"scattercarpet\"}],\"scattergeo\":[{\"marker\":{\"colorbar\":{\"outlinewidth\":0,\"ticks\":\"\"}},\"type\":\"scattergeo\"}],\"scattergl\":[{\"marker\":{\"colorbar\":{\"outlinewidth\":0,\"ticks\":\"\"}},\"type\":\"scattergl\"}],\"scattermapbox\":[{\"marker\":{\"colorbar\":{\"outlinewidth\":0,\"ticks\":\"\"}},\"type\":\"scattermapbox\"}],\"scatterpolar\":[{\"marker\":{\"colorbar\":{\"outlinewidth\":0,\"ticks\":\"\"}},\"type\":\"scatterpolar\"}],\"scatterpolargl\":[{\"marker\":{\"colorbar\":{\"outlinewidth\":0,\"ticks\":\"\"}},\"type\":\"scatterpolargl\"}],\"scatterternary\":[{\"marker\":{\"colorbar\":{\"outlinewidth\":0,\"ticks\":\"\"}},\"type\":\"scatterternary\"}],\"surface\":[{\"colorbar\":{\"outlinewidth\":0,\"ticks\":\"\"},\"colorscale\":[[0.0,\"#0d0887\"],[0.1111111111111111,\"#46039f\"],[0.2222222222222222,\"#7201a8\"],[0.3333333333333333,\"#9c179e\"],[0.4444444444444444,\"#bd3786\"],[0.5555555555555556,\"#d8576b\"],[0.6666666666666666,\"#ed7953\"],[0.7777777777777778,\"#fb9f3a\"],[0.8888888888888888,\"#fdca26\"],[1.0,\"#f0f921\"]],\"type\":\"surface\"}],\"table\":[{\"cells\":{\"fill\":{\"color\":\"#EBF0F8\"},\"line\":{\"color\":\"white\"}},\"header\":{\"fill\":{\"color\":\"#C8D4E3\"},\"line\":{\"color\":\"white\"}},\"type\":\"table\"}]},\"layout\":{\"annotationdefaults\":{\"arrowcolor\":\"#2a3f5f\",\"arrowhead\":0,\"arrowwidth\":1},\"autotypenumbers\":\"strict\",\"coloraxis\":{\"colorbar\":{\"outlinewidth\":0,\"ticks\":\"\"}},\"colorscale\":{\"diverging\":[[0,\"#8e0152\"],[0.1,\"#c51b7d\"],[0.2,\"#de77ae\"],[0.3,\"#f1b6da\"],[0.4,\"#fde0ef\"],[0.5,\"#f7f7f7\"],[0.6,\"#e6f5d0\"],[0.7,\"#b8e186\"],[0.8,\"#7fbc41\"],[0.9,\"#4d9221\"],[1,\"#276419\"]],\"sequential\":[[0.0,\"#0d0887\"],[0.1111111111111111,\"#46039f\"],[0.2222222222222222,\"#7201a8\"],[0.3333333333333333,\"#9c179e\"],[0.4444444444444444,\"#bd3786\"],[0.5555555555555556,\"#d8576b\"],[0.6666666666666666,\"#ed7953\"],[0.7777777777777778,\"#fb9f3a\"],[0.8888888888888888,\"#fdca26\"],[1.0,\"#f0f921\"]],\"sequentialminus\":[[0.0,\"#0d0887\"],[0.1111111111111111,\"#46039f\"],[0.2222222222222222,\"#7201a8\"],[0.3333333333333333,\"#9c179e\"],[0.4444444444444444,\"#bd3786\"],[0.5555555555555556,\"#d8576b\"],[0.6666666666666666,\"#ed7953\"],[0.7777777777777778,\"#fb9f3a\"],[0.8888888888888888,\"#fdca26\"],[1.0,\"#f0f921\"]]},\"colorway\":[\"#636efa\",\"#EF553B\",\"#00cc96\",\"#ab63fa\",\"#FFA15A\",\"#19d3f3\",\"#FF6692\",\"#B6E880\",\"#FF97FF\",\"#FECB52\"],\"font\":{\"color\":\"#2a3f5f\"},\"geo\":{\"bgcolor\":\"white\",\"lakecolor\":\"white\",\"landcolor\":\"#E5ECF6\",\"showlakes\":true,\"showland\":true,\"subunitcolor\":\"white\"},\"hoverlabel\":{\"align\":\"left\"},\"hovermode\":\"closest\",\"mapbox\":{\"style\":\"light\"},\"paper_bgcolor\":\"white\",\"plot_bgcolor\":\"#E5ECF6\",\"polar\":{\"angularaxis\":{\"gridcolor\":\"white\",\"linecolor\":\"white\",\"ticks\":\"\"},\"bgcolor\":\"#E5ECF6\",\"radialaxis\":{\"gridcolor\":\"white\",\"linecolor\":\"white\",\"ticks\":\"\"}},\"scene\":{\"xaxis\":{\"backgroundcolor\":\"#E5ECF6\",\"gridcolor\":\"white\",\"gridwidth\":2,\"linecolor\":\"white\",\"showbackground\":true,\"ticks\":\"\",\"zerolinecolor\":\"white\"},\"yaxis\":{\"backgroundcolor\":\"#E5ECF6\",\"gridcolor\":\"white\",\"gridwidth\":2,\"linecolor\":\"white\",\"showbackground\":true,\"ticks\":\"\",\"zerolinecolor\":\"white\"},\"zaxis\":{\"backgroundcolor\":\"#E5ECF6\",\"gridcolor\":\"white\",\"gridwidth\":2,\"linecolor\":\"white\",\"showbackground\":true,\"ticks\":\"\",\"zerolinecolor\":\"white\"}},\"shapedefaults\":{\"line\":{\"color\":\"#2a3f5f\"}},\"ternary\":{\"aaxis\":{\"gridcolor\":\"white\",\"linecolor\":\"white\",\"ticks\":\"\"},\"baxis\":{\"gridcolor\":\"white\",\"linecolor\":\"white\",\"ticks\":\"\"},\"bgcolor\":\"#E5ECF6\",\"caxis\":{\"gridcolor\":\"white\",\"linecolor\":\"white\",\"ticks\":\"\"}},\"title\":{\"x\":0.05},\"xaxis\":{\"automargin\":true,\"gridcolor\":\"white\",\"linecolor\":\"white\",\"ticks\":\"\",\"title\":{\"standoff\":15},\"zerolinecolor\":\"white\",\"zerolinewidth\":2},\"yaxis\":{\"automargin\":true,\"gridcolor\":\"white\",\"linecolor\":\"white\",\"ticks\":\"\",\"title\":{\"standoff\":15},\"zerolinecolor\":\"white\",\"zerolinewidth\":2}}},\"polar\":{\"radialaxis\":{\"visible\":true}},\"showlegend\":false,\"title\":{\"text\":\"Haaland\",\"x\":0.5}},                        {\"responsive\": true}                    ).then(function(){\n",
              "                            \n",
              "var gd = document.getElementById('fe3f6fce-eb7b-409b-a23f-e1191d731fee');\n",
              "var x = new MutationObserver(function (mutations, observer) {{\n",
              "        var display = window.getComputedStyle(gd).display;\n",
              "        if (!display || display === 'none') {{\n",
              "            console.log([gd, 'removed!']);\n",
              "            Plotly.purge(gd);\n",
              "            observer.disconnect();\n",
              "        }}\n",
              "}});\n",
              "\n",
              "// Listen for the removal of the full notebook cells\n",
              "var notebookContainer = gd.closest('#notebook-container');\n",
              "if (notebookContainer) {{\n",
              "    x.observe(notebookContainer, {childList: true});\n",
              "}}\n",
              "\n",
              "// Listen for the clearing of the current output cell\n",
              "var outputEl = gd.closest('.output');\n",
              "if (outputEl) {{\n",
              "    x.observe(outputEl, {childList: true});\n",
              "}}\n",
              "\n",
              "                        })                };                            </script>        </div>\n",
              "</body>\n",
              "</html>"
            ]
          },
          "metadata": {}
        }
      ]
    },
    {
      "cell_type": "code",
      "source": [
        "import plotly.graph_objects as go\n",
        "\n",
        "fig = go.Figure(data=go.Scatterpolar(\n",
        "  r=[33, 14, 404],\n",
        "  theta=['Positive','Negative','Neutral'],\n",
        "  fill='toself'\n",
        "))\n",
        "\n",
        "fig.update_layout(\n",
        "  polar=dict(\n",
        "    radialaxis=dict(\n",
        "      visible=True\n",
        "    ),\n",
        "  ),\n",
        "  showlegend=False\n",
        ")\n",
        "\n",
        "fig.update_layout(title_text='Jadon Sancho', title_x=0.5)\n",
        "\n",
        "fig.show()"
      ],
      "metadata": {
        "colab": {
          "base_uri": "https://localhost:8080/",
          "height": 542
        },
        "id": "yaPl9w8ocNcw",
        "outputId": "e003a7bf-5357-4732-f37e-9eb508c61708"
      },
      "execution_count": null,
      "outputs": [
        {
          "output_type": "display_data",
          "data": {
            "text/html": [
              "<html>\n",
              "<head><meta charset=\"utf-8\" /></head>\n",
              "<body>\n",
              "    <div>            <script src=\"https://cdnjs.cloudflare.com/ajax/libs/mathjax/2.7.5/MathJax.js?config=TeX-AMS-MML_SVG\"></script><script type=\"text/javascript\">if (window.MathJax) {MathJax.Hub.Config({SVG: {font: \"STIX-Web\"}});}</script>                <script type=\"text/javascript\">window.PlotlyConfig = {MathJaxConfig: 'local'};</script>\n",
              "        <script src=\"https://cdn.plot.ly/plotly-2.8.3.min.js\"></script>                <div id=\"3b883b26-f1da-42cc-8ad3-7a6f67e05678\" class=\"plotly-graph-div\" style=\"height:525px; width:100%;\"></div>            <script type=\"text/javascript\">                                    window.PLOTLYENV=window.PLOTLYENV || {};                                    if (document.getElementById(\"3b883b26-f1da-42cc-8ad3-7a6f67e05678\")) {                    Plotly.newPlot(                        \"3b883b26-f1da-42cc-8ad3-7a6f67e05678\",                        [{\"fill\":\"toself\",\"r\":[33,14,404],\"theta\":[\"Positive\",\"Negative\",\"Neutral\"],\"type\":\"scatterpolar\"}],                        {\"template\":{\"data\":{\"bar\":[{\"error_x\":{\"color\":\"#2a3f5f\"},\"error_y\":{\"color\":\"#2a3f5f\"},\"marker\":{\"line\":{\"color\":\"#E5ECF6\",\"width\":0.5},\"pattern\":{\"fillmode\":\"overlay\",\"size\":10,\"solidity\":0.2}},\"type\":\"bar\"}],\"barpolar\":[{\"marker\":{\"line\":{\"color\":\"#E5ECF6\",\"width\":0.5},\"pattern\":{\"fillmode\":\"overlay\",\"size\":10,\"solidity\":0.2}},\"type\":\"barpolar\"}],\"carpet\":[{\"aaxis\":{\"endlinecolor\":\"#2a3f5f\",\"gridcolor\":\"white\",\"linecolor\":\"white\",\"minorgridcolor\":\"white\",\"startlinecolor\":\"#2a3f5f\"},\"baxis\":{\"endlinecolor\":\"#2a3f5f\",\"gridcolor\":\"white\",\"linecolor\":\"white\",\"minorgridcolor\":\"white\",\"startlinecolor\":\"#2a3f5f\"},\"type\":\"carpet\"}],\"choropleth\":[{\"colorbar\":{\"outlinewidth\":0,\"ticks\":\"\"},\"type\":\"choropleth\"}],\"contour\":[{\"colorbar\":{\"outlinewidth\":0,\"ticks\":\"\"},\"colorscale\":[[0.0,\"#0d0887\"],[0.1111111111111111,\"#46039f\"],[0.2222222222222222,\"#7201a8\"],[0.3333333333333333,\"#9c179e\"],[0.4444444444444444,\"#bd3786\"],[0.5555555555555556,\"#d8576b\"],[0.6666666666666666,\"#ed7953\"],[0.7777777777777778,\"#fb9f3a\"],[0.8888888888888888,\"#fdca26\"],[1.0,\"#f0f921\"]],\"type\":\"contour\"}],\"contourcarpet\":[{\"colorbar\":{\"outlinewidth\":0,\"ticks\":\"\"},\"type\":\"contourcarpet\"}],\"heatmap\":[{\"colorbar\":{\"outlinewidth\":0,\"ticks\":\"\"},\"colorscale\":[[0.0,\"#0d0887\"],[0.1111111111111111,\"#46039f\"],[0.2222222222222222,\"#7201a8\"],[0.3333333333333333,\"#9c179e\"],[0.4444444444444444,\"#bd3786\"],[0.5555555555555556,\"#d8576b\"],[0.6666666666666666,\"#ed7953\"],[0.7777777777777778,\"#fb9f3a\"],[0.8888888888888888,\"#fdca26\"],[1.0,\"#f0f921\"]],\"type\":\"heatmap\"}],\"heatmapgl\":[{\"colorbar\":{\"outlinewidth\":0,\"ticks\":\"\"},\"colorscale\":[[0.0,\"#0d0887\"],[0.1111111111111111,\"#46039f\"],[0.2222222222222222,\"#7201a8\"],[0.3333333333333333,\"#9c179e\"],[0.4444444444444444,\"#bd3786\"],[0.5555555555555556,\"#d8576b\"],[0.6666666666666666,\"#ed7953\"],[0.7777777777777778,\"#fb9f3a\"],[0.8888888888888888,\"#fdca26\"],[1.0,\"#f0f921\"]],\"type\":\"heatmapgl\"}],\"histogram\":[{\"marker\":{\"pattern\":{\"fillmode\":\"overlay\",\"size\":10,\"solidity\":0.2}},\"type\":\"histogram\"}],\"histogram2d\":[{\"colorbar\":{\"outlinewidth\":0,\"ticks\":\"\"},\"colorscale\":[[0.0,\"#0d0887\"],[0.1111111111111111,\"#46039f\"],[0.2222222222222222,\"#7201a8\"],[0.3333333333333333,\"#9c179e\"],[0.4444444444444444,\"#bd3786\"],[0.5555555555555556,\"#d8576b\"],[0.6666666666666666,\"#ed7953\"],[0.7777777777777778,\"#fb9f3a\"],[0.8888888888888888,\"#fdca26\"],[1.0,\"#f0f921\"]],\"type\":\"histogram2d\"}],\"histogram2dcontour\":[{\"colorbar\":{\"outlinewidth\":0,\"ticks\":\"\"},\"colorscale\":[[0.0,\"#0d0887\"],[0.1111111111111111,\"#46039f\"],[0.2222222222222222,\"#7201a8\"],[0.3333333333333333,\"#9c179e\"],[0.4444444444444444,\"#bd3786\"],[0.5555555555555556,\"#d8576b\"],[0.6666666666666666,\"#ed7953\"],[0.7777777777777778,\"#fb9f3a\"],[0.8888888888888888,\"#fdca26\"],[1.0,\"#f0f921\"]],\"type\":\"histogram2dcontour\"}],\"mesh3d\":[{\"colorbar\":{\"outlinewidth\":0,\"ticks\":\"\"},\"type\":\"mesh3d\"}],\"parcoords\":[{\"line\":{\"colorbar\":{\"outlinewidth\":0,\"ticks\":\"\"}},\"type\":\"parcoords\"}],\"pie\":[{\"automargin\":true,\"type\":\"pie\"}],\"scatter\":[{\"marker\":{\"colorbar\":{\"outlinewidth\":0,\"ticks\":\"\"}},\"type\":\"scatter\"}],\"scatter3d\":[{\"line\":{\"colorbar\":{\"outlinewidth\":0,\"ticks\":\"\"}},\"marker\":{\"colorbar\":{\"outlinewidth\":0,\"ticks\":\"\"}},\"type\":\"scatter3d\"}],\"scattercarpet\":[{\"marker\":{\"colorbar\":{\"outlinewidth\":0,\"ticks\":\"\"}},\"type\":\"scattercarpet\"}],\"scattergeo\":[{\"marker\":{\"colorbar\":{\"outlinewidth\":0,\"ticks\":\"\"}},\"type\":\"scattergeo\"}],\"scattergl\":[{\"marker\":{\"colorbar\":{\"outlinewidth\":0,\"ticks\":\"\"}},\"type\":\"scattergl\"}],\"scattermapbox\":[{\"marker\":{\"colorbar\":{\"outlinewidth\":0,\"ticks\":\"\"}},\"type\":\"scattermapbox\"}],\"scatterpolar\":[{\"marker\":{\"colorbar\":{\"outlinewidth\":0,\"ticks\":\"\"}},\"type\":\"scatterpolar\"}],\"scatterpolargl\":[{\"marker\":{\"colorbar\":{\"outlinewidth\":0,\"ticks\":\"\"}},\"type\":\"scatterpolargl\"}],\"scatterternary\":[{\"marker\":{\"colorbar\":{\"outlinewidth\":0,\"ticks\":\"\"}},\"type\":\"scatterternary\"}],\"surface\":[{\"colorbar\":{\"outlinewidth\":0,\"ticks\":\"\"},\"colorscale\":[[0.0,\"#0d0887\"],[0.1111111111111111,\"#46039f\"],[0.2222222222222222,\"#7201a8\"],[0.3333333333333333,\"#9c179e\"],[0.4444444444444444,\"#bd3786\"],[0.5555555555555556,\"#d8576b\"],[0.6666666666666666,\"#ed7953\"],[0.7777777777777778,\"#fb9f3a\"],[0.8888888888888888,\"#fdca26\"],[1.0,\"#f0f921\"]],\"type\":\"surface\"}],\"table\":[{\"cells\":{\"fill\":{\"color\":\"#EBF0F8\"},\"line\":{\"color\":\"white\"}},\"header\":{\"fill\":{\"color\":\"#C8D4E3\"},\"line\":{\"color\":\"white\"}},\"type\":\"table\"}]},\"layout\":{\"annotationdefaults\":{\"arrowcolor\":\"#2a3f5f\",\"arrowhead\":0,\"arrowwidth\":1},\"autotypenumbers\":\"strict\",\"coloraxis\":{\"colorbar\":{\"outlinewidth\":0,\"ticks\":\"\"}},\"colorscale\":{\"diverging\":[[0,\"#8e0152\"],[0.1,\"#c51b7d\"],[0.2,\"#de77ae\"],[0.3,\"#f1b6da\"],[0.4,\"#fde0ef\"],[0.5,\"#f7f7f7\"],[0.6,\"#e6f5d0\"],[0.7,\"#b8e186\"],[0.8,\"#7fbc41\"],[0.9,\"#4d9221\"],[1,\"#276419\"]],\"sequential\":[[0.0,\"#0d0887\"],[0.1111111111111111,\"#46039f\"],[0.2222222222222222,\"#7201a8\"],[0.3333333333333333,\"#9c179e\"],[0.4444444444444444,\"#bd3786\"],[0.5555555555555556,\"#d8576b\"],[0.6666666666666666,\"#ed7953\"],[0.7777777777777778,\"#fb9f3a\"],[0.8888888888888888,\"#fdca26\"],[1.0,\"#f0f921\"]],\"sequentialminus\":[[0.0,\"#0d0887\"],[0.1111111111111111,\"#46039f\"],[0.2222222222222222,\"#7201a8\"],[0.3333333333333333,\"#9c179e\"],[0.4444444444444444,\"#bd3786\"],[0.5555555555555556,\"#d8576b\"],[0.6666666666666666,\"#ed7953\"],[0.7777777777777778,\"#fb9f3a\"],[0.8888888888888888,\"#fdca26\"],[1.0,\"#f0f921\"]]},\"colorway\":[\"#636efa\",\"#EF553B\",\"#00cc96\",\"#ab63fa\",\"#FFA15A\",\"#19d3f3\",\"#FF6692\",\"#B6E880\",\"#FF97FF\",\"#FECB52\"],\"font\":{\"color\":\"#2a3f5f\"},\"geo\":{\"bgcolor\":\"white\",\"lakecolor\":\"white\",\"landcolor\":\"#E5ECF6\",\"showlakes\":true,\"showland\":true,\"subunitcolor\":\"white\"},\"hoverlabel\":{\"align\":\"left\"},\"hovermode\":\"closest\",\"mapbox\":{\"style\":\"light\"},\"paper_bgcolor\":\"white\",\"plot_bgcolor\":\"#E5ECF6\",\"polar\":{\"angularaxis\":{\"gridcolor\":\"white\",\"linecolor\":\"white\",\"ticks\":\"\"},\"bgcolor\":\"#E5ECF6\",\"radialaxis\":{\"gridcolor\":\"white\",\"linecolor\":\"white\",\"ticks\":\"\"}},\"scene\":{\"xaxis\":{\"backgroundcolor\":\"#E5ECF6\",\"gridcolor\":\"white\",\"gridwidth\":2,\"linecolor\":\"white\",\"showbackground\":true,\"ticks\":\"\",\"zerolinecolor\":\"white\"},\"yaxis\":{\"backgroundcolor\":\"#E5ECF6\",\"gridcolor\":\"white\",\"gridwidth\":2,\"linecolor\":\"white\",\"showbackground\":true,\"ticks\":\"\",\"zerolinecolor\":\"white\"},\"zaxis\":{\"backgroundcolor\":\"#E5ECF6\",\"gridcolor\":\"white\",\"gridwidth\":2,\"linecolor\":\"white\",\"showbackground\":true,\"ticks\":\"\",\"zerolinecolor\":\"white\"}},\"shapedefaults\":{\"line\":{\"color\":\"#2a3f5f\"}},\"ternary\":{\"aaxis\":{\"gridcolor\":\"white\",\"linecolor\":\"white\",\"ticks\":\"\"},\"baxis\":{\"gridcolor\":\"white\",\"linecolor\":\"white\",\"ticks\":\"\"},\"bgcolor\":\"#E5ECF6\",\"caxis\":{\"gridcolor\":\"white\",\"linecolor\":\"white\",\"ticks\":\"\"}},\"title\":{\"x\":0.05},\"xaxis\":{\"automargin\":true,\"gridcolor\":\"white\",\"linecolor\":\"white\",\"ticks\":\"\",\"title\":{\"standoff\":15},\"zerolinecolor\":\"white\",\"zerolinewidth\":2},\"yaxis\":{\"automargin\":true,\"gridcolor\":\"white\",\"linecolor\":\"white\",\"ticks\":\"\",\"title\":{\"standoff\":15},\"zerolinecolor\":\"white\",\"zerolinewidth\":2}}},\"polar\":{\"radialaxis\":{\"visible\":true}},\"showlegend\":false,\"title\":{\"text\":\"Jadon Sancho\",\"x\":0.5}},                        {\"responsive\": true}                    ).then(function(){\n",
              "                            \n",
              "var gd = document.getElementById('3b883b26-f1da-42cc-8ad3-7a6f67e05678');\n",
              "var x = new MutationObserver(function (mutations, observer) {{\n",
              "        var display = window.getComputedStyle(gd).display;\n",
              "        if (!display || display === 'none') {{\n",
              "            console.log([gd, 'removed!']);\n",
              "            Plotly.purge(gd);\n",
              "            observer.disconnect();\n",
              "        }}\n",
              "}});\n",
              "\n",
              "// Listen for the removal of the full notebook cells\n",
              "var notebookContainer = gd.closest('#notebook-container');\n",
              "if (notebookContainer) {{\n",
              "    x.observe(notebookContainer, {childList: true});\n",
              "}}\n",
              "\n",
              "// Listen for the clearing of the current output cell\n",
              "var outputEl = gd.closest('.output');\n",
              "if (outputEl) {{\n",
              "    x.observe(outputEl, {childList: true});\n",
              "}}\n",
              "\n",
              "                        })                };                            </script>        </div>\n",
              "</body>\n",
              "</html>"
            ]
          },
          "metadata": {}
        }
      ]
    },
    {
      "cell_type": "code",
      "source": [
        "import plotly.graph_objects as go\n",
        "\n",
        "fig = go.Figure(data=go.Scatterpolar(\n",
        "  r=[343, 11, 646],\n",
        "  theta=['Positive','Negative','Neutral'],\n",
        "  fill='toself'\n",
        "))\n",
        "\n",
        "fig.update_layout(\n",
        "  polar=dict(\n",
        "    radialaxis=dict(\n",
        "      visible=True\n",
        "    ),\n",
        "  ),\n",
        "  showlegend=False\n",
        ")\n",
        "\n",
        "fig.update_layout(title_text='Gabriel Jesus', title_x=0.5)\n",
        "\n",
        "fig.show()"
      ],
      "metadata": {
        "colab": {
          "base_uri": "https://localhost:8080/",
          "height": 542
        },
        "id": "Jy1z1wIhM7R2",
        "outputId": "3bdfc3ff-6500-4105-fb0f-4c40cceeadad"
      },
      "execution_count": null,
      "outputs": [
        {
          "output_type": "display_data",
          "data": {
            "text/html": [
              "<html>\n",
              "<head><meta charset=\"utf-8\" /></head>\n",
              "<body>\n",
              "    <div>            <script src=\"https://cdnjs.cloudflare.com/ajax/libs/mathjax/2.7.5/MathJax.js?config=TeX-AMS-MML_SVG\"></script><script type=\"text/javascript\">if (window.MathJax) {MathJax.Hub.Config({SVG: {font: \"STIX-Web\"}});}</script>                <script type=\"text/javascript\">window.PlotlyConfig = {MathJaxConfig: 'local'};</script>\n",
              "        <script src=\"https://cdn.plot.ly/plotly-2.8.3.min.js\"></script>                <div id=\"da2722e2-a003-49ef-80f1-4566ce5e3fbb\" class=\"plotly-graph-div\" style=\"height:525px; width:100%;\"></div>            <script type=\"text/javascript\">                                    window.PLOTLYENV=window.PLOTLYENV || {};                                    if (document.getElementById(\"da2722e2-a003-49ef-80f1-4566ce5e3fbb\")) {                    Plotly.newPlot(                        \"da2722e2-a003-49ef-80f1-4566ce5e3fbb\",                        [{\"fill\":\"toself\",\"r\":[343,11,646],\"theta\":[\"Positive\",\"Negative\",\"Neutral\"],\"type\":\"scatterpolar\"}],                        {\"template\":{\"data\":{\"bar\":[{\"error_x\":{\"color\":\"#2a3f5f\"},\"error_y\":{\"color\":\"#2a3f5f\"},\"marker\":{\"line\":{\"color\":\"#E5ECF6\",\"width\":0.5},\"pattern\":{\"fillmode\":\"overlay\",\"size\":10,\"solidity\":0.2}},\"type\":\"bar\"}],\"barpolar\":[{\"marker\":{\"line\":{\"color\":\"#E5ECF6\",\"width\":0.5},\"pattern\":{\"fillmode\":\"overlay\",\"size\":10,\"solidity\":0.2}},\"type\":\"barpolar\"}],\"carpet\":[{\"aaxis\":{\"endlinecolor\":\"#2a3f5f\",\"gridcolor\":\"white\",\"linecolor\":\"white\",\"minorgridcolor\":\"white\",\"startlinecolor\":\"#2a3f5f\"},\"baxis\":{\"endlinecolor\":\"#2a3f5f\",\"gridcolor\":\"white\",\"linecolor\":\"white\",\"minorgridcolor\":\"white\",\"startlinecolor\":\"#2a3f5f\"},\"type\":\"carpet\"}],\"choropleth\":[{\"colorbar\":{\"outlinewidth\":0,\"ticks\":\"\"},\"type\":\"choropleth\"}],\"contour\":[{\"colorbar\":{\"outlinewidth\":0,\"ticks\":\"\"},\"colorscale\":[[0.0,\"#0d0887\"],[0.1111111111111111,\"#46039f\"],[0.2222222222222222,\"#7201a8\"],[0.3333333333333333,\"#9c179e\"],[0.4444444444444444,\"#bd3786\"],[0.5555555555555556,\"#d8576b\"],[0.6666666666666666,\"#ed7953\"],[0.7777777777777778,\"#fb9f3a\"],[0.8888888888888888,\"#fdca26\"],[1.0,\"#f0f921\"]],\"type\":\"contour\"}],\"contourcarpet\":[{\"colorbar\":{\"outlinewidth\":0,\"ticks\":\"\"},\"type\":\"contourcarpet\"}],\"heatmap\":[{\"colorbar\":{\"outlinewidth\":0,\"ticks\":\"\"},\"colorscale\":[[0.0,\"#0d0887\"],[0.1111111111111111,\"#46039f\"],[0.2222222222222222,\"#7201a8\"],[0.3333333333333333,\"#9c179e\"],[0.4444444444444444,\"#bd3786\"],[0.5555555555555556,\"#d8576b\"],[0.6666666666666666,\"#ed7953\"],[0.7777777777777778,\"#fb9f3a\"],[0.8888888888888888,\"#fdca26\"],[1.0,\"#f0f921\"]],\"type\":\"heatmap\"}],\"heatmapgl\":[{\"colorbar\":{\"outlinewidth\":0,\"ticks\":\"\"},\"colorscale\":[[0.0,\"#0d0887\"],[0.1111111111111111,\"#46039f\"],[0.2222222222222222,\"#7201a8\"],[0.3333333333333333,\"#9c179e\"],[0.4444444444444444,\"#bd3786\"],[0.5555555555555556,\"#d8576b\"],[0.6666666666666666,\"#ed7953\"],[0.7777777777777778,\"#fb9f3a\"],[0.8888888888888888,\"#fdca26\"],[1.0,\"#f0f921\"]],\"type\":\"heatmapgl\"}],\"histogram\":[{\"marker\":{\"pattern\":{\"fillmode\":\"overlay\",\"size\":10,\"solidity\":0.2}},\"type\":\"histogram\"}],\"histogram2d\":[{\"colorbar\":{\"outlinewidth\":0,\"ticks\":\"\"},\"colorscale\":[[0.0,\"#0d0887\"],[0.1111111111111111,\"#46039f\"],[0.2222222222222222,\"#7201a8\"],[0.3333333333333333,\"#9c179e\"],[0.4444444444444444,\"#bd3786\"],[0.5555555555555556,\"#d8576b\"],[0.6666666666666666,\"#ed7953\"],[0.7777777777777778,\"#fb9f3a\"],[0.8888888888888888,\"#fdca26\"],[1.0,\"#f0f921\"]],\"type\":\"histogram2d\"}],\"histogram2dcontour\":[{\"colorbar\":{\"outlinewidth\":0,\"ticks\":\"\"},\"colorscale\":[[0.0,\"#0d0887\"],[0.1111111111111111,\"#46039f\"],[0.2222222222222222,\"#7201a8\"],[0.3333333333333333,\"#9c179e\"],[0.4444444444444444,\"#bd3786\"],[0.5555555555555556,\"#d8576b\"],[0.6666666666666666,\"#ed7953\"],[0.7777777777777778,\"#fb9f3a\"],[0.8888888888888888,\"#fdca26\"],[1.0,\"#f0f921\"]],\"type\":\"histogram2dcontour\"}],\"mesh3d\":[{\"colorbar\":{\"outlinewidth\":0,\"ticks\":\"\"},\"type\":\"mesh3d\"}],\"parcoords\":[{\"line\":{\"colorbar\":{\"outlinewidth\":0,\"ticks\":\"\"}},\"type\":\"parcoords\"}],\"pie\":[{\"automargin\":true,\"type\":\"pie\"}],\"scatter\":[{\"marker\":{\"colorbar\":{\"outlinewidth\":0,\"ticks\":\"\"}},\"type\":\"scatter\"}],\"scatter3d\":[{\"line\":{\"colorbar\":{\"outlinewidth\":0,\"ticks\":\"\"}},\"marker\":{\"colorbar\":{\"outlinewidth\":0,\"ticks\":\"\"}},\"type\":\"scatter3d\"}],\"scattercarpet\":[{\"marker\":{\"colorbar\":{\"outlinewidth\":0,\"ticks\":\"\"}},\"type\":\"scattercarpet\"}],\"scattergeo\":[{\"marker\":{\"colorbar\":{\"outlinewidth\":0,\"ticks\":\"\"}},\"type\":\"scattergeo\"}],\"scattergl\":[{\"marker\":{\"colorbar\":{\"outlinewidth\":0,\"ticks\":\"\"}},\"type\":\"scattergl\"}],\"scattermapbox\":[{\"marker\":{\"colorbar\":{\"outlinewidth\":0,\"ticks\":\"\"}},\"type\":\"scattermapbox\"}],\"scatterpolar\":[{\"marker\":{\"colorbar\":{\"outlinewidth\":0,\"ticks\":\"\"}},\"type\":\"scatterpolar\"}],\"scatterpolargl\":[{\"marker\":{\"colorbar\":{\"outlinewidth\":0,\"ticks\":\"\"}},\"type\":\"scatterpolargl\"}],\"scatterternary\":[{\"marker\":{\"colorbar\":{\"outlinewidth\":0,\"ticks\":\"\"}},\"type\":\"scatterternary\"}],\"surface\":[{\"colorbar\":{\"outlinewidth\":0,\"ticks\":\"\"},\"colorscale\":[[0.0,\"#0d0887\"],[0.1111111111111111,\"#46039f\"],[0.2222222222222222,\"#7201a8\"],[0.3333333333333333,\"#9c179e\"],[0.4444444444444444,\"#bd3786\"],[0.5555555555555556,\"#d8576b\"],[0.6666666666666666,\"#ed7953\"],[0.7777777777777778,\"#fb9f3a\"],[0.8888888888888888,\"#fdca26\"],[1.0,\"#f0f921\"]],\"type\":\"surface\"}],\"table\":[{\"cells\":{\"fill\":{\"color\":\"#EBF0F8\"},\"line\":{\"color\":\"white\"}},\"header\":{\"fill\":{\"color\":\"#C8D4E3\"},\"line\":{\"color\":\"white\"}},\"type\":\"table\"}]},\"layout\":{\"annotationdefaults\":{\"arrowcolor\":\"#2a3f5f\",\"arrowhead\":0,\"arrowwidth\":1},\"autotypenumbers\":\"strict\",\"coloraxis\":{\"colorbar\":{\"outlinewidth\":0,\"ticks\":\"\"}},\"colorscale\":{\"diverging\":[[0,\"#8e0152\"],[0.1,\"#c51b7d\"],[0.2,\"#de77ae\"],[0.3,\"#f1b6da\"],[0.4,\"#fde0ef\"],[0.5,\"#f7f7f7\"],[0.6,\"#e6f5d0\"],[0.7,\"#b8e186\"],[0.8,\"#7fbc41\"],[0.9,\"#4d9221\"],[1,\"#276419\"]],\"sequential\":[[0.0,\"#0d0887\"],[0.1111111111111111,\"#46039f\"],[0.2222222222222222,\"#7201a8\"],[0.3333333333333333,\"#9c179e\"],[0.4444444444444444,\"#bd3786\"],[0.5555555555555556,\"#d8576b\"],[0.6666666666666666,\"#ed7953\"],[0.7777777777777778,\"#fb9f3a\"],[0.8888888888888888,\"#fdca26\"],[1.0,\"#f0f921\"]],\"sequentialminus\":[[0.0,\"#0d0887\"],[0.1111111111111111,\"#46039f\"],[0.2222222222222222,\"#7201a8\"],[0.3333333333333333,\"#9c179e\"],[0.4444444444444444,\"#bd3786\"],[0.5555555555555556,\"#d8576b\"],[0.6666666666666666,\"#ed7953\"],[0.7777777777777778,\"#fb9f3a\"],[0.8888888888888888,\"#fdca26\"],[1.0,\"#f0f921\"]]},\"colorway\":[\"#636efa\",\"#EF553B\",\"#00cc96\",\"#ab63fa\",\"#FFA15A\",\"#19d3f3\",\"#FF6692\",\"#B6E880\",\"#FF97FF\",\"#FECB52\"],\"font\":{\"color\":\"#2a3f5f\"},\"geo\":{\"bgcolor\":\"white\",\"lakecolor\":\"white\",\"landcolor\":\"#E5ECF6\",\"showlakes\":true,\"showland\":true,\"subunitcolor\":\"white\"},\"hoverlabel\":{\"align\":\"left\"},\"hovermode\":\"closest\",\"mapbox\":{\"style\":\"light\"},\"paper_bgcolor\":\"white\",\"plot_bgcolor\":\"#E5ECF6\",\"polar\":{\"angularaxis\":{\"gridcolor\":\"white\",\"linecolor\":\"white\",\"ticks\":\"\"},\"bgcolor\":\"#E5ECF6\",\"radialaxis\":{\"gridcolor\":\"white\",\"linecolor\":\"white\",\"ticks\":\"\"}},\"scene\":{\"xaxis\":{\"backgroundcolor\":\"#E5ECF6\",\"gridcolor\":\"white\",\"gridwidth\":2,\"linecolor\":\"white\",\"showbackground\":true,\"ticks\":\"\",\"zerolinecolor\":\"white\"},\"yaxis\":{\"backgroundcolor\":\"#E5ECF6\",\"gridcolor\":\"white\",\"gridwidth\":2,\"linecolor\":\"white\",\"showbackground\":true,\"ticks\":\"\",\"zerolinecolor\":\"white\"},\"zaxis\":{\"backgroundcolor\":\"#E5ECF6\",\"gridcolor\":\"white\",\"gridwidth\":2,\"linecolor\":\"white\",\"showbackground\":true,\"ticks\":\"\",\"zerolinecolor\":\"white\"}},\"shapedefaults\":{\"line\":{\"color\":\"#2a3f5f\"}},\"ternary\":{\"aaxis\":{\"gridcolor\":\"white\",\"linecolor\":\"white\",\"ticks\":\"\"},\"baxis\":{\"gridcolor\":\"white\",\"linecolor\":\"white\",\"ticks\":\"\"},\"bgcolor\":\"#E5ECF6\",\"caxis\":{\"gridcolor\":\"white\",\"linecolor\":\"white\",\"ticks\":\"\"}},\"title\":{\"x\":0.05},\"xaxis\":{\"automargin\":true,\"gridcolor\":\"white\",\"linecolor\":\"white\",\"ticks\":\"\",\"title\":{\"standoff\":15},\"zerolinecolor\":\"white\",\"zerolinewidth\":2},\"yaxis\":{\"automargin\":true,\"gridcolor\":\"white\",\"linecolor\":\"white\",\"ticks\":\"\",\"title\":{\"standoff\":15},\"zerolinecolor\":\"white\",\"zerolinewidth\":2}}},\"polar\":{\"radialaxis\":{\"visible\":true}},\"showlegend\":false,\"title\":{\"text\":\"Gabriel Jesus\",\"x\":0.5}},                        {\"responsive\": true}                    ).then(function(){\n",
              "                            \n",
              "var gd = document.getElementById('da2722e2-a003-49ef-80f1-4566ce5e3fbb');\n",
              "var x = new MutationObserver(function (mutations, observer) {{\n",
              "        var display = window.getComputedStyle(gd).display;\n",
              "        if (!display || display === 'none') {{\n",
              "            console.log([gd, 'removed!']);\n",
              "            Plotly.purge(gd);\n",
              "            observer.disconnect();\n",
              "        }}\n",
              "}});\n",
              "\n",
              "// Listen for the removal of the full notebook cells\n",
              "var notebookContainer = gd.closest('#notebook-container');\n",
              "if (notebookContainer) {{\n",
              "    x.observe(notebookContainer, {childList: true});\n",
              "}}\n",
              "\n",
              "// Listen for the clearing of the current output cell\n",
              "var outputEl = gd.closest('.output');\n",
              "if (outputEl) {{\n",
              "    x.observe(outputEl, {childList: true});\n",
              "}}\n",
              "\n",
              "                        })                };                            </script>        </div>\n",
              "</body>\n",
              "</html>"
            ]
          },
          "metadata": {}
        }
      ]
    },
    {
      "cell_type": "code",
      "source": [
        "import plotly.graph_objects as go\n",
        "\n",
        "players = ['Positive','Negative','Neutral']\n",
        "\n",
        "fig = go.Figure()\n",
        "\n",
        "fig.add_trace(go.Scatterpolar(\n",
        "  r=[378, 58, 264],\n",
        "  theta=players,\n",
        "  fill='toself',\n",
        "  name='Haaland'\n",
        "))\n",
        "\n",
        "fig.add_trace(go.Scatterpolar(\n",
        "  r=[348, 11, 646],\n",
        "  theta=players,\n",
        "  fill='toself',\n",
        "  name='Jesus'\n",
        "))\n",
        "\n",
        "fig.add_trace(go.Scatterpolar(\n",
        "  r=[33, 14, 404],\n",
        "  theta=players,\n",
        "  fill='toself',\n",
        "  name='Sancho'\n",
        "))\n",
        "\n",
        "fig.update_layout(\n",
        "  polar=dict(\n",
        "    radialaxis=dict(\n",
        "      visible=True,\n",
        "      range=[0, 700]\n",
        "    ),\n",
        "  ),\n",
        "  showlegend=False\n",
        ")\n",
        "\n",
        "fig.show()"
      ],
      "metadata": {
        "colab": {
          "base_uri": "https://localhost:8080/",
          "height": 542
        },
        "id": "j6MyU3wvca4A",
        "outputId": "d452e296-7bf9-4c2a-8ef3-66112be01e92"
      },
      "execution_count": null,
      "outputs": [
        {
          "output_type": "display_data",
          "data": {
            "text/html": [
              "<html>\n",
              "<head><meta charset=\"utf-8\" /></head>\n",
              "<body>\n",
              "    <div>            <script src=\"https://cdnjs.cloudflare.com/ajax/libs/mathjax/2.7.5/MathJax.js?config=TeX-AMS-MML_SVG\"></script><script type=\"text/javascript\">if (window.MathJax) {MathJax.Hub.Config({SVG: {font: \"STIX-Web\"}});}</script>                <script type=\"text/javascript\">window.PlotlyConfig = {MathJaxConfig: 'local'};</script>\n",
              "        <script src=\"https://cdn.plot.ly/plotly-2.8.3.min.js\"></script>                <div id=\"68707656-d1c9-4b0c-bbd2-571660886876\" class=\"plotly-graph-div\" style=\"height:525px; width:100%;\"></div>            <script type=\"text/javascript\">                                    window.PLOTLYENV=window.PLOTLYENV || {};                                    if (document.getElementById(\"68707656-d1c9-4b0c-bbd2-571660886876\")) {                    Plotly.newPlot(                        \"68707656-d1c9-4b0c-bbd2-571660886876\",                        [{\"fill\":\"toself\",\"name\":\"Haaland\",\"r\":[378,58,264],\"theta\":[\"Positive\",\"Negative\",\"Neutral\"],\"type\":\"scatterpolar\"},{\"fill\":\"toself\",\"name\":\"Jesus\",\"r\":[348,11,646],\"theta\":[\"Positive\",\"Negative\",\"Neutral\"],\"type\":\"scatterpolar\"},{\"fill\":\"toself\",\"name\":\"Sancho\",\"r\":[33,14,404],\"theta\":[\"Positive\",\"Negative\",\"Neutral\"],\"type\":\"scatterpolar\"}],                        {\"template\":{\"data\":{\"bar\":[{\"error_x\":{\"color\":\"#2a3f5f\"},\"error_y\":{\"color\":\"#2a3f5f\"},\"marker\":{\"line\":{\"color\":\"#E5ECF6\",\"width\":0.5},\"pattern\":{\"fillmode\":\"overlay\",\"size\":10,\"solidity\":0.2}},\"type\":\"bar\"}],\"barpolar\":[{\"marker\":{\"line\":{\"color\":\"#E5ECF6\",\"width\":0.5},\"pattern\":{\"fillmode\":\"overlay\",\"size\":10,\"solidity\":0.2}},\"type\":\"barpolar\"}],\"carpet\":[{\"aaxis\":{\"endlinecolor\":\"#2a3f5f\",\"gridcolor\":\"white\",\"linecolor\":\"white\",\"minorgridcolor\":\"white\",\"startlinecolor\":\"#2a3f5f\"},\"baxis\":{\"endlinecolor\":\"#2a3f5f\",\"gridcolor\":\"white\",\"linecolor\":\"white\",\"minorgridcolor\":\"white\",\"startlinecolor\":\"#2a3f5f\"},\"type\":\"carpet\"}],\"choropleth\":[{\"colorbar\":{\"outlinewidth\":0,\"ticks\":\"\"},\"type\":\"choropleth\"}],\"contour\":[{\"colorbar\":{\"outlinewidth\":0,\"ticks\":\"\"},\"colorscale\":[[0.0,\"#0d0887\"],[0.1111111111111111,\"#46039f\"],[0.2222222222222222,\"#7201a8\"],[0.3333333333333333,\"#9c179e\"],[0.4444444444444444,\"#bd3786\"],[0.5555555555555556,\"#d8576b\"],[0.6666666666666666,\"#ed7953\"],[0.7777777777777778,\"#fb9f3a\"],[0.8888888888888888,\"#fdca26\"],[1.0,\"#f0f921\"]],\"type\":\"contour\"}],\"contourcarpet\":[{\"colorbar\":{\"outlinewidth\":0,\"ticks\":\"\"},\"type\":\"contourcarpet\"}],\"heatmap\":[{\"colorbar\":{\"outlinewidth\":0,\"ticks\":\"\"},\"colorscale\":[[0.0,\"#0d0887\"],[0.1111111111111111,\"#46039f\"],[0.2222222222222222,\"#7201a8\"],[0.3333333333333333,\"#9c179e\"],[0.4444444444444444,\"#bd3786\"],[0.5555555555555556,\"#d8576b\"],[0.6666666666666666,\"#ed7953\"],[0.7777777777777778,\"#fb9f3a\"],[0.8888888888888888,\"#fdca26\"],[1.0,\"#f0f921\"]],\"type\":\"heatmap\"}],\"heatmapgl\":[{\"colorbar\":{\"outlinewidth\":0,\"ticks\":\"\"},\"colorscale\":[[0.0,\"#0d0887\"],[0.1111111111111111,\"#46039f\"],[0.2222222222222222,\"#7201a8\"],[0.3333333333333333,\"#9c179e\"],[0.4444444444444444,\"#bd3786\"],[0.5555555555555556,\"#d8576b\"],[0.6666666666666666,\"#ed7953\"],[0.7777777777777778,\"#fb9f3a\"],[0.8888888888888888,\"#fdca26\"],[1.0,\"#f0f921\"]],\"type\":\"heatmapgl\"}],\"histogram\":[{\"marker\":{\"pattern\":{\"fillmode\":\"overlay\",\"size\":10,\"solidity\":0.2}},\"type\":\"histogram\"}],\"histogram2d\":[{\"colorbar\":{\"outlinewidth\":0,\"ticks\":\"\"},\"colorscale\":[[0.0,\"#0d0887\"],[0.1111111111111111,\"#46039f\"],[0.2222222222222222,\"#7201a8\"],[0.3333333333333333,\"#9c179e\"],[0.4444444444444444,\"#bd3786\"],[0.5555555555555556,\"#d8576b\"],[0.6666666666666666,\"#ed7953\"],[0.7777777777777778,\"#fb9f3a\"],[0.8888888888888888,\"#fdca26\"],[1.0,\"#f0f921\"]],\"type\":\"histogram2d\"}],\"histogram2dcontour\":[{\"colorbar\":{\"outlinewidth\":0,\"ticks\":\"\"},\"colorscale\":[[0.0,\"#0d0887\"],[0.1111111111111111,\"#46039f\"],[0.2222222222222222,\"#7201a8\"],[0.3333333333333333,\"#9c179e\"],[0.4444444444444444,\"#bd3786\"],[0.5555555555555556,\"#d8576b\"],[0.6666666666666666,\"#ed7953\"],[0.7777777777777778,\"#fb9f3a\"],[0.8888888888888888,\"#fdca26\"],[1.0,\"#f0f921\"]],\"type\":\"histogram2dcontour\"}],\"mesh3d\":[{\"colorbar\":{\"outlinewidth\":0,\"ticks\":\"\"},\"type\":\"mesh3d\"}],\"parcoords\":[{\"line\":{\"colorbar\":{\"outlinewidth\":0,\"ticks\":\"\"}},\"type\":\"parcoords\"}],\"pie\":[{\"automargin\":true,\"type\":\"pie\"}],\"scatter\":[{\"marker\":{\"colorbar\":{\"outlinewidth\":0,\"ticks\":\"\"}},\"type\":\"scatter\"}],\"scatter3d\":[{\"line\":{\"colorbar\":{\"outlinewidth\":0,\"ticks\":\"\"}},\"marker\":{\"colorbar\":{\"outlinewidth\":0,\"ticks\":\"\"}},\"type\":\"scatter3d\"}],\"scattercarpet\":[{\"marker\":{\"colorbar\":{\"outlinewidth\":0,\"ticks\":\"\"}},\"type\":\"scattercarpet\"}],\"scattergeo\":[{\"marker\":{\"colorbar\":{\"outlinewidth\":0,\"ticks\":\"\"}},\"type\":\"scattergeo\"}],\"scattergl\":[{\"marker\":{\"colorbar\":{\"outlinewidth\":0,\"ticks\":\"\"}},\"type\":\"scattergl\"}],\"scattermapbox\":[{\"marker\":{\"colorbar\":{\"outlinewidth\":0,\"ticks\":\"\"}},\"type\":\"scattermapbox\"}],\"scatterpolar\":[{\"marker\":{\"colorbar\":{\"outlinewidth\":0,\"ticks\":\"\"}},\"type\":\"scatterpolar\"}],\"scatterpolargl\":[{\"marker\":{\"colorbar\":{\"outlinewidth\":0,\"ticks\":\"\"}},\"type\":\"scatterpolargl\"}],\"scatterternary\":[{\"marker\":{\"colorbar\":{\"outlinewidth\":0,\"ticks\":\"\"}},\"type\":\"scatterternary\"}],\"surface\":[{\"colorbar\":{\"outlinewidth\":0,\"ticks\":\"\"},\"colorscale\":[[0.0,\"#0d0887\"],[0.1111111111111111,\"#46039f\"],[0.2222222222222222,\"#7201a8\"],[0.3333333333333333,\"#9c179e\"],[0.4444444444444444,\"#bd3786\"],[0.5555555555555556,\"#d8576b\"],[0.6666666666666666,\"#ed7953\"],[0.7777777777777778,\"#fb9f3a\"],[0.8888888888888888,\"#fdca26\"],[1.0,\"#f0f921\"]],\"type\":\"surface\"}],\"table\":[{\"cells\":{\"fill\":{\"color\":\"#EBF0F8\"},\"line\":{\"color\":\"white\"}},\"header\":{\"fill\":{\"color\":\"#C8D4E3\"},\"line\":{\"color\":\"white\"}},\"type\":\"table\"}]},\"layout\":{\"annotationdefaults\":{\"arrowcolor\":\"#2a3f5f\",\"arrowhead\":0,\"arrowwidth\":1},\"autotypenumbers\":\"strict\",\"coloraxis\":{\"colorbar\":{\"outlinewidth\":0,\"ticks\":\"\"}},\"colorscale\":{\"diverging\":[[0,\"#8e0152\"],[0.1,\"#c51b7d\"],[0.2,\"#de77ae\"],[0.3,\"#f1b6da\"],[0.4,\"#fde0ef\"],[0.5,\"#f7f7f7\"],[0.6,\"#e6f5d0\"],[0.7,\"#b8e186\"],[0.8,\"#7fbc41\"],[0.9,\"#4d9221\"],[1,\"#276419\"]],\"sequential\":[[0.0,\"#0d0887\"],[0.1111111111111111,\"#46039f\"],[0.2222222222222222,\"#7201a8\"],[0.3333333333333333,\"#9c179e\"],[0.4444444444444444,\"#bd3786\"],[0.5555555555555556,\"#d8576b\"],[0.6666666666666666,\"#ed7953\"],[0.7777777777777778,\"#fb9f3a\"],[0.8888888888888888,\"#fdca26\"],[1.0,\"#f0f921\"]],\"sequentialminus\":[[0.0,\"#0d0887\"],[0.1111111111111111,\"#46039f\"],[0.2222222222222222,\"#7201a8\"],[0.3333333333333333,\"#9c179e\"],[0.4444444444444444,\"#bd3786\"],[0.5555555555555556,\"#d8576b\"],[0.6666666666666666,\"#ed7953\"],[0.7777777777777778,\"#fb9f3a\"],[0.8888888888888888,\"#fdca26\"],[1.0,\"#f0f921\"]]},\"colorway\":[\"#636efa\",\"#EF553B\",\"#00cc96\",\"#ab63fa\",\"#FFA15A\",\"#19d3f3\",\"#FF6692\",\"#B6E880\",\"#FF97FF\",\"#FECB52\"],\"font\":{\"color\":\"#2a3f5f\"},\"geo\":{\"bgcolor\":\"white\",\"lakecolor\":\"white\",\"landcolor\":\"#E5ECF6\",\"showlakes\":true,\"showland\":true,\"subunitcolor\":\"white\"},\"hoverlabel\":{\"align\":\"left\"},\"hovermode\":\"closest\",\"mapbox\":{\"style\":\"light\"},\"paper_bgcolor\":\"white\",\"plot_bgcolor\":\"#E5ECF6\",\"polar\":{\"angularaxis\":{\"gridcolor\":\"white\",\"linecolor\":\"white\",\"ticks\":\"\"},\"bgcolor\":\"#E5ECF6\",\"radialaxis\":{\"gridcolor\":\"white\",\"linecolor\":\"white\",\"ticks\":\"\"}},\"scene\":{\"xaxis\":{\"backgroundcolor\":\"#E5ECF6\",\"gridcolor\":\"white\",\"gridwidth\":2,\"linecolor\":\"white\",\"showbackground\":true,\"ticks\":\"\",\"zerolinecolor\":\"white\"},\"yaxis\":{\"backgroundcolor\":\"#E5ECF6\",\"gridcolor\":\"white\",\"gridwidth\":2,\"linecolor\":\"white\",\"showbackground\":true,\"ticks\":\"\",\"zerolinecolor\":\"white\"},\"zaxis\":{\"backgroundcolor\":\"#E5ECF6\",\"gridcolor\":\"white\",\"gridwidth\":2,\"linecolor\":\"white\",\"showbackground\":true,\"ticks\":\"\",\"zerolinecolor\":\"white\"}},\"shapedefaults\":{\"line\":{\"color\":\"#2a3f5f\"}},\"ternary\":{\"aaxis\":{\"gridcolor\":\"white\",\"linecolor\":\"white\",\"ticks\":\"\"},\"baxis\":{\"gridcolor\":\"white\",\"linecolor\":\"white\",\"ticks\":\"\"},\"bgcolor\":\"#E5ECF6\",\"caxis\":{\"gridcolor\":\"white\",\"linecolor\":\"white\",\"ticks\":\"\"}},\"title\":{\"x\":0.05},\"xaxis\":{\"automargin\":true,\"gridcolor\":\"white\",\"linecolor\":\"white\",\"ticks\":\"\",\"title\":{\"standoff\":15},\"zerolinecolor\":\"white\",\"zerolinewidth\":2},\"yaxis\":{\"automargin\":true,\"gridcolor\":\"white\",\"linecolor\":\"white\",\"ticks\":\"\",\"title\":{\"standoff\":15},\"zerolinecolor\":\"white\",\"zerolinewidth\":2}}},\"polar\":{\"radialaxis\":{\"visible\":true,\"range\":[0,700]}},\"showlegend\":false},                        {\"responsive\": true}                    ).then(function(){\n",
              "                            \n",
              "var gd = document.getElementById('68707656-d1c9-4b0c-bbd2-571660886876');\n",
              "var x = new MutationObserver(function (mutations, observer) {{\n",
              "        var display = window.getComputedStyle(gd).display;\n",
              "        if (!display || display === 'none') {{\n",
              "            console.log([gd, 'removed!']);\n",
              "            Plotly.purge(gd);\n",
              "            observer.disconnect();\n",
              "        }}\n",
              "}});\n",
              "\n",
              "// Listen for the removal of the full notebook cells\n",
              "var notebookContainer = gd.closest('#notebook-container');\n",
              "if (notebookContainer) {{\n",
              "    x.observe(notebookContainer, {childList: true});\n",
              "}}\n",
              "\n",
              "// Listen for the clearing of the current output cell\n",
              "var outputEl = gd.closest('.output');\n",
              "if (outputEl) {{\n",
              "    x.observe(outputEl, {childList: true});\n",
              "}}\n",
              "\n",
              "                        })                };                            </script>        </div>\n",
              "</body>\n",
              "</html>"
            ]
          },
          "metadata": {}
        }
      ]
    },
    {
      "cell_type": "markdown",
      "source": [
        "Multi Linear"
      ],
      "metadata": {
        "id": "nenErQe4r6e4"
      }
    },
    {
      "cell_type": "code",
      "source": [
        "#Importing the libraries\n",
        "import pandas as pd\n",
        "import numpy as np\n",
        "import matplotlib.pyplot as plt\n",
        "import seaborn as sns\n",
        "import sklearn.metrics as metrics"
      ],
      "metadata": {
        "id": "YiCEFSb2SVGr"
      },
      "execution_count": null,
      "outputs": []
    },
    {
      "cell_type": "code",
      "source": [
        "#Reading the dataset\n",
        "dataset = pd.read_csv(\"toptransfers.csv\")"
      ],
      "metadata": {
        "id": "fqlwjVHeSVRw"
      },
      "execution_count": null,
      "outputs": []
    },
    {
      "cell_type": "code",
      "source": [
        "dataset.head()"
      ],
      "metadata": {
        "colab": {
          "base_uri": "https://localhost:8080/",
          "height": 206
        },
        "id": "YZcbHAA5SVYp",
        "outputId": "20d55f47-ee54-44c4-f620-d18e711062ad"
      },
      "execution_count": null,
      "outputs": [
        {
          "output_type": "execute_result",
          "data": {
            "text/plain": [
              "               Name  Age        Team_from   League_from          Team_to  \\\n",
              "0    Julian Draxler   21    FC Schalke 04  1.Bundesliga    VfL Wolfsburg   \n",
              "1      Arturo Vidal   28         Juventus       Serie A   Bayern Munich    \n",
              "2     Douglas Costa   24      Shakhtar D.  Premier Liga   Bayern Munich    \n",
              "3  Charles Aránguiz   26    Internacional       Série A  Bay. Leverkusen   \n",
              "4         Max Kruse   27  Bor. M'gladbach  1.Bundesliga    VfL Wolfsburg   \n",
              "\n",
              "      League_to     Season  marketvalue       fee  \n",
              "0  1.Bundesliga  2015-2016     22000000  43000000  \n",
              "1  1.Bundesliga  2015-2016     42000000  37500000  \n",
              "2  1.Bundesliga  2015-2016     23000000  30000000  \n",
              "3  1.Bundesliga  2015-2016      9500000  13000000  \n",
              "4  1.Bundesliga  2015-2016     12000000  12000000  "
            ],
            "text/html": [
              "\n",
              "  <div id=\"df-817aad9e-5be6-4f28-b5a4-e9e485e0bc3e\">\n",
              "    <div class=\"colab-df-container\">\n",
              "      <div>\n",
              "<style scoped>\n",
              "    .dataframe tbody tr th:only-of-type {\n",
              "        vertical-align: middle;\n",
              "    }\n",
              "\n",
              "    .dataframe tbody tr th {\n",
              "        vertical-align: top;\n",
              "    }\n",
              "\n",
              "    .dataframe thead th {\n",
              "        text-align: right;\n",
              "    }\n",
              "</style>\n",
              "<table border=\"1\" class=\"dataframe\">\n",
              "  <thead>\n",
              "    <tr style=\"text-align: right;\">\n",
              "      <th></th>\n",
              "      <th>Name</th>\n",
              "      <th>Age</th>\n",
              "      <th>Team_from</th>\n",
              "      <th>League_from</th>\n",
              "      <th>Team_to</th>\n",
              "      <th>League_to</th>\n",
              "      <th>Season</th>\n",
              "      <th>marketvalue</th>\n",
              "      <th>fee</th>\n",
              "    </tr>\n",
              "  </thead>\n",
              "  <tbody>\n",
              "    <tr>\n",
              "      <th>0</th>\n",
              "      <td>Julian Draxler</td>\n",
              "      <td>21</td>\n",
              "      <td>FC Schalke 04</td>\n",
              "      <td>1.Bundesliga</td>\n",
              "      <td>VfL Wolfsburg</td>\n",
              "      <td>1.Bundesliga</td>\n",
              "      <td>2015-2016</td>\n",
              "      <td>22000000</td>\n",
              "      <td>43000000</td>\n",
              "    </tr>\n",
              "    <tr>\n",
              "      <th>1</th>\n",
              "      <td>Arturo Vidal</td>\n",
              "      <td>28</td>\n",
              "      <td>Juventus</td>\n",
              "      <td>Serie A</td>\n",
              "      <td>Bayern Munich</td>\n",
              "      <td>1.Bundesliga</td>\n",
              "      <td>2015-2016</td>\n",
              "      <td>42000000</td>\n",
              "      <td>37500000</td>\n",
              "    </tr>\n",
              "    <tr>\n",
              "      <th>2</th>\n",
              "      <td>Douglas Costa</td>\n",
              "      <td>24</td>\n",
              "      <td>Shakhtar D.</td>\n",
              "      <td>Premier Liga</td>\n",
              "      <td>Bayern Munich</td>\n",
              "      <td>1.Bundesliga</td>\n",
              "      <td>2015-2016</td>\n",
              "      <td>23000000</td>\n",
              "      <td>30000000</td>\n",
              "    </tr>\n",
              "    <tr>\n",
              "      <th>3</th>\n",
              "      <td>Charles Aránguiz</td>\n",
              "      <td>26</td>\n",
              "      <td>Internacional</td>\n",
              "      <td>Série A</td>\n",
              "      <td>Bay. Leverkusen</td>\n",
              "      <td>1.Bundesliga</td>\n",
              "      <td>2015-2016</td>\n",
              "      <td>9500000</td>\n",
              "      <td>13000000</td>\n",
              "    </tr>\n",
              "    <tr>\n",
              "      <th>4</th>\n",
              "      <td>Max Kruse</td>\n",
              "      <td>27</td>\n",
              "      <td>Bor. M'gladbach</td>\n",
              "      <td>1.Bundesliga</td>\n",
              "      <td>VfL Wolfsburg</td>\n",
              "      <td>1.Bundesliga</td>\n",
              "      <td>2015-2016</td>\n",
              "      <td>12000000</td>\n",
              "      <td>12000000</td>\n",
              "    </tr>\n",
              "  </tbody>\n",
              "</table>\n",
              "</div>\n",
              "      <button class=\"colab-df-convert\" onclick=\"convertToInteractive('df-817aad9e-5be6-4f28-b5a4-e9e485e0bc3e')\"\n",
              "              title=\"Convert this dataframe to an interactive table.\"\n",
              "              style=\"display:none;\">\n",
              "        \n",
              "  <svg xmlns=\"http://www.w3.org/2000/svg\" height=\"24px\"viewBox=\"0 0 24 24\"\n",
              "       width=\"24px\">\n",
              "    <path d=\"M0 0h24v24H0V0z\" fill=\"none\"/>\n",
              "    <path d=\"M18.56 5.44l.94 2.06.94-2.06 2.06-.94-2.06-.94-.94-2.06-.94 2.06-2.06.94zm-11 1L8.5 8.5l.94-2.06 2.06-.94-2.06-.94L8.5 2.5l-.94 2.06-2.06.94zm10 10l.94 2.06.94-2.06 2.06-.94-2.06-.94-.94-2.06-.94 2.06-2.06.94z\"/><path d=\"M17.41 7.96l-1.37-1.37c-.4-.4-.92-.59-1.43-.59-.52 0-1.04.2-1.43.59L10.3 9.45l-7.72 7.72c-.78.78-.78 2.05 0 2.83L4 21.41c.39.39.9.59 1.41.59.51 0 1.02-.2 1.41-.59l7.78-7.78 2.81-2.81c.8-.78.8-2.07 0-2.86zM5.41 20L4 18.59l7.72-7.72 1.47 1.35L5.41 20z\"/>\n",
              "  </svg>\n",
              "      </button>\n",
              "      \n",
              "  <style>\n",
              "    .colab-df-container {\n",
              "      display:flex;\n",
              "      flex-wrap:wrap;\n",
              "      gap: 12px;\n",
              "    }\n",
              "\n",
              "    .colab-df-convert {\n",
              "      background-color: #E8F0FE;\n",
              "      border: none;\n",
              "      border-radius: 50%;\n",
              "      cursor: pointer;\n",
              "      display: none;\n",
              "      fill: #1967D2;\n",
              "      height: 32px;\n",
              "      padding: 0 0 0 0;\n",
              "      width: 32px;\n",
              "    }\n",
              "\n",
              "    .colab-df-convert:hover {\n",
              "      background-color: #E2EBFA;\n",
              "      box-shadow: 0px 1px 2px rgba(60, 64, 67, 0.3), 0px 1px 3px 1px rgba(60, 64, 67, 0.15);\n",
              "      fill: #174EA6;\n",
              "    }\n",
              "\n",
              "    [theme=dark] .colab-df-convert {\n",
              "      background-color: #3B4455;\n",
              "      fill: #D2E3FC;\n",
              "    }\n",
              "\n",
              "    [theme=dark] .colab-df-convert:hover {\n",
              "      background-color: #434B5C;\n",
              "      box-shadow: 0px 1px 3px 1px rgba(0, 0, 0, 0.15);\n",
              "      filter: drop-shadow(0px 1px 2px rgba(0, 0, 0, 0.3));\n",
              "      fill: #FFFFFF;\n",
              "    }\n",
              "  </style>\n",
              "\n",
              "      <script>\n",
              "        const buttonEl =\n",
              "          document.querySelector('#df-817aad9e-5be6-4f28-b5a4-e9e485e0bc3e button.colab-df-convert');\n",
              "        buttonEl.style.display =\n",
              "          google.colab.kernel.accessAllowed ? 'block' : 'none';\n",
              "\n",
              "        async function convertToInteractive(key) {\n",
              "          const element = document.querySelector('#df-817aad9e-5be6-4f28-b5a4-e9e485e0bc3e');\n",
              "          const dataTable =\n",
              "            await google.colab.kernel.invokeFunction('convertToInteractive',\n",
              "                                                     [key], {});\n",
              "          if (!dataTable) return;\n",
              "\n",
              "          const docLinkHtml = 'Like what you see? Visit the ' +\n",
              "            '<a target=\"_blank\" href=https://colab.research.google.com/notebooks/data_table.ipynb>data table notebook</a>'\n",
              "            + ' to learn more about interactive tables.';\n",
              "          element.innerHTML = '';\n",
              "          dataTable['output_type'] = 'display_data';\n",
              "          await google.colab.output.renderOutput(dataTable, element);\n",
              "          const docLink = document.createElement('div');\n",
              "          docLink.innerHTML = docLinkHtml;\n",
              "          element.appendChild(docLink);\n",
              "        }\n",
              "      </script>\n",
              "    </div>\n",
              "  </div>\n",
              "  "
            ]
          },
          "metadata": {},
          "execution_count": 39
        }
      ]
    },
    {
      "cell_type": "code",
      "source": [
        "dataset.shape"
      ],
      "metadata": {
        "colab": {
          "base_uri": "https://localhost:8080/"
        },
        "id": "KXP1vYTuSVgI",
        "outputId": "28a4adb4-87bf-47a8-c2b8-8707c60c7d04"
      },
      "execution_count": null,
      "outputs": [
        {
          "output_type": "execute_result",
          "data": {
            "text/plain": [
              "(765, 9)"
            ]
          },
          "metadata": {},
          "execution_count": 40
        }
      ]
    },
    {
      "cell_type": "code",
      "source": [
        "dataset.isna().sum()"
      ],
      "metadata": {
        "colab": {
          "base_uri": "https://localhost:8080/"
        },
        "id": "fWgk7OgsSVmg",
        "outputId": "7e620bcb-23fd-4314-9ad8-9ccd8d233bfb"
      },
      "execution_count": null,
      "outputs": [
        {
          "output_type": "execute_result",
          "data": {
            "text/plain": [
              "Name           0\n",
              "Age            0\n",
              "Team_from      0\n",
              "League_from    0\n",
              "Team_to        0\n",
              "League_to      0\n",
              "Season         0\n",
              "marketvalue    0\n",
              "fee            0\n",
              "dtype: int64"
            ]
          },
          "metadata": {},
          "execution_count": 41
        }
      ]
    },
    {
      "cell_type": "code",
      "source": [
        "dataset.duplicated().any()"
      ],
      "metadata": {
        "colab": {
          "base_uri": "https://localhost:8080/"
        },
        "id": "W-N3eYoiSVtL",
        "outputId": "2647a28a-2710-4811-9e41-ec8938968329"
      },
      "execution_count": null,
      "outputs": [
        {
          "output_type": "execute_result",
          "data": {
            "text/plain": [
              "False"
            ]
          },
          "metadata": {},
          "execution_count": 42
        }
      ]
    },
    {
      "cell_type": "code",
      "source": [
        "fig, axs = plt.subplots(3, figsize = (5,5))\n",
        "plt1 = sns.boxplot(dataset['fee'], ax = axs[0])\n",
        "plt2 = sns.boxplot(dataset['marketvalue'], ax = axs[1])\n",
        "plt3 = sns.boxplot(dataset['Age'], ax = axs[2])\n",
        "plt.tight_layout()"
      ],
      "metadata": {
        "colab": {
          "base_uri": "https://localhost:8080/",
          "height": 493
        },
        "id": "lqCiRyLESVzm",
        "outputId": "a0ea056d-5cc4-4368-dce8-d81f9916842f"
      },
      "execution_count": null,
      "outputs": [
        {
          "output_type": "stream",
          "name": "stderr",
          "text": [
            "/usr/local/lib/python3.7/dist-packages/seaborn/_decorators.py:43: FutureWarning: Pass the following variable as a keyword arg: x. From version 0.12, the only valid positional argument will be `data`, and passing other arguments without an explicit keyword will result in an error or misinterpretation.\n",
            "  FutureWarning\n",
            "/usr/local/lib/python3.7/dist-packages/seaborn/_decorators.py:43: FutureWarning: Pass the following variable as a keyword arg: x. From version 0.12, the only valid positional argument will be `data`, and passing other arguments without an explicit keyword will result in an error or misinterpretation.\n",
            "  FutureWarning\n",
            "/usr/local/lib/python3.7/dist-packages/seaborn/_decorators.py:43: FutureWarning: Pass the following variable as a keyword arg: x. From version 0.12, the only valid positional argument will be `data`, and passing other arguments without an explicit keyword will result in an error or misinterpretation.\n",
            "  FutureWarning\n"
          ]
        },
        {
          "output_type": "display_data",
          "data": {
            "text/plain": [
              "<Figure size 360x360 with 3 Axes>"
            ],
            "image/png": "[encoded data removed]"
          },
          "metadata": {
            "needs_background": "light"
          }
        }
      ]
    },
    {
      "cell_type": "code",
      "source": [
        "sns.distplot(dataset['fee']);"
      ],
      "metadata": {
        "colab": {
          "base_uri": "https://localhost:8080/",
          "height": 345
        },
        "id": "gZJ1G9dQSV6O",
        "outputId": "c0a9c68b-1f2d-4e65-ddc8-41ce47be2fe5"
      },
      "execution_count": null,
      "outputs": [
        {
          "output_type": "stream",
          "name": "stderr",
          "text": [
            "/usr/local/lib/python3.7/dist-packages/seaborn/distributions.py:2619: FutureWarning: `distplot` is a deprecated function and will be removed in a future version. Please adapt your code to use either `displot` (a figure-level function with similar flexibility) or `histplot` (an axes-level function for histograms).\n",
            "  warnings.warn(msg, FutureWarning)\n"
          ]
        },
        {
          "output_type": "display_data",
          "data": {
            "text/plain": [
              "<Figure size 432x288 with 1 Axes>"
            ],
            "image/png": "[encoded data removed]"
          },
          "metadata": {
            "needs_background": "light"
          }
        }
      ]
    },
    {
      "cell_type": "code",
      "source": [
        "sns.distplot(dataset['marketvalue']);"
      ],
      "metadata": {
        "colab": {
          "base_uri": "https://localhost:8080/",
          "height": 345
        },
        "id": "u9WL0xj3YGqh",
        "outputId": "e0f389b6-0fe2-45cb-dfdf-7c47dbc4b1ae"
      },
      "execution_count": null,
      "outputs": [
        {
          "output_type": "stream",
          "name": "stderr",
          "text": [
            "/usr/local/lib/python3.7/dist-packages/seaborn/distributions.py:2619: FutureWarning: `distplot` is a deprecated function and will be removed in a future version. Please adapt your code to use either `displot` (a figure-level function with similar flexibility) or `histplot` (an axes-level function for histograms).\n",
            "  warnings.warn(msg, FutureWarning)\n"
          ]
        },
        {
          "output_type": "display_data",
          "data": {
            "text/plain": [
              "<Figure size 432x288 with 1 Axes>"
            ],
            "image/png": "[encoded data removed]"
          },
          "metadata": {
            "needs_background": "light"
          }
        }
      ]
    },
    {
      "cell_type": "code",
      "source": [
        "sns.distplot(dataset['Age']);"
      ],
      "metadata": {
        "colab": {
          "base_uri": "https://localhost:8080/",
          "height": 661
        },
        "id": "rsbS6dkyN8zm",
        "outputId": "2fe5a838-89d5-45c8-b4c1-3022ee3a53d1"
      },
      "execution_count": null,
      "outputs": [
        {
          "output_type": "stream",
          "name": "stderr",
          "text": [
            "/usr/local/lib/python3.7/dist-packages/seaborn/distributions.py:2619: FutureWarning: `distplot` is a deprecated function and will be removed in a future version. Please adapt your code to use either `displot` (a figure-level function with similar flexibility) or `histplot` (an axes-level function for histograms).\n",
            "  warnings.warn(msg, FutureWarning)\n"
          ]
        },
        {
          "output_type": "display_data",
          "data": {
            "text/plain": [
              "<Figure size 1440x720 with 1 Axes>"
            ],
            "image/png": "[encoded data removed]"
          },
          "metadata": {
            "needs_background": "light"
          }
        }
      ]
    },
    {
      "cell_type": "code",
      "source": [
        "sns.pairplot(dataset, x_vars=['Age'], y_vars='fee', height=4, aspect=1, kind='scatter')\n",
        "plt.show()"
      ],
      "metadata": {
        "colab": {
          "base_uri": "https://localhost:8080/",
          "height": 303
        },
        "id": "_6eFmcpCSWA7",
        "outputId": "6333aa4f-36be-4846-cb5c-88b9e795f810"
      },
      "execution_count": null,
      "outputs": [
        {
          "output_type": "display_data",
          "data": {
            "text/plain": [
              "<Figure size 288x288 with 1 Axes>"
            ],
            "image/png": "[encoded data removed]"
          },
          "metadata": {
            "needs_background": "light"
          }
        }
      ]
    },
    {
      "cell_type": "code",
      "source": [
        "sns.heatmap(dataset.corr(), annot = True)\n",
        "plt.show()"
      ],
      "metadata": {
        "colab": {
          "base_uri": "https://localhost:8080/",
          "height": 596
        },
        "id": "o9aKK8dNSWIJ",
        "outputId": "57608c2c-c6c7-4058-a94c-4c89e467f034"
      },
      "execution_count": null,
      "outputs": [
        {
          "output_type": "display_data",
          "data": {
            "text/plain": [
              "<Figure size 1440x720 with 2 Axes>"
            ],
            "image/png": "[encoded data removed]"
          },
          "metadata": {
            "needs_background": "light"
          }
        }
      ]
    },
    {
      "cell_type": "code",
      "source": [
        "import pandas as pd\n",
        "import numpy as np\n",
        "import matplotlib.pyplot as plt\n",
        "import seaborn as sns"
      ],
      "metadata": {
        "id": "kh-OGbU-p6Id"
      },
      "execution_count": null,
      "outputs": []
    },
    {
      "cell_type": "code",
      "source": [
        "dataset = pd.read_csv(\"toptransfers.csv\")\n",
        "\n",
        "dataset.head()\n",
        "\n",
        "x = dataset[['marketvalue', 'Age']]\n",
        "y = dataset['fee']\n",
        "\n",
        "x_train, x_test, y_train, y_test= train_test_split(x, y, test_size= 0.20, random_state=100)\n",
        "\n",
        "mlr= LinearRegression()  \n",
        "mlr.fit(x_train, y_train)\n",
        "\n",
        "#Printing the model coefficients\n",
        "print(mlr.intercept_)\n",
        "# pair the feature names with the coefficients\n",
        "list(zip(x, mlr.coef_))\n",
        "\n",
        "#Predicting the Test and Train set result \n",
        "y_pred_mlr= mlr.predict(x_test)  \n",
        "x_pred_mlr= mlr.predict(x_train)\n",
        "\n",
        "print(\"Prediction for test set: {}\".format(y_pred_mlr))\n",
        "\n",
        "#Actual value and the predicted value\n",
        "mlr_diff = pd.DataFrame({'Actual value': y_test, 'Predicted value': y_pred_mlr})\n",
        "mlr_diff\n",
        "\n"
      ],
      "metadata": {
        "colab": {
          "base_uri": "https://localhost:8080/",
          "height": 1349
        },
        "id": "9suIOX3Jp77-",
        "outputId": "531bf0bb-9a6c-4ad9-da84-89af1d89914b"
      },
      "execution_count": null,
      "outputs": [
        {
          "output_type": "stream",
          "name": "stdout",
          "text": [
            "16338450.478526315\n",
            "Prediction for test set: [25922880.97167838  7635428.09249269 11631531.02352739 30368284.71787436\n",
            " 29572172.40233303 34629207.69746415 26616503.9724385  13874730.75958162\n",
            " 32732819.46178998 18685791.69923783 22987710.40474011 18053662.28734644\n",
            " 20541184.20899951 58971482.47713259 11325715.24905982  5841529.17159973\n",
            " 38176009.81333758  8899686.91627547  8429888.23815795 10755079.42603716\n",
            " 26616503.9724385  11510196.015666    9490820.60225437 17462528.60136753\n",
            " 14342877.26782307 14893015.22788949  6941805.09173257 35811475.06942196\n",
            "  4618266.07372944 17544520.0531925  12610471.93579884 11346213.11201606\n",
            " 11305217.38610357 11305217.38610357 10081954.28823328 26025370.2864596\n",
            " 53651279.30332245  8185566.05255911 21214309.34680339 19909054.79710812\n",
            "  8961180.5051442  27921758.52213377  7676423.81840518 37075733.89320474\n",
            " 13792739.30775665 22987710.40474011  8899686.91627547 20459192.75717454\n",
            " 11978342.52390745  8349548.95620905  8226561.77847159 13690249.99297544\n",
            " 23578844.09071901 33915086.83374779 13690249.99297544 12528480.48397387\n",
            " 19786067.61937067 18562804.52150037  5250395.48562083 18767783.1510628\n",
            " 13160609.89586526  8247059.64142784  5372060.92745743  7696921.68136142\n",
            " 16280261.22940973  6962302.95468881 27798771.34439631 10081954.28823328\n",
            " 20397699.16830581 10796075.15194964 13710747.85593168 24169977.77669792\n",
            " 13874730.75958162  5862027.03455598 11916848.93503872 15016002.40562695\n",
            " 39440268.63712036  5412726.2193947   5229897.62266458  9408829.1504294\n",
            " 10714083.70012467  8940682.64218796 14465864.44556052 79298808.63268615\n",
            " 11896351.07208248 14913513.09084573  9552314.1911231   7635428.09249269\n",
            " 12507982.62101763 21682455.85504484  6473658.58349112 22478568.17058617\n",
            " 39440268.63712036  9449824.87634189  3497492.29064036 14975006.67971446\n",
            " 13078618.44404029 13119614.16995277  7126285.85833875 18603800.24741286\n",
            " 18726787.42515032  4659261.79964192 29654163.854158   14975006.67971446\n",
            " 13078618.44404029  8349548.95620905  4047630.25070678  5270893.34857707\n",
            " 22864723.22700265  5881533.59558658  9572812.05407934  8858691.19036298\n",
            " 16218767.640541   21805443.03278229 23660835.54254398 15056998.13153943\n",
            "  5944018.48638095  8206063.91551535 24169977.77669792 10632092.2482997\n",
            " 17503524.32728002 15566140.36569336  6309675.67984118  9490820.60225437\n",
            " 10632092.2482997   7023796.54355754 12610471.93579884 13201605.62177774\n",
            "  3415500.83881539 38258001.26516255  4088625.97661926 17544520.0531925\n",
            "  5718541.99386228 21214309.34680339 27207637.65841741  8206063.91551535\n",
            " 21132317.89497842 33323953.14776888 20500188.48308703  8838193.32740674\n",
            " 13099116.30699653 33323953.14776888 22905718.95291513 15730123.26934331\n",
            "  5147906.17083961 23455856.91298155 36484600.20722584 13792739.30775665\n",
            "  4067467.24571259 11305217.38610357  9572812.05407934 60358728.47865283\n",
            " 40031402.32309926]\n"
          ]
        },
        {
          "output_type": "execute_result",
          "data": {
            "text/plain": [
              "     Actual value  Predicted value\n",
              "173      10000000     2.592288e+07\n",
              "252      15000000     7.635428e+06\n",
              "207      11500000     1.163153e+07\n",
              "490      24500000     3.036828e+07\n",
              "191      22500000     2.957217e+07\n",
              "..            ...              ...\n",
              "762       5000000     4.067467e+06\n",
              "203      12500000     1.130522e+07\n",
              "216       7500000     9.572812e+06\n",
              "404      66000000     6.035873e+07\n",
              "668      30000000     4.003140e+07\n",
              "\n",
              "[153 rows x 2 columns]"
            ],
            "text/html": [
              "\n",
              "  <div id=\"df-c810dc73-6641-48d1-8879-6aaa912a747c\">\n",
              "    <div class=\"colab-df-container\">\n",
              "      <div>\n",
              "<style scoped>\n",
              "    .dataframe tbody tr th:only-of-type {\n",
              "        vertical-align: middle;\n",
              "    }\n",
              "\n",
              "    .dataframe tbody tr th {\n",
              "        vertical-align: top;\n",
              "    }\n",
              "\n",
              "    .dataframe thead th {\n",
              "        text-align: right;\n",
              "    }\n",
              "</style>\n",
              "<table border=\"1\" class=\"dataframe\">\n",
              "  <thead>\n",
              "    <tr style=\"text-align: right;\">\n",
              "      <th></th>\n",
              "      <th>Actual value</th>\n",
              "      <th>Predicted value</th>\n",
              "    </tr>\n",
              "  </thead>\n",
              "  <tbody>\n",
              "    <tr>\n",
              "      <th>173</th>\n",
              "      <td>10000000</td>\n",
              "      <td>2.592288e+07</td>\n",
              "    </tr>\n",
              "    <tr>\n",
              "      <th>252</th>\n",
              "      <td>15000000</td>\n",
              "      <td>7.635428e+06</td>\n",
              "    </tr>\n",
              "    <tr>\n",
              "      <th>207</th>\n",
              "      <td>11500000</td>\n",
              "      <td>1.163153e+07</td>\n",
              "    </tr>\n",
              "    <tr>\n",
              "      <th>490</th>\n",
              "      <td>24500000</td>\n",
              "      <td>3.036828e+07</td>\n",
              "    </tr>\n",
              "    <tr>\n",
              "      <th>191</th>\n",
              "      <td>22500000</td>\n",
              "      <td>2.957217e+07</td>\n",
              "    </tr>\n",
              "    <tr>\n",
              "      <th>...</th>\n",
              "      <td>...</td>\n",
              "      <td>...</td>\n",
              "    </tr>\n",
              "    <tr>\n",
              "      <th>762</th>\n",
              "      <td>5000000</td>\n",
              "      <td>4.067467e+06</td>\n",
              "    </tr>\n",
              "    <tr>\n",
              "      <th>203</th>\n",
              "      <td>12500000</td>\n",
              "      <td>1.130522e+07</td>\n",
              "    </tr>\n",
              "    <tr>\n",
              "      <th>216</th>\n",
              "      <td>7500000</td>\n",
              "      <td>9.572812e+06</td>\n",
              "    </tr>\n",
              "    <tr>\n",
              "      <th>404</th>\n",
              "      <td>66000000</td>\n",
              "      <td>6.035873e+07</td>\n",
              "    </tr>\n",
              "    <tr>\n",
              "      <th>668</th>\n",
              "      <td>30000000</td>\n",
              "      <td>4.003140e+07</td>\n",
              "    </tr>\n",
              "  </tbody>\n",
              "</table>\n",
              "<p>153 rows × 2 columns</p>\n",
              "</div>\n",
              "      <button class=\"colab-df-convert\" onclick=\"convertToInteractive('df-c810dc73-6641-48d1-8879-6aaa912a747c')\"\n",
              "              title=\"Convert this dataframe to an interactive table.\"\n",
              "              style=\"display:none;\">\n",
              "        \n",
              "  <svg xmlns=\"http://www.w3.org/2000/svg\" height=\"24px\"viewBox=\"0 0 24 24\"\n",
              "       width=\"24px\">\n",
              "    <path d=\"M0 0h24v24H0V0z\" fill=\"none\"/>\n",
              "    <path d=\"M18.56 5.44l.94 2.06.94-2.06 2.06-.94-2.06-.94-.94-2.06-.94 2.06-2.06.94zm-11 1L8.5 8.5l.94-2.06 2.06-.94-2.06-.94L8.5 2.5l-.94 2.06-2.06.94zm10 10l.94 2.06.94-2.06 2.06-.94-2.06-.94-.94-2.06-.94 2.06-2.06.94z\"/><path d=\"M17.41 7.96l-1.37-1.37c-.4-.4-.92-.59-1.43-.59-.52 0-1.04.2-1.43.59L10.3 9.45l-7.72 7.72c-.78.78-.78 2.05 0 2.83L4 21.41c.39.39.9.59 1.41.59.51 0 1.02-.2 1.41-.59l7.78-7.78 2.81-2.81c.8-.78.8-2.07 0-2.86zM5.41 20L4 18.59l7.72-7.72 1.47 1.35L5.41 20z\"/>\n",
              "  </svg>\n",
              "      </button>\n",
              "      \n",
              "  <style>\n",
              "    .colab-df-container {\n",
              "      display:flex;\n",
              "      flex-wrap:wrap;\n",
              "      gap: 12px;\n",
              "    }\n",
              "\n",
              "    .colab-df-convert {\n",
              "      background-color: #E8F0FE;\n",
              "      border: none;\n",
              "      border-radius: 50%;\n",
              "      cursor: pointer;\n",
              "      display: none;\n",
              "      fill: #1967D2;\n",
              "      height: 32px;\n",
              "      padding: 0 0 0 0;\n",
              "      width: 32px;\n",
              "    }\n",
              "\n",
              "    .colab-df-convert:hover {\n",
              "      background-color: #E2EBFA;\n",
              "      box-shadow: 0px 1px 2px rgba(60, 64, 67, 0.3), 0px 1px 3px 1px rgba(60, 64, 67, 0.15);\n",
              "      fill: #174EA6;\n",
              "    }\n",
              "\n",
              "    [theme=dark] .colab-df-convert {\n",
              "      background-color: #3B4455;\n",
              "      fill: #D2E3FC;\n",
              "    }\n",
              "\n",
              "    [theme=dark] .colab-df-convert:hover {\n",
              "      background-color: #434B5C;\n",
              "      box-shadow: 0px 1px 3px 1px rgba(0, 0, 0, 0.15);\n",
              "      filter: drop-shadow(0px 1px 2px rgba(0, 0, 0, 0.3));\n",
              "      fill: #FFFFFF;\n",
              "    }\n",
              "  </style>\n",
              "\n",
              "      <script>\n",
              "        const buttonEl =\n",
              "          document.querySelector('#df-c810dc73-6641-48d1-8879-6aaa912a747c button.colab-df-convert');\n",
              "        buttonEl.style.display =\n",
              "          google.colab.kernel.accessAllowed ? 'block' : 'none';\n",
              "\n",
              "        async function convertToInteractive(key) {\n",
              "          const element = document.querySelector('#df-c810dc73-6641-48d1-8879-6aaa912a747c');\n",
              "          const dataTable =\n",
              "            await google.colab.kernel.invokeFunction('convertToInteractive',\n",
              "                                                     [key], {});\n",
              "          if (!dataTable) return;\n",
              "\n",
              "          const docLinkHtml = 'Like what you see? Visit the ' +\n",
              "            '<a target=\"_blank\" href=https://colab.research.google.com/notebooks/data_table.ipynb>data table notebook</a>'\n",
              "            + ' to learn more about interactive tables.';\n",
              "          element.innerHTML = '';\n",
              "          dataTable['output_type'] = 'display_data';\n",
              "          await google.colab.output.renderOutput(dataTable, element);\n",
              "          const docLink = document.createElement('div');\n",
              "          docLink.innerHTML = docLinkHtml;\n",
              "          element.appendChild(docLink);\n",
              "        }\n",
              "      </script>\n",
              "    </div>\n",
              "  </div>\n",
              "  "
            ]
          },
          "metadata": {},
          "execution_count": 51
        }
      ]
    },
    {
      "cell_type": "code",
      "source": [
        "#Predict for any value\n",
        "mlr.predict([[23000000, 24]])"
      ],
      "metadata": {
        "colab": {
          "base_uri": "https://localhost:8080/"
        },
        "id": "3T9qUwZGPHz7",
        "outputId": "436d07fd-af61-4089-958b-9fda445009fe"
      },
      "execution_count": null,
      "outputs": [
        {
          "output_type": "stream",
          "name": "stderr",
          "text": [
            "/usr/local/lib/python3.7/dist-packages/sklearn/base.py:451: UserWarning: X does not have valid feature names, but LinearRegression was fitted with feature names\n",
            "  \"X does not have valid feature names, but\"\n"
          ]
        },
        {
          "output_type": "execute_result",
          "data": {
            "text/plain": [
              "array([30286293.26604939])"
            ]
          },
          "metadata": {},
          "execution_count": 178
        }
      ]
    },
    {
      "cell_type": "code",
      "source": [
        "# print the R-squared value for the model\n",
        "print('R squared value of the model: {:.2f}'.format(mlr.score(x,y)*100))"
      ],
      "metadata": {
        "colab": {
          "base_uri": "https://localhost:8080/"
        },
        "id": "abSfo-RgPUDW",
        "outputId": "6e061524-6c77-4b87-ee30-e8ac20504c4b"
      },
      "execution_count": null,
      "outputs": [
        {
          "output_type": "stream",
          "name": "stdout",
          "text": [
            "R squared value of the model: 73.92\n"
          ]
        }
      ]
    },
    {
      "cell_type": "code",
      "source": [
        "# 0 means the model is perfect. Therefore the value should be as close to 0 as possible\n",
        "meanAbErr = metrics.mean_absolute_error(y_test, y_pred_mlr)\n",
        "meanSqErr = metrics.mean_squared_error(y_test, y_pred_mlr)\n",
        "rootMeanSqErr = np.sqrt(metrics.mean_squared_error(y_test, y_pred_mlr))\n",
        "\n",
        "print('Mean Absolute Error:', meanAbErr)\n",
        "print('Mean Square Error:', meanSqErr)\n",
        "print('Root Mean Square Error:', rootMeanSqErr)"
      ],
      "metadata": {
        "id": "M_l6TWwxS5QQ",
        "outputId": "5d98daa5-e466-4219-9da3-8a299fbf0b0b",
        "colab": {
          "base_uri": "https://localhost:8080/"
        }
      },
      "execution_count": null,
      "outputs": [
        {
          "output_type": "stream",
          "name": "stdout",
          "text": [
            "Mean Absolute Error: 5320218.636300767\n",
            "Mean Square Error: 55342106101915.18\n",
            "Root Mean Square Error: 7439227.520510122\n"
          ]
        }
      ]
    },
    {
      "cell_type": "markdown",
      "source": [
        "***Single Linear***"
      ],
      "metadata": {
        "id": "anq2PlsJsDPQ"
      }
    },
    {
      "cell_type": "code",
      "source": [
        "#Importing the libraries\n",
        "import pandas as pd\n",
        "import numpy as np\n",
        "import matplotlib.pyplot as plt\n",
        "import seaborn as sns"
      ],
      "metadata": {
        "id": "jmG-EpTMtbKg"
      },
      "execution_count": null,
      "outputs": []
    },
    {
      "cell_type": "code",
      "source": [
        "#Reading the dataset\n",
        "dataset = pd.read_csv(\"toptransfers.csv\")"
      ],
      "metadata": {
        "id": "UFR7qDObQBTI"
      },
      "execution_count": null,
      "outputs": []
    },
    {
      "cell_type": "code",
      "source": [
        "dataset.head()"
      ],
      "metadata": {
        "colab": {
          "base_uri": "https://localhost:8080/",
          "height": 206
        },
        "id": "i_7FoHQ-QDve",
        "outputId": "be65b9d0-66ad-48b2-ecf1-82ce8c80da9a"
      },
      "execution_count": null,
      "outputs": [
        {
          "output_type": "execute_result",
          "data": {
            "text/plain": [
              "               Name  Age        Team_from   League_from          Team_to  \\\n",
              "0    Julian Draxler   21    FC Schalke 04  1.Bundesliga    VfL Wolfsburg   \n",
              "1      Arturo Vidal   28         Juventus       Serie A   Bayern Munich    \n",
              "2     Douglas Costa   24      Shakhtar D.  Premier Liga   Bayern Munich    \n",
              "3  Charles Aránguiz   26    Internacional       Série A  Bay. Leverkusen   \n",
              "4         Max Kruse   27  Bor. M'gladbach  1.Bundesliga    VfL Wolfsburg   \n",
              "\n",
              "      League_to     Season  marketvalue       fee  \n",
              "0  1.Bundesliga  2015-2016     22000000  43000000  \n",
              "1  1.Bundesliga  2015-2016     42000000  37500000  \n",
              "2  1.Bundesliga  2015-2016     23000000  30000000  \n",
              "3  1.Bundesliga  2015-2016      9500000  13000000  \n",
              "4  1.Bundesliga  2015-2016     12000000  12000000  "
            ],
            "text/html": [
              "\n",
              "  <div id=\"df-60d129c2-18cd-483e-bffb-abf4de893fdf\">\n",
              "    <div class=\"colab-df-container\">\n",
              "      <div>\n",
              "<style scoped>\n",
              "    .dataframe tbody tr th:only-of-type {\n",
              "        vertical-align: middle;\n",
              "    }\n",
              "\n",
              "    .dataframe tbody tr th {\n",
              "        vertical-align: top;\n",
              "    }\n",
              "\n",
              "    .dataframe thead th {\n",
              "        text-align: right;\n",
              "    }\n",
              "</style>\n",
              "<table border=\"1\" class=\"dataframe\">\n",
              "  <thead>\n",
              "    <tr style=\"text-align: right;\">\n",
              "      <th></th>\n",
              "      <th>Name</th>\n",
              "      <th>Age</th>\n",
              "      <th>Team_from</th>\n",
              "      <th>League_from</th>\n",
              "      <th>Team_to</th>\n",
              "      <th>League_to</th>\n",
              "      <th>Season</th>\n",
              "      <th>marketvalue</th>\n",
              "      <th>fee</th>\n",
              "    </tr>\n",
              "  </thead>\n",
              "  <tbody>\n",
              "    <tr>\n",
              "      <th>0</th>\n",
              "      <td>Julian Draxler</td>\n",
              "      <td>21</td>\n",
              "      <td>FC Schalke 04</td>\n",
              "      <td>1.Bundesliga</td>\n",
              "      <td>VfL Wolfsburg</td>\n",
              "      <td>1.Bundesliga</td>\n",
              "      <td>2015-2016</td>\n",
              "      <td>22000000</td>\n",
              "      <td>43000000</td>\n",
              "    </tr>\n",
              "    <tr>\n",
              "      <th>1</th>\n",
              "      <td>Arturo Vidal</td>\n",
              "      <td>28</td>\n",
              "      <td>Juventus</td>\n",
              "      <td>Serie A</td>\n",
              "      <td>Bayern Munich</td>\n",
              "      <td>1.Bundesliga</td>\n",
              "      <td>2015-2016</td>\n",
              "      <td>42000000</td>\n",
              "      <td>37500000</td>\n",
              "    </tr>\n",
              "    <tr>\n",
              "      <th>2</th>\n",
              "      <td>Douglas Costa</td>\n",
              "      <td>24</td>\n",
              "      <td>Shakhtar D.</td>\n",
              "      <td>Premier Liga</td>\n",
              "      <td>Bayern Munich</td>\n",
              "      <td>1.Bundesliga</td>\n",
              "      <td>2015-2016</td>\n",
              "      <td>23000000</td>\n",
              "      <td>30000000</td>\n",
              "    </tr>\n",
              "    <tr>\n",
              "      <th>3</th>\n",
              "      <td>Charles Aránguiz</td>\n",
              "      <td>26</td>\n",
              "      <td>Internacional</td>\n",
              "      <td>Série A</td>\n",
              "      <td>Bay. Leverkusen</td>\n",
              "      <td>1.Bundesliga</td>\n",
              "      <td>2015-2016</td>\n",
              "      <td>9500000</td>\n",
              "      <td>13000000</td>\n",
              "    </tr>\n",
              "    <tr>\n",
              "      <th>4</th>\n",
              "      <td>Max Kruse</td>\n",
              "      <td>27</td>\n",
              "      <td>Bor. M'gladbach</td>\n",
              "      <td>1.Bundesliga</td>\n",
              "      <td>VfL Wolfsburg</td>\n",
              "      <td>1.Bundesliga</td>\n",
              "      <td>2015-2016</td>\n",
              "      <td>12000000</td>\n",
              "      <td>12000000</td>\n",
              "    </tr>\n",
              "  </tbody>\n",
              "</table>\n",
              "</div>\n",
              "      <button class=\"colab-df-convert\" onclick=\"convertToInteractive('df-60d129c2-18cd-483e-bffb-abf4de893fdf')\"\n",
              "              title=\"Convert this dataframe to an interactive table.\"\n",
              "              style=\"display:none;\">\n",
              "        \n",
              "  <svg xmlns=\"http://www.w3.org/2000/svg\" height=\"24px\"viewBox=\"0 0 24 24\"\n",
              "       width=\"24px\">\n",
              "    <path d=\"M0 0h24v24H0V0z\" fill=\"none\"/>\n",
              "    <path d=\"M18.56 5.44l.94 2.06.94-2.06 2.06-.94-2.06-.94-.94-2.06-.94 2.06-2.06.94zm-11 1L8.5 8.5l.94-2.06 2.06-.94-2.06-.94L8.5 2.5l-.94 2.06-2.06.94zm10 10l.94 2.06.94-2.06 2.06-.94-2.06-.94-.94-2.06-.94 2.06-2.06.94z\"/><path d=\"M17.41 7.96l-1.37-1.37c-.4-.4-.92-.59-1.43-.59-.52 0-1.04.2-1.43.59L10.3 9.45l-7.72 7.72c-.78.78-.78 2.05 0 2.83L4 21.41c.39.39.9.59 1.41.59.51 0 1.02-.2 1.41-.59l7.78-7.78 2.81-2.81c.8-.78.8-2.07 0-2.86zM5.41 20L4 18.59l7.72-7.72 1.47 1.35L5.41 20z\"/>\n",
              "  </svg>\n",
              "      </button>\n",
              "      \n",
              "  <style>\n",
              "    .colab-df-container {\n",
              "      display:flex;\n",
              "      flex-wrap:wrap;\n",
              "      gap: 12px;\n",
              "    }\n",
              "\n",
              "    .colab-df-convert {\n",
              "      background-color: #E8F0FE;\n",
              "      border: none;\n",
              "      border-radius: 50%;\n",
              "      cursor: pointer;\n",
              "      display: none;\n",
              "      fill: #1967D2;\n",
              "      height: 32px;\n",
              "      padding: 0 0 0 0;\n",
              "      width: 32px;\n",
              "    }\n",
              "\n",
              "    .colab-df-convert:hover {\n",
              "      background-color: #E2EBFA;\n",
              "      box-shadow: 0px 1px 2px rgba(60, 64, 67, 0.3), 0px 1px 3px 1px rgba(60, 64, 67, 0.15);\n",
              "      fill: #174EA6;\n",
              "    }\n",
              "\n",
              "    [theme=dark] .colab-df-convert {\n",
              "      background-color: #3B4455;\n",
              "      fill: #D2E3FC;\n",
              "    }\n",
              "\n",
              "    [theme=dark] .colab-df-convert:hover {\n",
              "      background-color: #434B5C;\n",
              "      box-shadow: 0px 1px 3px 1px rgba(0, 0, 0, 0.15);\n",
              "      filter: drop-shadow(0px 1px 2px rgba(0, 0, 0, 0.3));\n",
              "      fill: #FFFFFF;\n",
              "    }\n",
              "  </style>\n",
              "\n",
              "      <script>\n",
              "        const buttonEl =\n",
              "          document.querySelector('#df-60d129c2-18cd-483e-bffb-abf4de893fdf button.colab-df-convert');\n",
              "        buttonEl.style.display =\n",
              "          google.colab.kernel.accessAllowed ? 'block' : 'none';\n",
              "\n",
              "        async function convertToInteractive(key) {\n",
              "          const element = document.querySelector('#df-60d129c2-18cd-483e-bffb-abf4de893fdf');\n",
              "          const dataTable =\n",
              "            await google.colab.kernel.invokeFunction('convertToInteractive',\n",
              "                                                     [key], {});\n",
              "          if (!dataTable) return;\n",
              "\n",
              "          const docLinkHtml = 'Like what you see? Visit the ' +\n",
              "            '<a target=\"_blank\" href=https://colab.research.google.com/notebooks/data_table.ipynb>data table notebook</a>'\n",
              "            + ' to learn more about interactive tables.';\n",
              "          element.innerHTML = '';\n",
              "          dataTable['output_type'] = 'display_data';\n",
              "          await google.colab.output.renderOutput(dataTable, element);\n",
              "          const docLink = document.createElement('div');\n",
              "          docLink.innerHTML = docLinkHtml;\n",
              "          element.appendChild(docLink);\n",
              "        }\n",
              "      </script>\n",
              "    </div>\n",
              "  </div>\n",
              "  "
            ]
          },
          "metadata": {},
          "execution_count": 66
        }
      ]
    },
    {
      "cell_type": "code",
      "source": [
        "dataset.shape"
      ],
      "metadata": {
        "colab": {
          "base_uri": "https://localhost:8080/"
        },
        "id": "vuWD1quZQF8d",
        "outputId": "f23c7d42-afd7-4238-c2ae-eb66c52b021b"
      },
      "execution_count": null,
      "outputs": [
        {
          "output_type": "execute_result",
          "data": {
            "text/plain": [
              "(765, 9)"
            ]
          },
          "metadata": {},
          "execution_count": 67
        }
      ]
    },
    {
      "cell_type": "code",
      "source": [
        "dataset.isna().sum()"
      ],
      "metadata": {
        "colab": {
          "base_uri": "https://localhost:8080/"
        },
        "id": "RKtDl1CkQJVY",
        "outputId": "2954d19d-311d-4e5c-b6b9-43fe92566449"
      },
      "execution_count": null,
      "outputs": [
        {
          "output_type": "execute_result",
          "data": {
            "text/plain": [
              "Name           0\n",
              "Age            0\n",
              "Team_from      0\n",
              "League_from    0\n",
              "Team_to        0\n",
              "League_to      0\n",
              "Season         0\n",
              "marketvalue    0\n",
              "fee            0\n",
              "dtype: int64"
            ]
          },
          "metadata": {},
          "execution_count": 68
        }
      ]
    },
    {
      "cell_type": "code",
      "source": [
        "dataset.duplicated().any()"
      ],
      "metadata": {
        "colab": {
          "base_uri": "https://localhost:8080/"
        },
        "id": "6ghZqWFeQLeZ",
        "outputId": "9b27d12f-747d-4de0-e1c1-618b77123b7a"
      },
      "execution_count": null,
      "outputs": [
        {
          "output_type": "execute_result",
          "data": {
            "text/plain": [
              "False"
            ]
          },
          "metadata": {},
          "execution_count": 69
        }
      ]
    },
    {
      "cell_type": "code",
      "source": [
        "fig, axs = plt.subplots(2, figsize = (5,5))\n",
        "plt1 = sns.boxplot(dataset['fee'], ax = axs[0])\n",
        "plt2 = sns.boxplot(dataset['marketvalue'], ax = axs[1])\n",
        "plt.tight_layout()"
      ],
      "metadata": {
        "colab": {
          "base_uri": "https://localhost:8080/",
          "height": 528
        },
        "id": "4-I6191gQNQ-",
        "outputId": "065b34db-c234-482f-d71b-a78d5f7adcc0"
      },
      "execution_count": null,
      "outputs": [
        {
          "output_type": "stream",
          "name": "stderr",
          "text": [
            "/usr/local/lib/python3.7/dist-packages/seaborn/_decorators.py:43: FutureWarning:\n",
            "\n",
            "Pass the following variable as a keyword arg: x. From version 0.12, the only valid positional argument will be `data`, and passing other arguments without an explicit keyword will result in an error or misinterpretation.\n",
            "\n",
            "/usr/local/lib/python3.7/dist-packages/seaborn/_decorators.py:43: FutureWarning:\n",
            "\n",
            "Pass the following variable as a keyword arg: x. From version 0.12, the only valid positional argument will be `data`, and passing other arguments without an explicit keyword will result in an error or misinterpretation.\n",
            "\n"
          ]
        },
        {
          "output_type": "display_data",
          "data": {
            "text/plain": [
              "<Figure size 360x360 with 2 Axes>"
            ],
            "image/png": "[encoded data removed]"
          },
          "metadata": {
            "needs_background": "light"
          }
        }
      ]
    },
    {
      "cell_type": "code",
      "source": [
        "sns.distplot(dataset['fee']);"
      ],
      "metadata": {
        "colab": {
          "base_uri": "https://localhost:8080/",
          "height": 705
        },
        "id": "O5Pwe-9BQZfl",
        "outputId": "b07cf1af-86ca-4347-c467-f639941d2932"
      },
      "execution_count": null,
      "outputs": [
        {
          "output_type": "stream",
          "name": "stderr",
          "text": [
            "/usr/local/lib/python3.7/dist-packages/seaborn/distributions.py:2619: FutureWarning:\n",
            "\n",
            "`distplot` is a deprecated function and will be removed in a future version. Please adapt your code to use either `displot` (a figure-level function with similar flexibility) or `histplot` (an axes-level function for histograms).\n",
            "\n"
          ]
        },
        {
          "output_type": "display_data",
          "data": {
            "text/plain": [
              "<Figure size 1440x720 with 1 Axes>"
            ],
            "image/png": "[encoded data removed]"
          },
          "metadata": {
            "needs_background": "light"
          }
        }
      ]
    },
    {
      "cell_type": "code",
      "source": [
        "sns.pairplot(dataset, x_vars=['marketvalue'], y_vars='fee', height=4, aspect=1, kind='scatter')\n",
        "plt.show()"
      ],
      "metadata": {
        "colab": {
          "base_uri": "https://localhost:8080/",
          "height": 303
        },
        "id": "DGmM2p-5QqAA",
        "outputId": "2b3cdaee-d240-4249-f913-ecef5df3c60a"
      },
      "execution_count": null,
      "outputs": [
        {
          "output_type": "display_data",
          "data": {
            "text/plain": [
              "<Figure size 288x288 with 1 Axes>"
            ],
            "image/png": "[encoded data removed]"
          },
          "metadata": {
            "needs_background": "light"
          }
        }
      ]
    },
    {
      "cell_type": "code",
      "source": [
        "sns.heatmap(dataset.corr(), annot = True)\n",
        "plt.show()"
      ],
      "metadata": {
        "colab": {
          "base_uri": "https://localhost:8080/",
          "height": 596
        },
        "id": "9Ra7V8ulQ2xr",
        "outputId": "b19e1c4f-c375-4f27-bcce-11377565cf39"
      },
      "execution_count": null,
      "outputs": [
        {
          "output_type": "display_data",
          "data": {
            "text/plain": [
              "<Figure size 1440x720 with 2 Axes>"
            ],
            "image/png": "[encoded data removed]"
          },
          "metadata": {
            "needs_background": "light"
          }
        }
      ]
    },
    {
      "cell_type": "code",
      "source": [
        "from sklearn.model_selection import train_test_split\n",
        "from sklearn.linear_model import LinearRegression\n",
        "from sklearn import metrics"
      ],
      "metadata": {
        "id": "UxrMOnNBQ368"
      },
      "execution_count": null,
      "outputs": []
    },
    {
      "cell_type": "code",
      "source": [
        "#Setting the value for X and Y\n",
        "x = dataset[['fee']]\n",
        "y = dataset['marketvalue']"
      ],
      "metadata": {
        "id": "6uQc1uWyQ9pI"
      },
      "execution_count": null,
      "outputs": []
    },
    {
      "cell_type": "code",
      "source": [
        "x_train, x_test, y_train, y_test = train_test_split(x, y, test_size = 0.3, random_state = 100)"
      ],
      "metadata": {
        "id": "Mr8NJdMNRJnQ"
      },
      "execution_count": null,
      "outputs": []
    },
    {
      "cell_type": "code",
      "source": [
        "slr= LinearRegression()  \n",
        "slr.fit(x_train, y_train)"
      ],
      "metadata": {
        "colab": {
          "base_uri": "https://localhost:8080/"
        },
        "id": "5Ev6vu7lRLf5",
        "outputId": "ca4a672e-a34b-4d11-ddf6-103a85dfaa90"
      },
      "execution_count": null,
      "outputs": [
        {
          "output_type": "execute_result",
          "data": {
            "text/plain": [
              "LinearRegression()"
            ]
          },
          "metadata": {},
          "execution_count": 77
        }
      ]
    },
    {
      "cell_type": "code",
      "source": [
        "#Printing the model coefficients\n",
        "print('Intercept: ', slr.intercept_)\n",
        "print('Coefficient:', slr.coef_)"
      ],
      "metadata": {
        "colab": {
          "base_uri": "https://localhost:8080/"
        },
        "id": "HvYIWxsIRNQD",
        "outputId": "34068635-5a1e-47eb-8653-82bc082f71aa"
      },
      "execution_count": null,
      "outputs": [
        {
          "output_type": "stream",
          "name": "stdout",
          "text": [
            "Intercept:  1954460.898017032\n",
            "Coefficient: [0.59877945]\n"
          ]
        }
      ]
    },
    {
      "cell_type": "code",
      "source": [
        "print('Regression Equation: Sales = 1954460.898017032 + 0.59877945 * Fee')"
      ],
      "metadata": {
        "colab": {
          "base_uri": "https://localhost:8080/"
        },
        "id": "v2xgliWpRPEj",
        "outputId": "06c7384a-8d78-449e-9257-7a4a02add95b"
      },
      "execution_count": null,
      "outputs": [
        {
          "output_type": "stream",
          "name": "stdout",
          "text": [
            "Regression Equation: Sales = 1954460.898017032 + 0.59877945 * Fee\n"
          ]
        }
      ]
    },
    {
      "cell_type": "code",
      "source": [
        "#Line of best fit\n",
        "plt.scatter(x_train, y_train)\n",
        "plt.plot(x_train, 1954460.898017032 + 0.59877945*x_train, 'r')\n",
        "plt.xlabel(\"Fee\")\n",
        "plt.ylabel(\"Market Value\")\n",
        "plt.show()"
      ],
      "metadata": {
        "colab": {
          "base_uri": "https://localhost:8080/",
          "height": 616
        },
        "id": "w1-iXUuzRasx",
        "outputId": "77322fef-f7b2-4642-9e3a-a135c6f44476"
      },
      "execution_count": null,
      "outputs": [
        {
          "output_type": "display_data",
          "data": {
            "text/plain": [
              "<Figure size 1440x720 with 1 Axes>"
            ],
            "image/png": "[encoded data removed]"
          },
          "metadata": {
            "needs_background": "light"
          }
        }
      ]
    },
    {
      "cell_type": "code",
      "source": [
        "#Prediction of Test and Training set result  \n",
        "y_pred_slr= slr.predict(x_test)  \n",
        "x_pred_slr= slr.predict(x_train)  "
      ],
      "metadata": {
        "id": "Fj_zdFLnR0A1"
      },
      "execution_count": null,
      "outputs": []
    },
    {
      "cell_type": "code",
      "source": [
        "print(\"Prediction for test set: {}\".format(y_pred_slr))"
      ],
      "metadata": {
        "colab": {
          "base_uri": "https://localhost:8080/"
        },
        "id": "wHKtIPoDR2Xj",
        "outputId": "ba9df2c2-12c9-403b-8c4b-25eedebe4b6d"
      },
      "execution_count": null,
      "outputs": [
        {
          "output_type": "stream",
          "name": "stdout",
          "text": [
            "Prediction for test set: [ 7942255.39963977 10936152.65045114  8840424.57488318 16624557.42699275\n",
            " 15426998.5266682  15666510.30673311 17522726.60223616  7942255.39963977\n",
            " 22911741.65369663 16923947.15207388  8541034.84980205  7044086.22439636\n",
            " 19917844.40288525 26504418.35467027  6744696.49931522 10936152.65045114\n",
            " 25905638.90450799  5547137.59899068  7103964.16941259  4948358.1488284\n",
            " 29797705.33056278 10337373.20028887  6624940.60928277 16325167.70191161\n",
            "  7942255.39963977 37881227.90775348  7223720.05944504 18959797.28262562\n",
            "  7642865.67455864 12732491.00093796  6145917.04915295  9139814.29996432\n",
            "  7343475.9494775   6744696.49931522  6145917.04915295 18420895.77747957\n",
            " 24708080.00418345  7942255.39963977 12612735.11090551 14049805.79129497\n",
            "  5547137.59899068 13930049.90126251  6445306.77423409 33510137.92156888\n",
            " 13930049.90126251 16385045.64692784  5846527.32407181  7642865.67455864\n",
            "  7642865.67455864  6205794.99416918  7822499.50960732  6445306.77423409\n",
            " 19917844.40288525 19917844.40288525  6744696.49931522  5547137.59899068\n",
            " 10936152.65045114 10636762.92537001  6744696.49931522 10277495.25527264\n",
            "  6145917.04915295  5547137.59899068  6265672.93918541  5247747.87390954\n",
            "  7343475.9494775   9379326.08002923 19917844.40288525  9139814.29996432\n",
            " 10037983.47520773  6744696.49931522 15726388.25174933 19917844.40288525\n",
            "  7822499.50960732  7942255.39963977 11774443.88067833  6565062.66426654\n",
            " 19917844.40288525 11055908.5404836   8750607.65735884  7942255.39963977\n",
            "  4948358.1488284   7343475.9494775   8541034.84980205 55844611.4126217\n",
            "  6145917.04915295 16923947.15207388  7283598.00446127  6145917.04915295\n",
            "  5547137.59899068 25306859.45434572  6744696.49931522 12133711.55077569\n",
            " 25905638.90450799 14828219.07650593  5547137.59899068  7343475.9494775\n",
            " 12732491.00093796 13331270.45110024  6984208.27938013 10337373.20028887\n",
            "  8241645.12472091 10337373.20028887 25905638.90450799 10337373.20028887\n",
            " 11055908.5404836   7343475.9494775   8541034.84980205  7163842.11442882\n",
            " 18540651.66751202  6744696.49931522  7942255.39963977 13930049.90126251\n",
            "  8840424.57488318 15606632.36171688 14528829.35142479  8780546.62986696\n",
            "  5008236.09384463  6744696.49931522 18121506.05239843  9738593.75012659\n",
            " 19259187.00770675  6744696.49931522  8301523.06973714  6145917.04915295\n",
            "  7343475.9494775   5846527.32407181  8241645.12472091  6445306.77423409\n",
            "  8720668.68485073 18121506.05239843  6145917.04915295 16744313.3170252\n",
            "  6445306.77423409 18720285.5025607  13930049.90126251 10936152.65045114\n",
            "  9738593.75012659 28899536.15531936 13930049.90126251  9738593.75012659\n",
            "  9798471.69514282 20816013.57812867 23510521.1038589  13930049.90126251\n",
            "  5427381.70895822 15127608.80158706 16923947.15207388  8840424.57488318\n",
            "  4948358.1488284   9439204.02504546  6445306.77423409 41473904.60872712\n",
            " 19917844.40288525  8301523.06973714  4948358.1488284   5547137.59899068\n",
            " 12732491.00093796  5846527.32407181 72011656.5670031  12492979.22087306\n",
            "  9139814.29996432  6744696.49931522  7642865.67455864  7942255.39963977\n",
            "  7403353.89449373  6744696.49931522  9439204.02504546 20259148.68947775\n",
            "  8541034.84980205  7343475.9494775   9020058.40993187 24109300.55402117\n",
            " 31534165.73603337  9738593.75012659 11534932.10061342 10936152.65045114\n",
            " 19019675.22764184 19917844.40288525 25905638.90450799  7942255.39963977\n",
            "  6445306.77423409  6744696.49931522  9439204.02504546  6145917.04915295\n",
            " 12133711.55077569  8241645.12472091  8960180.46491564  6744696.49931522\n",
            "  9738593.75012659 12732491.00093796 16923947.15207388  9439204.02504546\n",
            " 15726388.25174933  6145917.04915295 12133711.55077569 12133711.55077569\n",
            " 13331270.45110024 10337373.20028887  5966283.21410427 13930049.90126251\n",
            "  6145917.04915295  4948358.1488284  24708080.00418345  9139814.29996432\n",
            "  8720668.68485073 13930049.90126251 15426998.5266682  10876274.70543492\n",
            " 16923947.15207388  9139814.29996432 10756518.81540246 16923947.15207388\n",
            " 19498698.78777166  9918227.58517528  5247747.87390954 43869022.40937622\n",
            "  9738593.75012659 12283406.41331626 16325167.70191161  9139814.29996432\n",
            " 13930049.90126251  6145917.04915295  7403353.89449373  9020058.40993187\n",
            "  6744696.49931522  7044086.22439636  8241645.12472091 13930049.90126251\n",
            "  8541034.84980205 15127608.80158706]\n"
          ]
        }
      ]
    },
    {
      "cell_type": "code",
      "source": [
        "#Actual value and the predicted value\n",
        "slr_diff = pd.DataFrame({'Actual value': y_test, 'Predicted value': y_pred_slr})\n",
        "slr_diff"
      ],
      "metadata": {
        "id": "m9P8b5DwR4m0",
        "colab": {
          "base_uri": "https://localhost:8080/",
          "height": 424
        },
        "outputId": "3fb077e0-d46b-4ca2-ed3d-ce3da3cfdb76"
      },
      "execution_count": null,
      "outputs": [
        {
          "output_type": "execute_result",
          "data": {
            "text/plain": [
              "     Actual value  Predicted value\n",
              "173      17500000     7.942255e+06\n",
              "252       4000000     1.093615e+07\n",
              "207       7750000     8.840425e+06\n",
              "490      25000000     1.662456e+07\n",
              "191      20000000     1.542700e+07\n",
              "..            ...              ...\n",
              "174      15000000     7.044086e+06\n",
              "586       7000000     8.241645e+06\n",
              "374      25000000     1.393005e+07\n",
              "111       8000000     8.541035e+06\n",
              "545      20000000     1.512761e+07\n",
              "\n",
              "[230 rows x 2 columns]"
            ],
            "text/html": [
              "\n",
              "  <div id=\"df-2b0ecc27-dab5-4e69-b9c6-0f96452360d9\">\n",
              "    <div class=\"colab-df-container\">\n",
              "      <div>\n",
              "<style scoped>\n",
              "    .dataframe tbody tr th:only-of-type {\n",
              "        vertical-align: middle;\n",
              "    }\n",
              "\n",
              "    .dataframe tbody tr th {\n",
              "        vertical-align: top;\n",
              "    }\n",
              "\n",
              "    .dataframe thead th {\n",
              "        text-align: right;\n",
              "    }\n",
              "</style>\n",
              "<table border=\"1\" class=\"dataframe\">\n",
              "  <thead>\n",
              "    <tr style=\"text-align: right;\">\n",
              "      <th></th>\n",
              "      <th>Actual value</th>\n",
              "      <th>Predicted value</th>\n",
              "    </tr>\n",
              "  </thead>\n",
              "  <tbody>\n",
              "    <tr>\n",
              "      <th>173</th>\n",
              "      <td>17500000</td>\n",
              "      <td>7.942255e+06</td>\n",
              "    </tr>\n",
              "    <tr>\n",
              "      <th>252</th>\n",
              "      <td>4000000</td>\n",
              "      <td>1.093615e+07</td>\n",
              "    </tr>\n",
              "    <tr>\n",
              "      <th>207</th>\n",
              "      <td>7750000</td>\n",
              "      <td>8.840425e+06</td>\n",
              "    </tr>\n",
              "    <tr>\n",
              "      <th>490</th>\n",
              "      <td>25000000</td>\n",
              "      <td>1.662456e+07</td>\n",
              "    </tr>\n",
              "    <tr>\n",
              "      <th>191</th>\n",
              "      <td>20000000</td>\n",
              "      <td>1.542700e+07</td>\n",
              "    </tr>\n",
              "    <tr>\n",
              "      <th>...</th>\n",
              "      <td>...</td>\n",
              "      <td>...</td>\n",
              "    </tr>\n",
              "    <tr>\n",
              "      <th>174</th>\n",
              "      <td>15000000</td>\n",
              "      <td>7.044086e+06</td>\n",
              "    </tr>\n",
              "    <tr>\n",
              "      <th>586</th>\n",
              "      <td>7000000</td>\n",
              "      <td>8.241645e+06</td>\n",
              "    </tr>\n",
              "    <tr>\n",
              "      <th>374</th>\n",
              "      <td>25000000</td>\n",
              "      <td>1.393005e+07</td>\n",
              "    </tr>\n",
              "    <tr>\n",
              "      <th>111</th>\n",
              "      <td>8000000</td>\n",
              "      <td>8.541035e+06</td>\n",
              "    </tr>\n",
              "    <tr>\n",
              "      <th>545</th>\n",
              "      <td>20000000</td>\n",
              "      <td>1.512761e+07</td>\n",
              "    </tr>\n",
              "  </tbody>\n",
              "</table>\n",
              "<p>230 rows × 2 columns</p>\n",
              "</div>\n",
              "      <button class=\"colab-df-convert\" onclick=\"convertToInteractive('df-2b0ecc27-dab5-4e69-b9c6-0f96452360d9')\"\n",
              "              title=\"Convert this dataframe to an interactive table.\"\n",
              "              style=\"display:none;\">\n",
              "        \n",
              "  <svg xmlns=\"http://www.w3.org/2000/svg\" height=\"24px\"viewBox=\"0 0 24 24\"\n",
              "       width=\"24px\">\n",
              "    <path d=\"M0 0h24v24H0V0z\" fill=\"none\"/>\n",
              "    <path d=\"M18.56 5.44l.94 2.06.94-2.06 2.06-.94-2.06-.94-.94-2.06-.94 2.06-2.06.94zm-11 1L8.5 8.5l.94-2.06 2.06-.94-2.06-.94L8.5 2.5l-.94 2.06-2.06.94zm10 10l.94 2.06.94-2.06 2.06-.94-2.06-.94-.94-2.06-.94 2.06-2.06.94z\"/><path d=\"M17.41 7.96l-1.37-1.37c-.4-.4-.92-.59-1.43-.59-.52 0-1.04.2-1.43.59L10.3 9.45l-7.72 7.72c-.78.78-.78 2.05 0 2.83L4 21.41c.39.39.9.59 1.41.59.51 0 1.02-.2 1.41-.59l7.78-7.78 2.81-2.81c.8-.78.8-2.07 0-2.86zM5.41 20L4 18.59l7.72-7.72 1.47 1.35L5.41 20z\"/>\n",
              "  </svg>\n",
              "      </button>\n",
              "      \n",
              "  <style>\n",
              "    .colab-df-container {\n",
              "      display:flex;\n",
              "      flex-wrap:wrap;\n",
              "      gap: 12px;\n",
              "    }\n",
              "\n",
              "    .colab-df-convert {\n",
              "      background-color: #E8F0FE;\n",
              "      border: none;\n",
              "      border-radius: 50%;\n",
              "      cursor: pointer;\n",
              "      display: none;\n",
              "      fill: #1967D2;\n",
              "      height: 32px;\n",
              "      padding: 0 0 0 0;\n",
              "      width: 32px;\n",
              "    }\n",
              "\n",
              "    .colab-df-convert:hover {\n",
              "      background-color: #E2EBFA;\n",
              "      box-shadow: 0px 1px 2px rgba(60, 64, 67, 0.3), 0px 1px 3px 1px rgba(60, 64, 67, 0.15);\n",
              "      fill: #174EA6;\n",
              "    }\n",
              "\n",
              "    [theme=dark] .colab-df-convert {\n",
              "      background-color: #3B4455;\n",
              "      fill: #D2E3FC;\n",
              "    }\n",
              "\n",
              "    [theme=dark] .colab-df-convert:hover {\n",
              "      background-color: #434B5C;\n",
              "      box-shadow: 0px 1px 3px 1px rgba(0, 0, 0, 0.15);\n",
              "      filter: drop-shadow(0px 1px 2px rgba(0, 0, 0, 0.3));\n",
              "      fill: #FFFFFF;\n",
              "    }\n",
              "  </style>\n",
              "\n",
              "      <script>\n",
              "        const buttonEl =\n",
              "          document.querySelector('#df-2b0ecc27-dab5-4e69-b9c6-0f96452360d9 button.colab-df-convert');\n",
              "        buttonEl.style.display =\n",
              "          google.colab.kernel.accessAllowed ? 'block' : 'none';\n",
              "\n",
              "        async function convertToInteractive(key) {\n",
              "          const element = document.querySelector('#df-2b0ecc27-dab5-4e69-b9c6-0f96452360d9');\n",
              "          const dataTable =\n",
              "            await google.colab.kernel.invokeFunction('convertToInteractive',\n",
              "                                                     [key], {});\n",
              "          if (!dataTable) return;\n",
              "\n",
              "          const docLinkHtml = 'Like what you see? Visit the ' +\n",
              "            '<a target=\"_blank\" href=https://colab.research.google.com/notebooks/data_table.ipynb>data table notebook</a>'\n",
              "            + ' to learn more about interactive tables.';\n",
              "          element.innerHTML = '';\n",
              "          dataTable['output_type'] = 'display_data';\n",
              "          await google.colab.output.renderOutput(dataTable, element);\n",
              "          const docLink = document.createElement('div');\n",
              "          docLink.innerHTML = docLinkHtml;\n",
              "          element.appendChild(docLink);\n",
              "        }\n",
              "      </script>\n",
              "    </div>\n",
              "  </div>\n",
              "  "
            ]
          },
          "metadata": {},
          "execution_count": 83
        }
      ]
    },
    {
      "cell_type": "code",
      "source": [
        "#Predict for any value\n",
        "slr.predict([[9000000]])"
      ],
      "metadata": {
        "colab": {
          "base_uri": "https://localhost:8080/"
        },
        "id": "1bIwD8YUR9fj",
        "outputId": "86da0171-cacf-4039-a0c9-cb9b7d396a94"
      },
      "execution_count": null,
      "outputs": [
        {
          "output_type": "stream",
          "name": "stderr",
          "text": [
            "/usr/local/lib/python3.7/dist-packages/sklearn/base.py:451: UserWarning:\n",
            "\n",
            "X does not have valid feature names, but LinearRegression was fitted with feature names\n",
            "\n"
          ]
        },
        {
          "output_type": "execute_result",
          "data": {
            "text/plain": [
              "array([7343475.9494775])"
            ]
          },
          "metadata": {},
          "execution_count": 84
        }
      ]
    },
    {
      "cell_type": "code",
      "source": [
        "from sklearn.metrics import accuracy_score\n",
        "print('R squared value of the model: {:.2f}'.format(slr.score(x,y)*100))"
      ],
      "metadata": {
        "colab": {
          "base_uri": "https://localhost:8080/"
        },
        "id": "vAvvd_IhSB3f",
        "outputId": "06283469-88d0-4d8a-9ef0-b341081d8fc1"
      },
      "execution_count": null,
      "outputs": [
        {
          "output_type": "stream",
          "name": "stdout",
          "text": [
            "R squared value of the model: 72.52\n"
          ]
        }
      ]
    },
    {
      "cell_type": "code",
      "source": [
        "# 0 means the model is perfect. Therefore the value should be as close to 0 as possible\n",
        "meanAbErr = metrics.mean_absolute_error(y_test, y_pred_slr)\n",
        "meanSqErr = metrics.mean_squared_error(y_test, y_pred_slr)\n",
        "rootMeanSqErr = np.sqrt(metrics.mean_squared_error(y_test, y_pred_slr))\n",
        "\n",
        "print('Mean Absolute Error:', meanAbErr)\n",
        "print('Mean Square Error:', meanSqErr)\n",
        "print('Root Mean Square Error:', rootMeanSqErr)"
      ],
      "metadata": {
        "colab": {
          "base_uri": "https://localhost:8080/"
        },
        "id": "2L1eQhNySFok",
        "outputId": "6e36eefd-042a-4b8a-ed96-b68c65267277"
      },
      "execution_count": null,
      "outputs": [
        {
          "output_type": "stream",
          "name": "stdout",
          "text": [
            "Mean Absolute Error: 4190044.3687812886\n",
            "Mean Square Error: 36826068074340.76\n",
            "Root Mean Square Error: 6068448.572274528\n"
          ]
        }
      ]
    },
    {
      "cell_type": "markdown",
      "source": [
        "New LSTM"
      ],
      "metadata": {
        "id": "2KHhJkEGNqfW"
      }
    },
    {
      "cell_type": "code",
      "source": [
        "import numpy\n",
        "import matplotlib.pyplot as plt\n",
        "import pandas\n",
        "import math\n",
        "from keras.models import Sequential\n",
        "from keras.layers import Dense\n",
        "from keras.layers import LSTM\n",
        "from sklearn.preprocessing import MinMaxScaler\n",
        "from sklearn.metrics import mean_squared_error"
      ],
      "metadata": {
        "id": "lXlNiBOeNaja"
      },
      "execution_count": null,
      "outputs": []
    },
    {
      "cell_type": "code",
      "source": [
        "# fix random seed for reproducibility\n",
        "numpy.random.seed(18)"
      ],
      "metadata": {
        "id": "XTLl6nOoNtPZ"
      },
      "execution_count": null,
      "outputs": []
    },
    {
      "cell_type": "code",
      "source": [
        "# load the dataset\n",
        "dataframe = pandas.read_csv('LSTMTransfers.csv', usecols=[1], engine='python')\n",
        "dataset = dataframe.values\n",
        "dataset = dataset.astype('int')"
      ],
      "metadata": {
        "id": "m9o0N_WCNvno"
      },
      "execution_count": null,
      "outputs": []
    },
    {
      "cell_type": "code",
      "source": [
        "# normalize the dataset\n",
        "scaler = MinMaxScaler(feature_range=(0, 1))\n",
        "dataset = scaler.fit_transform(dataset)"
      ],
      "metadata": {
        "id": "rgZQwV3wOEZQ"
      },
      "execution_count": null,
      "outputs": []
    },
    {
      "cell_type": "code",
      "source": [
        "# split into train and test sets\n",
        "train_size = int(len(dataset) * 0.60)\n",
        "test_size = len(dataset) - train_size\n",
        "train, test = dataset[0:train_size,:], dataset[train_size:len(dataset),:]\n",
        "print(len(train), len(test))"
      ],
      "metadata": {
        "id": "MqFe4ryIOFVi"
      },
      "execution_count": null,
      "outputs": []
    },
    {
      "cell_type": "code",
      "source": [
        "# convert an array of values into a dataset matrix\n",
        "def create_dataset(dataset, look_back=1):\n",
        "\tdataX, dataY = [], []\n",
        "\tfor i in range(len(dataset)-look_back-1):\n",
        "\t\ta = dataset[i:(i+look_back), 0]\n",
        "\t\tdataX.append(a)\n",
        "\t\tdataY.append(dataset[i + look_back, 0])\n",
        "\treturn numpy.array(dataX), numpy.array(dataY)"
      ],
      "metadata": {
        "id": "M-wnBwWlOII8"
      },
      "execution_count": null,
      "outputs": []
    },
    {
      "cell_type": "code",
      "source": [
        "# reshape into X=t and Y=t+1\n",
        "look_back = 1\n",
        "trainX, trainY = create_dataset(train, look_back)\n",
        "testX, testY = create_dataset(test, look_back)"
      ],
      "metadata": {
        "id": "6tprQaWCOPoK"
      },
      "execution_count": null,
      "outputs": []
    },
    {
      "cell_type": "code",
      "source": [
        "# reshape input to be [samples, time steps, features]\n",
        "trainX = numpy.reshape(trainX, (trainX.shape[0], 1, trainX.shape[1]))\n",
        "testX = numpy.reshape(testX, (testX.shape[0], 1, testX.shape[1]))"
      ],
      "metadata": {
        "id": "YlAfAw5yORVx"
      },
      "execution_count": null,
      "outputs": []
    },
    {
      "cell_type": "code",
      "source": [
        "# create and fit the LSTM network\n",
        "model = Sequential()\n",
        "model.add(LSTM(4, input_shape=(1, look_back)))\n",
        "model.add(Dense(1))\n",
        "model.compile(loss='mean_squared_error', optimizer='adam')\n",
        "model.fit(trainX, trainY, epochs=100, batch_size=1, verbose=2)"
      ],
      "metadata": {
        "id": "NB8UR8F7OSGa"
      },
      "execution_count": null,
      "outputs": []
    },
    {
      "cell_type": "code",
      "source": [
        "# make predictions\n",
        "trainPredict = model.predict(trainX)\n",
        "testPredict = model.predict(testX)\n",
        "# invert predictions\n",
        "trainPredict = scaler.inverse_transform(trainPredict)\n",
        "trainY = scaler.inverse_transform([trainY])\n",
        "testPredict = scaler.inverse_transform(testPredict)\n",
        "testY = scaler.inverse_transform([testY])\n",
        "# calculate root mean squared error\n",
        "trainScore = math.sqrt(mean_squared_error(trainY[0], trainPredict[:,0]))\n",
        "print('Train Score: %.2f RMSE' % (trainScore))\n",
        "testScore = math.sqrt(mean_squared_error(testY[0], testPredict[:,0]))\n",
        "print('Test Score: %.2f RMSE' % (testScore))"
      ],
      "metadata": {
        "colab": {
          "base_uri": "https://localhost:8080/"
        },
        "id": "ZNXx4LeIOgc3",
        "outputId": "23aad538-7613-48e2-83de-011e7076bdc0"
      },
      "execution_count": null,
      "outputs": [
        {
          "output_type": "stream",
          "name": "stdout",
          "text": [
            "Train Score: 7384128.80 RMSE\n",
            "Test Score: 10032392.89 RMSE\n"
          ]
        }
      ]
    },
    {
      "cell_type": "code",
      "source": [
        "# shift train predictions for plotting\n",
        "trainPredictPlot = numpy.empty_like(dataset)\n",
        "trainPredictPlot[:, :] = numpy.nan\n",
        "trainPredictPlot[look_back:len(trainPredict)+look_back, :] = trainPredict\n",
        "# shift test predictions for plotting\n",
        "testPredictPlot = numpy.empty_like(dataset)\n",
        "testPredictPlot[:, :] = numpy.nan\n",
        "testPredictPlot[len(trainPredict)+(look_back*2)+1:len(dataset)-1, :] = testPredict\n",
        "# plot baseline and predictions\n",
        "plt.plot(scaler.inverse_transform(dataset))\n",
        "plt.plot(testPredictPlot, color = 'red', label='Actual Value')\n",
        "\n",
        "plt.plot(trainPredictPlot, color = 'blue', label='Predicted Value')\n",
        "plt.title('Player Price Prediction')\n",
        "plt.xlabel(\"Age\")\n",
        "plt.ylabel(\"fee\")\n",
        "plt.show()"
      ],
      "metadata": {
        "colab": {
          "base_uri": "https://localhost:8080/",
          "height": 621
        },
        "id": "oCZQXRrOOjqo",
        "outputId": "7e589121-cc39-4399-fefa-55b1c3bb7e38"
      },
      "execution_count": null,
      "outputs": [
        {
          "output_type": "display_data",
          "data": {
            "text/plain": [
              "<Figure size 1440x720 with 1 Axes>"
            ],
            "image/png": "[encoded data removed]"
          },
          "metadata": {
            "needs_background": "light"
          }
        }
      ]
    },
    {
      "cell_type": "code",
      "source": [
        "# Visualising the results\n",
        "\n",
        "plt.figure(figsize=(14,5))\n",
        "\n",
        "#plt.plot(testPredictPlot[0:y_test.shape[0]-5], color = 'red', label='Actual Value')\n",
        "\n",
        "plt.plot(trainPredictPlot, color = 'blue', label='Predicted Value')\n",
        "\n",
        "plt.title('Player Price Prediction')\n",
        "\n",
        "plt.xlabel('Player Index')\n",
        "\n",
        "plt.ylabel('Fee (£ millions)')\n",
        "\n",
        "plt.legend()\n",
        "\n",
        "plt.show()"
      ],
      "metadata": {
        "colab": {
          "base_uri": "https://localhost:8080/",
          "height": 350
        },
        "id": "9_XIZsQcRd1q",
        "outputId": "0567d2ef-0b39-409e-99a3-2fa6bc549591"
      },
      "execution_count": null,
      "outputs": [
        {
          "output_type": "display_data",
          "data": {
            "text/plain": [
              "<Figure size 1008x360 with 1 Axes>"
            ],
            "image/png": "[encoded data removed]"
          },
          "metadata": {
            "needs_background": "light"
          }
        }
      ]
    },
    {
      "cell_type": "code",
      "source": [
        "# Visualising the results\n",
        "\n",
        "plt.figure(figsize=(14,5))\n",
        "\n",
        "plt.plot(testPredictPlot, color = 'red', label='Actual Value')\n",
        "\n",
        "#plt.plot(trainPredictPlot, color = 'blue', label='Predicted Value')\n",
        "\n",
        "plt.title('Actual Player Price')\n",
        "\n",
        "plt.xlabel('Player Index')\n",
        "\n",
        "plt.ylabel('Fee (£ millions)')\n",
        "\n",
        "plt.legend()\n",
        "\n",
        "plt.show()"
      ],
      "metadata": {
        "colab": {
          "base_uri": "https://localhost:8080/",
          "height": 350
        },
        "id": "6T5VSo09V5n5",
        "outputId": "a7a47904-a1bd-4a5c-b8ef-b58260772983"
      },
      "execution_count": null,
      "outputs": [
        {
          "output_type": "display_data",
          "data": {
            "text/plain": [
              "<Figure size 1008x360 with 1 Axes>"
            ],
            "image/png": "[encoded data removed]"
          },
          "metadata": {
            "needs_background": "light"
          }
        }
      ]
    }
  ]
}